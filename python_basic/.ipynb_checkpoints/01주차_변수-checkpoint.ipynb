{
 "cells": [
  {
   "cell_type": "markdown",
   "metadata": {},
   "source": [
    "# 과제1\n",
    "- 'name'이란 이름의 변수에 본인의 이름을,\n",
    "- 'age'변수에 본인의 나이를 저장한다.\n",
    "- 두 변수에 저장된 값을 다음과 같이 출력한다"
   ]
  },
  {
   "cell_type": "code",
   "execution_count": 5,
   "metadata": {},
   "outputs": [
    {
     "name": "stdout",
     "output_type": "stream",
     "text": [
      "이름을 적으시오 : 박민주\n",
      "나이를 적으시오 : 22\n",
      "\n",
      "제 이름은 박민주 이고 나이는 22 세입니다.\n"
     ]
    }
   ],
   "source": [
    "name = input(\"이름을 적으시오 : \")\n",
    "age = input(\"나이를 적으시오 : \")\n",
    "\n",
    "print(\"\\n제 이름은\", name,\"이고\", \"나이는\", age,\"세입니다.\" )"
   ]
  },
  {
   "cell_type": "markdown",
   "metadata": {},
   "source": [
    "# 과제2\n",
    "- 스트링 변수 'school'에 소속기관 이름을 저장한다\n",
    "- 정수형 변수 'year'에 입학년도를 저장한다\n",
    "- 다음과 같이 출력한다"
   ]
  },
  {
   "cell_type": "code",
   "execution_count": 2,
   "metadata": {},
   "outputs": [
    {
     "name": "stdout",
     "output_type": "stream",
     "text": [
      "소속학교는?동아대학교\n",
      "입학년도는?2018\n",
      "나는 2018 년도 동아대학교 에 입학했다.\n"
     ]
    }
   ],
   "source": [
    "school = input(\"소속학교는? :\")\n",
    "year = input(\"입학년도는? : \")\n",
    "\n",
    "print(\"\\n나는\", year,\"년도\", school,\"에 입학했다.\")"
   ]
  },
  {
   "cell_type": "markdown",
   "metadata": {},
   "source": [
    "# 과제3\n",
    "- 화면에서 실수 2개 입력 받아서 더한 결과를 화면에 출력한다\n",
    "- 저장하는 변수명은 본인이 정한다"
   ]
  },
  {
   "cell_type": "code",
   "execution_count": 3,
   "metadata": {
    "scrolled": true
   },
   "outputs": [
    {
     "name": "stdout",
     "output_type": "stream",
     "text": [
      "실수를 입력하세요 : 20\n",
      "실수를 입력하세요 : 30\n",
      "50\n"
     ]
    }
   ],
   "source": [
    "x = int(input(\"실수를 입력하세요 : \"))\n",
    "y = int(input(\"실수를 입력하세요 : \"))\n",
    "\n",
    "print(x + y)"
   ]
  },
  {
   "cell_type": "markdown",
   "metadata": {},
   "source": [
    "# 과제4\n",
    "- 화면에서 정수를 입력 받아서, 입력 받은 정수의 개수만큼 '*'를 화면에 출력한다"
   ]
  },
  {
   "cell_type": "code",
   "execution_count": 4,
   "metadata": {
    "scrolled": true
   },
   "outputs": [
    {
     "name": "stdout",
     "output_type": "stream",
     "text": [
      "정수를 입력하시오 : 6\n",
      "######\n"
     ]
    }
   ],
   "source": [
    "a = int(input(\"정수를 입력하시오 : \"))\n",
    "\n",
    "print(\"#\"*a)"
   ]
  },
  {
   "cell_type": "markdown",
   "metadata": {},
   "source": [
    "# 과제5\n",
    "- BMI 계산\n",
    "- input 문을 이용하여 체중(kg)/신장(m)^2\n",
    "- 자신의 체중은 변수 weight, 신장은 height에 저장한 후\n",
    "- BMI 값을 계산하여 출력한다\n",
    "- ex. weight = 55(kg), height = 1.70(m)"
   ]
  },
  {
   "cell_type": "code",
   "execution_count": 1,
   "metadata": {},
   "outputs": [
    {
     "name": "stdout",
     "output_type": "stream",
     "text": [
      "몸무게를 입력하시오55\n",
      "키를 입력하시오1.70\n",
      "54.99999999999999\n"
     ]
    }
   ],
   "source": [
    "weight = float(input(\"몸무게를 입력하시오\"))\n",
    "height = float(input(\"키를 입력하시오\"))\n",
    "BMI = (weight / height*height)\n",
    "print(BMI)"
   ]
  }
 ],
 "metadata": {
  "kernelspec": {
   "display_name": "Python 3",
   "language": "python",
   "name": "python3"
  },
  "language_info": {
   "codemirror_mode": {
    "name": "ipython",
    "version": 3
   },
   "file_extension": ".py",
   "mimetype": "text/x-python",
   "name": "python",
   "nbconvert_exporter": "python",
   "pygments_lexer": "ipython3",
   "version": "3.7.3"
  }
 },
 "nbformat": 4,
 "nbformat_minor": 2
}
