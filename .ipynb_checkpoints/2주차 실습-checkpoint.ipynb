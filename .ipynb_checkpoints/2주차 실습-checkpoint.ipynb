{
 "cells": [
  {
   "cell_type": "code",
   "execution_count": 1,
   "metadata": {},
   "outputs": [
    {
     "name": "stdout",
     "output_type": "stream",
     "text": [
      "소속학교를 적으세요 : 동아대학교\n",
      "입학년도를 적으세요 : 2018\n",
      "나는 2018 년도 동아대학교 에 입학했다.\n"
     ]
    }
   ],
   "source": [
    "school = input(\"소속학교를 적으세요 : \")\n",
    "year = input(\"입학년도를 적으세요 : \")\n",
    "print(\"나는\",year,\"년도\", school,\"에 입학했다.\")"
   ]
  },
  {
   "cell_type": "code",
   "execution_count": 5,
   "metadata": {},
   "outputs": [
    {
     "name": "stdout",
     "output_type": "stream",
     "text": [
      "성적을 입력하세요 : 80\n",
      "성적을 입력하세요 : 70\n",
      "성적을 입력하세요 : 30\n",
      "평균은 60.0 점이지만 과락이 존재하므로 불합격입니다.\n"
     ]
    }
   ],
   "source": [
    "kor = input(\"성적을 입력하세요 : \")\n",
    "kor = float(kor)\n",
    "eng = input(\"성적을 입력하세요 : \")\n",
    "eng = float(eng)\n",
    "math = input(\"성적을 입력하세요 : \")\n",
    "math = float(math)\n",
    "\n",
    "avg = (kor + eng + math) / 3\n",
    "\n",
    "if avg >= 60 :\n",
    "    if kor < 40 or eng <40 or math <40 :\n",
    "        print(\"평균은\", avg,\"점이지만 과락이 존재하므로 불합격입니다.\")\n",
    "    else:\n",
    "        print(\"평균은\", avg,\"점이고 과락이 없으므로 합격입니다.\")\n",
    "else:\n",
    "    print(\"평균은\",avg, \"점이므로 불합격입니다.\")"
   ]
  },
  {
   "cell_type": "code",
   "execution_count": 8,
   "metadata": {},
   "outputs": [
    {
     "name": "stdout",
     "output_type": "stream",
     "text": [
      "키를 입력하세요 : 180\n",
      "몸무게를 입력하세요 : 75\n",
      "저체중\n"
     ]
    }
   ],
   "source": [
    "height = float(input(\"키를 입력하세요 : \"))\n",
    "weight = float(input(\"몸무게를 입력하세요 : \"))\n",
    "\n",
    "BMI =  weight / (height*height)\n",
    "\n",
    "if BMI < 18:\n",
    "    print(\"저체중\")\n",
    "elif 18.5 < BMI and BMI < 22.9 :\n",
    "    print(\"정상\")\n",
    "elif 23 < BMI and BMI < 24.9 :\n",
    "    print(\"보기 좋음\")\n",
    "elif 25 < BMI and BMI < 29.9 :\n",
    "    print(\"약간 위험\")\n",
    "elif 30 < BMI and BMI < 39.9 :\n",
    "    print(\"뚱\")"
   ]
  },
  {
   "cell_type": "code",
   "execution_count": 17,
   "metadata": {
    "scrolled": true
   },
   "outputs": [
    {
     "name": "stdout",
     "output_type": "stream",
     "text": [
      "점수를 입력하세요 : 65\n",
      "B\n"
     ]
    }
   ],
   "source": [
    "score = float(input(\"점수를 입력하세요 : \"))\n",
    "\n",
    "if 80 < score and score < 100 :\n",
    "    print(\"A\")\n",
    "elif 60 < score and score < 79 :\n",
    "    print(\"B\")\n",
    "elif 50 < score and score < 59 :\n",
    "    print(\"C\")\n",
    "elif 50 >= score :\n",
    "    print(\"F\")"
   ]
  },
  {
   "cell_type": "code",
   "execution_count": 18,
   "metadata": {
    "scrolled": true
   },
   "outputs": [
    {
     "name": "stdout",
     "output_type": "stream",
     "text": [
      "점수를 입력하세요 : 66\n",
      "B\n"
     ]
    }
   ],
   "source": [
    "score = float(input(\"점수를 입력하세요 : \"))\n",
    "\n",
    "if 80 < score and score < 100 :\n",
    "    print(\"A\")\n",
    "if 60 < score and score < 79 :\n",
    "    print(\"B\")\n",
    "if 50 < score and score < 59 :\n",
    "    print(\"C\")\n",
    "if score <= 50 :\n",
    "    print(\"F\")"
   ]
  },
  {
   "cell_type": "code",
   "execution_count": 21,
   "metadata": {},
   "outputs": [
    {
     "name": "stdout",
     "output_type": "stream",
     "text": [
      "점수를 입력하세요 : 40\n",
      "F\n"
     ]
    }
   ],
   "source": [
    "score = float(input(\"점수를 입력하세요 : \"))\n",
    "\n",
    "if score >= 80 :\n",
    "    print(\"A\")\n",
    "elif score >= 60 :\n",
    "    print(\"B\")\n",
    "elif score >= 50 :\n",
    "    print(\"C\")\n",
    "elif score <= 50 :\n",
    "    print(\"F\")"
   ]
  },
  {
   "cell_type": "code",
   "execution_count": 22,
   "metadata": {},
   "outputs": [
    {
     "name": "stdout",
     "output_type": "stream",
     "text": [
      "점수를 입력하세요 : 55\n",
      "C\n"
     ]
    }
   ],
   "source": [
    "score = float(input(\"점수를 입력하세요 : \"))\n",
    "\n",
    "if score >= 80 :\n",
    "    print(\"A\")\n",
    "if score >= 60 :\n",
    "    print(\"B\")\n",
    "if score >= 50 :\n",
    "    print(\"C\")\n",
    "if score <= 50 :\n",
    "    print(\"F\")"
   ]
  },
  {
   "cell_type": "code",
   "execution_count": 1,
   "metadata": {},
   "outputs": [
    {
     "name": "stdout",
     "output_type": "stream",
     "text": [
      "정수를 입력하세요 : 1\n",
      "정수를 입력하세요 : 2\n",
      "정수를 입력하세요 : 3\n",
      "제일 큰 정수는 3 이다.\n"
     ]
    }
   ],
   "source": [
    "a = int(input(\"정수를 입력하세요 : \"))\n",
    "b = int(input(\"정수를 입력하세요 : \"))\n",
    "c = int(input(\"정수를 입력하세요 : \"))\n",
    "\n",
    "count = 0 # 왜 변수를 지정해야 할까??\n",
    "\n",
    "if a > b and a > c :\n",
    "    count = a\n",
    "if b > a and b > c :\n",
    "    count = b\n",
    "if c > a and c > b :\n",
    "    count = c\n",
    "   \n",
    "    print(\"제일 큰 정수는\", count, \"이다.\")"
   ]
  },
  {
   "cell_type": "code",
   "execution_count": 4,
   "metadata": {},
   "outputs": [
    {
     "name": "stdout",
     "output_type": "stream",
     "text": [
      "생일을 입력하세요 : 19990114\n",
      "210000\n"
     ]
    }
   ],
   "source": [
    "birth = int(input(\"생일을 입력하세요 : \")) # int 숫자형임\n",
    "\n",
    "A = 20200114 - birth # int 숫자형임\n",
    "\n",
    "if A < 0 :\n",
    "    print(\"출력할 수 없음\")\n",
    "else:\n",
    "    A = str(A)\n",
    "    print(A)"
   ]
  },
  {
   "cell_type": "code",
   "execution_count": 6,
   "metadata": {},
   "outputs": [
    {
     "name": "stdout",
     "output_type": "stream",
     "text": [
      "생일을 입력하세요 : 19990114\n",
      "21\n"
     ]
    }
   ],
   "source": [
    "birth = int(input(\"생일을 입력하세요 : \")) # int 숫자형임\n",
    "\n",
    "A = 20200114 - birth # int 숫자형임\n",
    "\n",
    "if A < 0 :\n",
    "    print(\"출력할 수 없음\")\n",
    "else:\n",
    "    A = str(A)\n",
    "    print(A[0:2])"
   ]
  },
  {
   "cell_type": "code",
   "execution_count": null,
   "metadata": {},
   "outputs": [],
   "source": []
  },
  {
   "cell_type": "code",
   "execution_count": null,
   "metadata": {},
   "outputs": [],
   "source": []
  },
  {
   "cell_type": "code",
   "execution_count": null,
   "metadata": {},
   "outputs": [],
   "source": []
  },
  {
   "cell_type": "code",
   "execution_count": null,
   "metadata": {},
   "outputs": [],
   "source": []
  },
  {
   "cell_type": "code",
   "execution_count": null,
   "metadata": {},
   "outputs": [],
   "source": []
  },
  {
   "cell_type": "code",
   "execution_count": null,
   "metadata": {},
   "outputs": [],
   "source": []
  },
  {
   "cell_type": "code",
   "execution_count": null,
   "metadata": {},
   "outputs": [],
   "source": []
  },
  {
   "cell_type": "code",
   "execution_count": null,
   "metadata": {},
   "outputs": [],
   "source": []
  },
  {
   "cell_type": "code",
   "execution_count": null,
   "metadata": {},
   "outputs": [],
   "source": []
  },
  {
   "cell_type": "code",
   "execution_count": null,
   "metadata": {},
   "outputs": [],
   "source": []
  }
 ],
 "metadata": {
  "kernelspec": {
   "display_name": "Python 3",
   "language": "python",
   "name": "python3"
  },
  "language_info": {
   "codemirror_mode": {
    "name": "ipython",
    "version": 3
   },
   "file_extension": ".py",
   "mimetype": "text/x-python",
   "name": "python",
   "nbconvert_exporter": "python",
   "pygments_lexer": "ipython3",
   "version": "3.7.3"
  }
 },
 "nbformat": 4,
 "nbformat_minor": 2
}
