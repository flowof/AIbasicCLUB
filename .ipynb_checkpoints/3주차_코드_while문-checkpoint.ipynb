{
 "cells": [
  {
   "cell_type": "markdown",
   "metadata": {},
   "source": [
    "복습과제 코드 1번"
   ]
  },
  {
   "cell_type": "code",
   "execution_count": 2,
   "metadata": {},
   "outputs": [
    {
     "name": "stdout",
     "output_type": "stream",
     "text": [
      "국어점수를 입력하세요50\n",
      "국어점수를 입력하세요60\n",
      "국어점수를 입력하세요30\n",
      "국어점수를 입력하세요90\n",
      "과락\n"
     ]
    }
   ],
   "source": [
    "kor = int(input(\"국어점수를 입력하세요\"))\n",
    "eng = int(input(\"국어점수를 입력하세요\"))\n",
    "math = int(input(\"국어점수를 입력하세요\"))\n",
    "his = int(input(\"국어점수를 입력하세요\"))\n",
    "\n",
    "if kor < 50 or eng < 50 or math < 50 or his < 50:\n",
    "    print(\"과락\")"
   ]
  },
  {
   "cell_type": "markdown",
   "metadata": {},
   "source": [
    "복습과제 코드 2번"
   ]
  },
  {
   "cell_type": "code",
   "execution_count": 3,
   "metadata": {},
   "outputs": [
    {
     "name": "stdout",
     "output_type": "stream",
     "text": [
      "국어점수를 입력하세요60\n",
      "국어점수를 입력하세요60\n",
      "국어점수를 입력하세요70\n",
      "국어점수를 입력하세요60\n",
      "합격입니다.\n"
     ]
    }
   ],
   "source": [
    "kor = int(input(\"국어점수를 입력하세요\"))\n",
    "eng = int(input(\"국어점수를 입력하세요\"))\n",
    "math = int(input(\"국어점수를 입력하세요\"))\n",
    "his = int(input(\"국어점수를 입력하세요\"))\n",
    "\n",
    "if kor >= 50 and eng >= 50 and math and 50 and his >= 50:\n",
    "    print(\"합격입니다.\")"
   ]
  },
  {
   "cell_type": "markdown",
   "metadata": {},
   "source": [
    "복습과제 코드 3번"
   ]
  },
  {
   "cell_type": "code",
   "execution_count": 4,
   "metadata": {},
   "outputs": [
    {
     "name": "stdout",
     "output_type": "stream",
     "text": [
      "월을 입력하세요3\n",
      "3 월은  31일까지\n"
     ]
    }
   ],
   "source": [
    "mon = int(input(\"월을 입력하세요\"))\n",
    "\n",
    "if mon ==1 or mon ==3 or mon ==5 or mon ==7 or mon ==8 or mon ==10 or mon ==12:\n",
    "    print(mon, \"월은 \", \"31일까지\")\n",
    "elif mon ==2:\n",
    "    print(mon, \"월은\", \"28일 또는 29일까지\")\n",
    "    \n",
    "elif mon ==4 or mon == 6 or mon == 9 or mon == 11:\n",
    "    print(mon, \"월은\", \"30일까지\")\n",
    "    \n",
    "else:\n",
    "    print(\"입력오류\")"
   ]
  },
  {
   "cell_type": "code",
   "execution_count": 16,
   "metadata": {},
   "outputs": [
    {
     "name": "stdout",
     "output_type": "stream",
     "text": [
      "월을 입력하세요4\n",
      "4 월은 30일까지\n"
     ]
    }
   ],
   "source": [
    "mon = int(input(\"월을 입력하세요\"))\n",
    "\n",
    "if mon ==1 or mon ==3 or mon ==5 or mon ==7 or mon ==8 or mon ==10 or mon ==12:\n",
    "    print(mon, \"월은 \", \"31일까지\")\n",
    "if mon ==2:\n",
    "    print(mon, \"월은\", \"28일 또는 29일까지\")\n",
    "    \n",
    "if mon ==4 or mon == 6 or mon == 9 or mon == 11:\n",
    "    print(mon, \"월은\", \"30일까지\")\n",
    "    \n",
    "else:\n",
    "    print(\"입력오류\")"
   ]
  },
  {
   "cell_type": "markdown",
   "metadata": {},
   "source": [
    "# 반복분 1번 문제\n",
    "\n",
    "while 문을 이용하여 비밀번호를 입력하고, 입력횟수를 3번으로 제한하세요"
   ]
  },
  {
   "cell_type": "code",
   "execution_count": 18,
   "metadata": {},
   "outputs": [
    {
     "name": "stdout",
     "output_type": "stream",
     "text": [
      "i =  2\n",
      "n = 3\n",
      "--------\n",
      "i =  3\n",
      "n = 6\n",
      "--------\n",
      "i =  4\n",
      "n = 9\n",
      "--------\n",
      "i =  5\n",
      "n = 12\n",
      "--------\n",
      "i =  6\n",
      "n = 15\n",
      "--------\n",
      "i =  7\n",
      "n = 18\n",
      "--------\n"
     ]
    }
   ],
   "source": [
    "# 1~20 사이의 3의 배수\n",
    "\n",
    "i = 1\n",
    "n = 1\n",
    "\n",
    "while n < 20 and i < 7 :\n",
    "    \n",
    "    n = i * 3\n",
    "    i = i + 1\n",
    "    print(\"i = \", i)\n",
    "    print(\"n =\", n)\n",
    "    print(\"--------\")"
   ]
  },
  {
   "cell_type": "markdown",
   "metadata": {},
   "source": [
    "# 반복문 2번 문제\n",
    "while 문을 이용하여 비밀번호를 입력하고, 입력횟수를 3번으로 제한하세요\n",
    "\n"
   ]
  },
  {
   "cell_type": "code",
   "execution_count": 23,
   "metadata": {},
   "outputs": [
    {
     "name": "stdout",
     "output_type": "stream",
     "text": [
      "비밀번호를 입력하세요: 1234\n",
      "비밀번호 입력 횟수 :  1\n",
      "비밀번호가 정확합니다.\n"
     ]
    }
   ],
   "source": [
    "pwd = \"????\"\n",
    "count = 1\n",
    "while pwd !=\"1234\" and count <= 3:\n",
    "    pwd = input(\"비밀번호를 입력하세요: \")\n",
    "    print(\"비밀번호 입력 횟수 : \", count)\n",
    "    count = count + 1\n",
    "    \n",
    "    \n",
    "    if pwd == \"1234\" :\n",
    "        print(\"비밀번호가 정확합니다.\")\n",
    "        \n",
    "    elif pwd != \"1234\" :\n",
    "        print(\"비밀번호가 틀렸습니다.\")\n",
    "        \n",
    "    elif count > 3:\n",
    "        print(\"비밀번호 입력오류가 3번 발생하여, 처리할 수 없습니다.\")\n",
    "        "
   ]
  },
  {
   "cell_type": "code",
   "execution_count": null,
   "metadata": {},
   "outputs": [],
   "source": [
    "pwd = \"????\"\n",
    "count = 1\n",
    "while pwd !=\"1234\" and count <= 3:\n",
    "    pwd = input(\"비밀번호를 입력하세요: \")\n",
    "    print(\"비밀번호 입력 횟수 : \", count)\n",
    "    count = count + 1\n",
    "    \n",
    "    \n",
    "    if pwd == \"1234\" :\n",
    "        print(\"비밀번호가 정확합니다.\")\n",
    "        \n",
    "    if pwd != \"1234\" :\n",
    "        print(\"비밀번호가 틀렸습니다.\")\n",
    "        \n",
    "    if count > 3:\n",
    "        print(\"비밀번호 입력오류가 3번 발생하여, 처리할 수 없습니다.\")\n",
    "        "
   ]
  },
  {
   "cell_type": "markdown",
   "metadata": {},
   "source": [
    "# 반복문 3번 코드\n",
    "\n",
    "사용자에게 input을 이용하여 입력 받을 수의 개수를 양의 정수로 출력하세요.\n",
    "3개의 실수 값을 입력 받고, 입력한 3개의 실수의 평균을 출력하세요.\n",
    "\n"
   ]
  },
  {
   "cell_type": "code",
   "execution_count": 2,
   "metadata": {},
   "outputs": [
    {
     "name": "stdout",
     "output_type": "stream",
     "text": [
      "정수를 몇개 입력 받을까요?3\n",
      "숫자를 입력하세요5\n",
      "count =  2 num =  5.0\n",
      "숫자를 입력하세요4\n",
      "count =  3 num =  4.0\n",
      "숫자를 입력하세요3\n",
      "count =  4 num =  3.0\n",
      "입력받은 수의 평균은 =  4.0\n"
     ]
    }
   ],
   "source": [
    "num = 0\n",
    "count = 1\n",
    "sum = 0\n",
    "\n",
    "while num <= 0 :\n",
    "    num = int(input(\"정수를 몇개 입력 받을까요?\"))\n",
    "    \n",
    "while count <= num :\n",
    "    num = float(input(\"숫자를 입력하세요\"))\n",
    "    count = count + 1\n",
    "    print(\"count = \", count, \"num = \", num)\n",
    "    sum = sum + num\n",
    "    \n",
    "print(\"입력받은 수의 평균은 = \", sum / num)"
   ]
  }
 ],
 "metadata": {
  "kernelspec": {
   "display_name": "Python 3",
   "language": "python",
   "name": "python3"
  },
  "language_info": {
   "codemirror_mode": {
    "name": "ipython",
    "version": 3
   },
   "file_extension": ".py",
   "mimetype": "text/x-python",
   "name": "python",
   "nbconvert_exporter": "python",
   "pygments_lexer": "ipython3",
   "version": "3.7.3"
  }
 },
 "nbformat": 4,
 "nbformat_minor": 2
}
