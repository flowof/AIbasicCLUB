{
 "cells": [
  {
   "cell_type": "code",
   "execution_count": 10,
   "metadata": {
    "scrolled": true
   },
   "outputs": [
    {
     "name": "stdout",
     "output_type": "stream",
     "text": [
      "5\n",
      "10\n",
      "15\n",
      "20\n",
      "25\n",
      "30\n",
      "35\n",
      "40\n",
      "45\n",
      "50\n",
      "55\n",
      "60\n",
      "65\n",
      "70\n",
      "75\n",
      "80\n",
      "85\n",
      "90\n",
      "95\n",
      "100\n"
     ]
    }
   ],
   "source": [
    "#1~100 사이의 5의 배수\n",
    "\n",
    "\n",
    "i = 1 #이 변수는 뭐고\n",
    "n = 1 #이 변수는 또 뭐지?!?!?!?!?!?!?!?!?!?!?!?!?!?!?!?!?!?!?!?!?!?!?!?!?!?!?!?!\n",
    "\n",
    "while n < 100 : #n이 100보다 작으면 무한루프\n",
    "    n = i * 5 # n은 5의 배수로 설정해 준다\n",
    "    i = i + 1 # 무한루프가 돌아가는 변수는 n이지만 설정해 놓은 n 안의 i는 1씩 증가한다\n",
    "    print(n) # 결과는 n으로 출력!!"
   ]
  },
  {
   "cell_type": "code",
   "execution_count": 11,
   "metadata": {
    "scrolled": true
   },
   "outputs": [
    {
     "name": "stdout",
     "output_type": "stream",
     "text": [
      "10\n",
      "15\n",
      "20\n",
      "25\n",
      "30\n",
      "35\n",
      "40\n",
      "45\n",
      "50\n",
      "55\n",
      "60\n",
      "65\n",
      "70\n",
      "75\n",
      "80\n",
      "85\n",
      "90\n",
      "95\n",
      "100\n"
     ]
    }
   ],
   "source": [
    "#1~100 사이의 5의 배수\n",
    "\n",
    "n = 5 \n",
    "\n",
    "while n <= 100 :\n",
    "    n = n + 5\n",
    "    print(n)"
   ]
  },
  {
   "cell_type": "code",
   "execution_count": 13,
   "metadata": {},
   "outputs": [
    {
     "name": "stdout",
     "output_type": "stream",
     "text": [
      "숫자입력하셈 : 3\n",
      "3\n",
      "3\n",
      "3\n",
      "num =  3\n"
     ]
    }
   ],
   "source": [
    "#조건에 따른 while문 실행\n",
    "num = input(\"숫자입력하셈 : \")\n",
    "num = int(num)\n",
    "\n",
    "if num != 99999:\n",
    "    \n",
    "    i = 0\n",
    "    while i < num:\n",
    "        print(num)\n",
    "        i = i + 1\n",
    "print(\"num = \", num)\n"
   ]
  },
  {
   "cell_type": "code",
   "execution_count": 12,
   "metadata": {},
   "outputs": [
    {
     "name": "stdout",
     "output_type": "stream",
     "text": [
      "숫자입력하셈 : 3\n",
      "3\n",
      "3\n",
      "3\n",
      "num =  3\n"
     ]
    }
   ],
   "source": [
    "#조건에 따른 while문 실행\n",
    "num = input(\"숫자입력하셈 : \")\n",
    "num = int(num)\n",
    "\n",
    "if num != 99999:\n",
    "    \n",
    "    i = 0\n",
    "    while i < num:\n",
    "        i = i + 1 #  이 녀석이 while문 안에 들어가면 무슨 의미지?!?!?!?!?!?!?!?!?!?!?!?!?!?!?!?!?!?!?!?!?!?!\n",
    "        print(num)\n",
    "        \n",
    "print(\"num = \", num)"
   ]
  },
  {
   "cell_type": "code",
   "execution_count": 16,
   "metadata": {
    "scrolled": true
   },
   "outputs": [
    {
     "name": "stdout",
     "output_type": "stream",
     "text": [
      "종료하실래연? a\n",
      "종료하실래연? g\n",
      "종료하실래연? r\n",
      "종료하실래연? f\n",
      "종료하실래연? \n",
      "종료하실래연? y\n"
     ]
    }
   ],
   "source": [
    "#사용자가 종료를 요청할 때(\"y\"입력)까지 반복하기\n",
    "quit = \"a\"\n",
    "\n",
    "while quit != \"y\" :\n",
    "    quit = input(\"종료하실래연? \")"
   ]
  },
  {
   "cell_type": "code",
   "execution_count": 18,
   "metadata": {},
   "outputs": [
    {
     "name": "stdout",
     "output_type": "stream",
     "text": [
      "비번 입력하세연ㅎ : 1111\n",
      "비번 입력하세연ㅎ : 1324\n",
      "비번 입력하세연ㅎ : 1234\n",
      "비번 입력하세연ㅎ : 0712\n"
     ]
    }
   ],
   "source": [
    "#맞는 패스워드를 입력할 때까지 반복하기\n",
    "\n",
    "pwd = \"????\" # 왜 \"\" 붙여야 하지?!?!?!?!?!?!?!?!?!?!?!?!?!?!?!?!?!?!?!?!?!?!?!?!?!?!?!?!?!?!?!?!?!?!?!?!?!?!?!?\n",
    "\n",
    "while pwd != \"0712\" : # 왜 \"\" 붙여야 하지?!?!?!?!?!?!?!?!?!?!?!?!?!?!?!?!?!?!?!?!?!?!?!?!?!?!?!?!?!?!?!?!?!?!?!?!?!?!?!?\n",
    "    pwd = input(\"비번 입력하세연ㅎ : \")"
   ]
  },
  {
   "cell_type": "code",
   "execution_count": null,
   "metadata": {},
   "outputs": [],
   "source": [
    "#맞는 패스워드를 입력할 때까지 반복하기, 3번까지 비밀번호 틀리면 반복 입력 기회는 없다\n",
    "\n",
    "pwd = \"????\"\n",
    "count = 1\n",
    "\n",
    "while pwd != \"0712\" and count <= 3 :\n",
    "    pwd = input(\"비번 입력하세연~ : \")\n",
    "    count = count + 1\n",
    "    \n",
    "    if pwd == \"0712\":\n",
    "        print(\"비번 정확해연~ 응축하~!~! \")\n",
    "    elif count >3 :\n",
    "        print(\"헐 비번 입력 오류 3번임 그래서 처리못함ㅎㄷㄷ\")\n",
    "    "
   ]
  },
  {
   "cell_type": "code",
   "execution_count": 2,
   "metadata": {},
   "outputs": [
    {
     "name": "stdout",
     "output_type": "stream",
     "text": [
      "정수 몇 개 입력받을까여~? : -1\n",
      "정수 몇 개 입력받을까여~? : -3\n",
      "정수 몇 개 입력받을까여~? : 4\n",
      "숫자입력하세연ㅎ : 5\n",
      "숫자입력하세연ㅎ : 10\n",
      "숫자입력하세연ㅎ : 15\n",
      "입력받은 수의 평균은 =  7.5\n"
     ]
    }
   ],
   "source": [
    "#연습문제 4\n",
    "\n",
    "numofnum = 0\n",
    "count = 1\n",
    "sum =0\n",
    "\n",
    "while numofnum <= 0 : #음수 나오면\n",
    "    numofnum = int(input(\"정수 몇 개 입력받을까여~? : \")) # 저 문구 무한루프\n",
    "    \n",
    "while count < numofnum : #일단 이 조건이 성립한단 뜻은 numofnum이 양수\n",
    "    num = float(input(\"숫자입력하세연ㅎ : \")) # numofnum이 양수이니깐\n",
    "    count = count + 1\n",
    "    sum = sum+ num\n",
    "    \n",
    "print(\"입력받은 수의 평균은 = \", sum / numofnum )    "
   ]
  },
  {
   "cell_type": "code",
   "execution_count": null,
   "metadata": {},
   "outputs": [],
   "source": [
    "#연습문제 5\n",
    "\n",
    "price = 0\n",
    "count = 0\n",
    "sum = 0\n",
    "\n",
    "while price <= 10000 : # price <= 10000  <-이 조건문을 요기랑\n",
    "    price = float(input(\"얼마임?! : \")) # 얼마얼마일꺼라 입력한 가격이 나올 거고 그 가격이 if문에 적용되는 거?!?!?!?!?!?!?!?!?!?!?!\n",
    "    if price <= 10000 : # price <= 10000  <-이 조건문을 요기 모두 적어야..? 왜 두번씩 적어야 하지?!?!?!?!?!?!?!?!?!?!?!?!?!?!?!?!\n",
    "        sum = sum + price\n",
    "        count = count + 1\n",
    "        \n",
    "print(count,\"개 물품의 모든 금액의 합은 =\", sum, \"원ㅇㅇㅇㅇ\")"
   ]
  },
  {
   "cell_type": "code",
   "execution_count": null,
   "metadata": {},
   "outputs": [],
   "source": [
    "#솔직히 연습문제 4번 5번 무슨 차인지 살짝 모르겠어욜..;;"
   ]
  },
  {
   "cell_type": "code",
   "execution_count": null,
   "metadata": {},
   "outputs": [],
   "source": []
  }
 ],
 "metadata": {
  "kernelspec": {
   "display_name": "Python 3",
   "language": "python",
   "name": "python3"
  },
  "language_info": {
   "codemirror_mode": {
    "name": "ipython",
    "version": 3
   },
   "file_extension": ".py",
   "mimetype": "text/x-python",
   "name": "python",
   "nbconvert_exporter": "python",
   "pygments_lexer": "ipython3",
   "version": "3.7.3"
  }
 },
 "nbformat": 4,
 "nbformat_minor": 2
}
