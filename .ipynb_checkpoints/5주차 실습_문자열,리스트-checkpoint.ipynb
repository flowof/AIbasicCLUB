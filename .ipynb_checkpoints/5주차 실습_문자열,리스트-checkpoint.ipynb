{
 "cells": [
  {
   "cell_type": "code",
   "execution_count": 1,
   "metadata": {
    "scrolled": false
   },
   "outputs": [
    {
     "name": "stdout",
     "output_type": "stream",
     "text": [
      "우리 점심 모머겅?? : 양곱창\n",
      "양\n",
      "곱\n",
      "창\n"
     ]
    }
   ],
   "source": [
    "#문자열1\n",
    "menu = input(\"우리 점심 모머겅?? : \")\n",
    "for i in menu :\n",
    "    print(i)"
   ]
  },
  {
   "cell_type": "code",
   "execution_count": 28,
   "metadata": {
    "scrolled": true
   },
   "outputs": [
    {
     "name": "stdout",
     "output_type": "stream",
     "text": [
      "우리 점심 모머겅?? : 양곱창\n",
      "1\n",
      "1\n",
      "1\n"
     ]
    }
   ],
   "source": [
    "#문자열1\n",
    "menu = input(\"우리 점심 모머겅?? : \")\n",
    "for i in menu :\n",
    "    print(len(i))"
   ]
  },
  {
   "cell_type": "code",
   "execution_count": 8,
   "metadata": {
    "scrolled": false
   },
   "outputs": [
    {
     "name": "stdout",
     "output_type": "stream",
     "text": [
      "자연수 적어보셈 : 2\n",
      "2\n",
      "추가할 element 입력:3\n",
      "2\n",
      "추가할 element 입력:4\n",
      "['3', '4']\n"
     ]
    }
   ],
   "source": [
    "num = int(input(\"자연수 적어보셈 : \"))\n",
    "newlist = []\n",
    "templist =[0]\n",
    "\n",
    "for i in range(num) :\n",
    "    print(num)\n",
    "    t= input(\"추가할 element 입력:\")\n",
    "    templist =[t]\n",
    "    newlist =newlist + templist\n",
    "    \n",
    "print(newlist)    "
   ]
  },
  {
   "cell_type": "code",
   "execution_count": 26,
   "metadata": {
    "scrolled": false
   },
   "outputs": [
    {
     "name": "stdout",
     "output_type": "stream",
     "text": [
      "[['kim', 90, 75], ['park', 89, 95], ['choi', 76, 85]]\n",
      "kim\n",
      "sum = 165 average = 82.5\n",
      "park\n",
      "sum = 184 average = 92.0\n",
      "choi\n",
      "sum = 161 average = 80.5\n"
     ]
    }
   ],
   "source": [
    "#list2\n",
    "s = [[\"kim\", 90, 75],[\"park\", 89, 95], [\"choi\", 76, 85]]\n",
    "print(s)\n",
    "len(s)\n",
    "for i in range(len(s)) :\n",
    "    print(s[i][0])\n",
    "    sum = 0\n",
    "    for j in range(1,len(s[i])) :\n",
    "        sum = sum + s[i][j] \n",
    "    print(\"sum =\", sum, \"average =\", sum / j)"
   ]
  },
  {
   "cell_type": "code",
   "execution_count": 13,
   "metadata": {},
   "outputs": [
    {
     "name": "stdout",
     "output_type": "stream",
     "text": [
      "[['kim', 90, 75], ['park', 89, 95], ['choi', 76, 85]]\n"
     ]
    },
    {
     "data": {
      "text/plain": [
       "3"
      ]
     },
     "execution_count": 13,
     "metadata": {},
     "output_type": "execute_result"
    }
   ],
   "source": [
    "s = [[\"kim\", 90, 75],[\"park\", 89, 95], [\"choi\", 76, 85]]\n",
    "print(s)\n",
    "len(s)"
   ]
  },
  {
   "cell_type": "code",
   "execution_count": 20,
   "metadata": {
    "scrolled": true
   },
   "outputs": [
    {
     "name": "stdout",
     "output_type": "stream",
     "text": [
      "3\n"
     ]
    }
   ],
   "source": [
    "s = [[\"kim\", 90, 75],[\"park\", 89, 95], [\"choi\", 76, 85]]\n",
    "\n",
    "print(len(s[i]))      "
   ]
  },
  {
   "cell_type": "code",
   "execution_count": 23,
   "metadata": {
    "scrolled": true
   },
   "outputs": [
    {
     "name": "stdout",
     "output_type": "stream",
     "text": [
      "3\n"
     ]
    }
   ],
   "source": [
    "s = [[\"kim\", 90, 75],[\"park\", 89, 95], [\"choi\", 76, 85]]\n",
    "\n",
    "print(len(s[i]))   "
   ]
  },
  {
   "cell_type": "code",
   "execution_count": 29,
   "metadata": {},
   "outputs": [
    {
     "name": "stdout",
     "output_type": "stream",
     "text": [
      "['dog', 'monkey', 'R', 'Python', 'starcraft', 'Korea', 'LOL', 'apple']\n"
     ]
    }
   ],
   "source": [
    "list01 = ['dog', 'monkey', 'R', 'Python', 'starcraft']\n",
    "list02 = ['Korea', 'R','LOL', 'Python', 'apple']\n",
    "\n",
    "for i in range(len(list01)) :\n",
    "    if list01[i] in list02 :\n",
    "        list02.remove(list01[i])\n",
    "        \n",
    "list03 = list01 + list02\n",
    "print(list03)"
   ]
  },
  {
   "cell_type": "code",
   "execution_count": 30,
   "metadata": {},
   "outputs": [
    {
     "name": "stdout",
     "output_type": "stream",
     "text": [
      "['dog', 'monkey', 'R', 'Python', 'starcraft', 'Korea', 'LOL', 'apple']\n",
      "정렬 후 : ['Korea', 'LOL', 'Python', 'R', 'apple', 'dog', 'monkey', 'starcraft']\n"
     ]
    }
   ],
   "source": [
    "list01 = ['dog', 'monkey', 'R', 'Python', 'starcraft']\n",
    "list02 = ['Korea', 'R','LOL', 'Python', 'apple']\n",
    "\n",
    "for i in range(len(list01)) :\n",
    "    if list01[i] in list02 :\n",
    "        list02.remove(list01[i])\n",
    "        \n",
    "list03 = list01 + list02\n",
    "print(list03)\n",
    "\n",
    "list03.sort()\n",
    "print(\"정렬 후 :\", list03)"
   ]
  },
  {
   "cell_type": "code",
   "execution_count": 4,
   "metadata": {
    "scrolled": true
   },
   "outputs": [
    {
     "name": "stdout",
     "output_type": "stream",
     "text": [
      "5어절 이상의 문장 만들어보센 : 너무너무 귀여운 윌리엄은 펭수를 좋아해\n",
      "['너무너무', '귀여운', '윌리엄은', '펭수를', '좋아해']\n",
      "없앨 단어 적어보센 : 너무너무\n"
     ]
    }
   ],
   "source": [
    "sen = input(\"5어절 이상의 문장 만들어보센 : \")\n",
    "senlist = sen.split()\n",
    "print(senlist)\n",
    "\n",
    "remove_w = input(\"없앨 단어 적어보센 : \")\n",
    "senlist.remove(remove_w)\n",
    "\n",
    "remove_w = input(\"없앨 단어 적어보센 : \")\n",
    "senlist.remove(remove_w)"
   ]
  },
  {
   "cell_type": "code",
   "execution_count": null,
   "metadata": {},
   "outputs": [],
   "source": [
    "sen = input(\"5어절 이상의 문장 만들어보센 : \")\n",
    "senlist = sen.split()\n",
    "print(senlist)"
   ]
  },
  {
   "cell_type": "code",
   "execution_count": null,
   "metadata": {},
   "outputs": [],
   "source": []
  },
  {
   "cell_type": "code",
   "execution_count": null,
   "metadata": {},
   "outputs": [],
   "source": []
  },
  {
   "cell_type": "code",
   "execution_count": null,
   "metadata": {},
   "outputs": [],
   "source": []
  },
  {
   "cell_type": "code",
   "execution_count": null,
   "metadata": {},
   "outputs": [],
   "source": []
  },
  {
   "cell_type": "code",
   "execution_count": null,
   "metadata": {},
   "outputs": [],
   "source": []
  }
 ],
 "metadata": {
  "kernelspec": {
   "display_name": "Python 3",
   "language": "python",
   "name": "python3"
  },
  "language_info": {
   "codemirror_mode": {
    "name": "ipython",
    "version": 3
   },
   "file_extension": ".py",
   "mimetype": "text/x-python",
   "name": "python",
   "nbconvert_exporter": "python",
   "pygments_lexer": "ipython3",
   "version": "3.7.3"
  }
 },
 "nbformat": 4,
 "nbformat_minor": 2
}
