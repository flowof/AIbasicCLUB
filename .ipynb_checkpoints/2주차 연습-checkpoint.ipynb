{
 "cells": [
  {
   "cell_type": "code",
   "execution_count": 3,
   "metadata": {},
   "outputs": [
    {
     "name": "stdout",
     "output_type": "stream",
     "text": [
      "=========================\n",
      "다시 처음부터 시작합니다\n",
      "=========================\n"
     ]
    }
   ],
   "source": [
    "count=10\n",
    "if count >=10:\n",
    "    count=0\n",
    "    print(\"=\"*25)\n",
    "    print(\"다시 처음부터 시작합니다\")\n",
    "    print(\"=\"*25)"
   ]
  },
  {
   "cell_type": "code",
   "execution_count": 8,
   "metadata": {},
   "outputs": [
    {
     "name": "stdout",
     "output_type": "stream",
     "text": [
      "=========================\n",
      "다시 처음부터 시작합니다\n",
      "=========================\n"
     ]
    }
   ],
   "source": [
    "count=10\n",
    "if count >=10:\n",
    "    count=0\n",
    "    print(\"=\"*25)\n",
    "    print(\"다시 처음부터 시작합니다\")\n",
    "    print(\"=\"*25)\n",
    "else:\n",
    "    count= count +1\n",
    "    print(\"다음단계가 실행됩니다\")"
   ]
  },
  {
   "cell_type": "code",
   "execution_count": 9,
   "metadata": {},
   "outputs": [
    {
     "name": "stdout",
     "output_type": "stream",
     "text": [
      "400 is even\n"
     ]
    }
   ],
   "source": [
    "x=400\n",
    "if x%2 == 0:\n",
    "    print(x, \"is even\")\n",
    "else :\n",
    "    print(x, \"is odd\")"
   ]
  },
  {
   "cell_type": "code",
   "execution_count": 12,
   "metadata": {},
   "outputs": [
    {
     "name": "stdout",
     "output_type": "stream",
     "text": [
      "a is less than b\n",
      "a is less than or equal to b\n",
      "a and b is not equal\n"
     ]
    }
   ],
   "source": [
    "a=4\n",
    "b=5\n",
    "c=6\n",
    "if a < b:\n",
    "    print(\"a is less than b\")\n",
    "if a > b:\n",
    "    print(\"a is greater than b\") # Q.여기엔 왜 else를 안 썼을까?\n",
    "if a <= b:\n",
    "    print(\"a is less than or equal to b\")\n",
    "else:\n",
    "    print(\"a is greater than b\")\n",
    "if a == b:\n",
    "    print(\"a is equal to b\")\n",
    "else:\n",
    "    print(\"a and b is not equal\")"
   ]
  },
  {
   "cell_type": "code",
   "execution_count": 15,
   "metadata": {},
   "outputs": [
    {
     "name": "stdout",
     "output_type": "stream",
     "text": [
      "좋아하는 과일을 입력하세요 :없음\n",
      "과일을 먹어보세요 분명히 좋아하게 될겁니다.\n"
     ]
    }
   ],
   "source": [
    "fruits = ['apple','banana', 'grape', 'orange', 'strawberry']\n",
    "f_input = input(\"좋아하는 과일을 입력하세요 :\")\n",
    "if f_input in fruits :\n",
    "    print(\"과일이 목록에 있습니다.\")\n",
    "elif f_input == \"없음\" :\n",
    "    print(\"과일을 먹어보세요 분명히 좋아하게 될겁니다.\")\n",
    "else :\n",
    "    print(\"과일이 목록에 없습니다.\")"
   ]
  },
  {
   "cell_type": "code",
   "execution_count": null,
   "metadata": {},
   "outputs": [],
   "source": [
    "kor = float((input(\"국어성적 입력 : \")))\n",
    "eng = float((input(\"영어성적 입력 : \")))\n",
    "math = float((input(\"수학 성적 입력 : \")))\n",
    "\n",
    "avg =(kor + eng + math) / 3\n",
    "\n",
    "if avg >=60 and kor >=50 and eng >= 50 and math>=50 :\n",
    "    print(\"평균성적은\",avg,\"이며 과락과목도 없으므로 합격입니다\")\n",
    "else:\n",
    "    if avg >= 60:\n",
    "        print(\"평균성적은\", avg, \"이지만 과락과목이 존재하므로 불합격입니다\")\n",
    "    else:\n",
    "        print(\"평균성적은\", avg,\"이므로 과락여부와 상관없이 불합격입니다\")"
   ]
  },
  {
   "cell_type": "code",
   "execution_count": 18,
   "metadata": {},
   "outputs": [
    {
     "name": "stdout",
     "output_type": "stream",
     "text": [
      "국어성적 입력 : 49\n",
      "영어성적 입력 : 70\n",
      "수학 성적 입력 : 80\n",
      "평균성적은 66.33333333333333 이지만 과락과목이 존재하므로 불합격입니다\n"
     ]
    }
   ],
   "source": [
    "kor = float((input(\"국어성적 입력 : \")))\n",
    "eng = float((input(\"영어성적 입력 : \")))\n",
    "math = float((input(\"수학 성적 입력 : \")))\n",
    "\n",
    "avg =(kor + eng + math) / 3\n",
    "\n",
    "if avg >=60 :\n",
    "    if kor >=50 and eng >= 50 and math>=50 :\n",
    "        print(\"평균성적은\",avg,\"이며 과락과목도 없으므로 합격입니다\")\n",
    "    else:\n",
    "        print(\"평균성적은\", avg, \"이지만 과락과목이 존재하므로 불합격입니다\")\n",
    "\n",
    "        \n",
    "else:\n",
    "     print(\"평균성적은\", avg,\"이므로 과락여부와 상관없이 불합격입니다\")"
   ]
  },
  {
   "cell_type": "code",
   "execution_count": null,
   "metadata": {},
   "outputs": [],
   "source": [
    "height = input(\"키를 입력하시오 : \")\n",
    "weight = input(\"몸무게를 입력하시오 : \")\n",
    "BMI = weight /(height * height)\n",
    "\n",
    "if BMI < 18.5 :\n",
    "    print(\"BMI지수는\", BMI,\"이며, 저체중입니다.\")\n",
    "elif BMI < 23 :\n",
    "    print(\"BMI지수는\", BMI,\"이며, 정상입니다.\")\n",
    "elif BMI < 25 :\n",
    "    print(\"BMI지수는\", BMI,\"이며, 과체중입니다.\")\n",
    "elif BMI < 30 :\n",
    "    print(\"BMI지수는\", BMI,\"이며, 비만1입니다.\")\n",
    "elif BMI < 40 :\n",
    "    print(\"BMI지수는\", BMI,\"이며, 비만2입니다.\")\n",
    "else:\n",
    "    print(\"BMI지수는\", BMI,\"이며, 심각한비만3입니다.\")"
   ]
  },
  {
   "cell_type": "code",
   "execution_count": null,
   "metadata": {},
   "outputs": [],
   "source": []
  },
  {
   "cell_type": "code",
   "execution_count": null,
   "metadata": {},
   "outputs": [],
   "source": []
  },
  {
   "cell_type": "code",
   "execution_count": null,
   "metadata": {},
   "outputs": [],
   "source": []
  },
  {
   "cell_type": "code",
   "execution_count": null,
   "metadata": {},
   "outputs": [],
   "source": []
  },
  {
   "cell_type": "code",
   "execution_count": null,
   "metadata": {},
   "outputs": [],
   "source": []
  },
  {
   "cell_type": "code",
   "execution_count": null,
   "metadata": {},
   "outputs": [],
   "source": []
  }
 ],
 "metadata": {
  "kernelspec": {
   "display_name": "Python 3",
   "language": "python",
   "name": "python3"
  },
  "language_info": {
   "codemirror_mode": {
    "name": "ipython",
    "version": 3
   },
   "file_extension": ".py",
   "mimetype": "text/x-python",
   "name": "python",
   "nbconvert_exporter": "python",
   "pygments_lexer": "ipython3",
   "version": "3.7.3"
  }
 },
 "nbformat": 4,
 "nbformat_minor": 2
}
