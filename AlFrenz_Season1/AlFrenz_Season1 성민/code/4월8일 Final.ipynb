{
 "cells": [
  {
   "cell_type": "code",
   "execution_count": 146,
   "metadata": {},
   "outputs": [],
   "source": [
    "import numpy as np\n",
    "import pandas as pd\n",
    "import matplotlib as mpl\n",
    "import matplotlib.pyplot as plt \n",
    "import seaborn as sns\n",
    "from sklearn import linear_model\n",
    "import statsmodels.api as sm\n",
    "import statsmodels.formula.api as smf\n",
    "\n",
    "%matplotlib inline"
   ]
  },
  {
   "cell_type": "code",
   "execution_count": 147,
   "metadata": {},
   "outputs": [],
   "source": [
    "train = pd.read_csv(\"../input/train.csv\" ,encoding=\"cp949\")\n",
    "test = pd.read_csv(\"../input/test.csv\" ,encoding=\"cp949\")"
   ]
  },
  {
   "cell_type": "markdown",
   "metadata": {},
   "source": [
    "# 지역B와 지역C를 찾을까?"
   ]
  },
  {
   "cell_type": "code",
   "execution_count": 16,
   "metadata": {},
   "outputs": [],
   "source": [
    "#기온\n",
    "findBC = train[['Y02',\"Y16\",\"X00\",\"X07\",\"X28\",\"X31\",\"X32\"]]"
   ]
  },
  {
   "cell_type": "code",
   "execution_count": 7,
   "metadata": {},
   "outputs": [
    {
     "name": "stdout",
     "output_type": "stream",
     "text": [
      "                            OLS Regression Results                            \n",
      "==============================================================================\n",
      "Dep. Variable:                    Y02   R-squared:                       0.947\n",
      "Model:                            OLS   Adj. R-squared:                  0.947\n",
      "Method:                 Least Squares   F-statistic:                 7.749e+04\n",
      "Date:                Wed, 08 Apr 2020   Prob (F-statistic):               0.00\n",
      "Time:                        01:47:59   Log-Likelihood:                -8435.5\n",
      "No. Observations:                4320   AIC:                         1.687e+04\n",
      "Df Residuals:                    4318   BIC:                         1.689e+04\n",
      "Df Model:                           1                                         \n",
      "Covariance Type:            nonrobust                                         \n",
      "==============================================================================\n",
      "                 coef    std err          t      P>|t|      [0.025      0.975]\n",
      "------------------------------------------------------------------------------\n",
      "Intercept    -11.3917      0.128    -88.696      0.000     -11.644     -11.140\n",
      "X07            1.6334      0.006    278.372      0.000       1.622       1.645\n",
      "==============================================================================\n",
      "Omnibus:                      105.404   Durbin-Watson:                   0.054\n",
      "Prob(Omnibus):                  0.000   Jarque-Bera (JB):              112.887\n",
      "Skew:                           0.396   Prob(JB):                     3.07e-25\n",
      "Kurtosis:                       2.998   Cond. No.                         109.\n",
      "==============================================================================\n",
      "\n",
      "Warnings:\n",
      "[1] Standard Errors assume that the covariance matrix of the errors is correctly specified.\n"
     ]
    }
   ],
   "source": [
    "model = sm.OLS.from_formula('Y02 ~ X07', data=findBC)\n",
    "result = model.fit() \n",
    "print(result.summary())"
   ]
  },
  {
   "cell_type": "code",
   "execution_count": 8,
   "metadata": {},
   "outputs": [
    {
     "name": "stdout",
     "output_type": "stream",
     "text": [
      "                            OLS Regression Results                            \n",
      "==============================================================================\n",
      "Dep. Variable:                    Y16   R-squared:                       0.854\n",
      "Model:                            OLS   Adj. R-squared:                  0.854\n",
      "Method:                 Least Squares   F-statistic:                 2.520e+04\n",
      "Date:                Wed, 08 Apr 2020   Prob (F-statistic):               0.00\n",
      "Time:                        01:48:00   Log-Likelihood:                -10990.\n",
      "No. Observations:                4320   AIC:                         2.198e+04\n",
      "Df Residuals:                    4318   BIC:                         2.200e+04\n",
      "Df Model:                           1                                         \n",
      "Covariance Type:            nonrobust                                         \n",
      "==============================================================================\n",
      "                 coef    std err          t      P>|t|      [0.025      0.975]\n",
      "------------------------------------------------------------------------------\n",
      "Intercept     -8.3433      0.203    -41.152      0.000      -8.741      -7.946\n",
      "X00            1.5683      0.010    158.745      0.000       1.549       1.588\n",
      "==============================================================================\n",
      "Omnibus:                      207.098   Durbin-Watson:                   0.070\n",
      "Prob(Omnibus):                  0.000   Jarque-Bera (JB):              237.538\n",
      "Skew:                           0.574   Prob(JB):                     2.63e-52\n",
      "Kurtosis:                       2.999   Cond. No.                         89.0\n",
      "==============================================================================\n",
      "\n",
      "Warnings:\n",
      "[1] Standard Errors assume that the covariance matrix of the errors is correctly specified.\n"
     ]
    }
   ],
   "source": [
    "model = sm.OLS.from_formula('Y16 ~ X00', data=findBC)\n",
    "result = model.fit() \n",
    "print(result.summary()) "
   ]
  },
  {
   "cell_type": "markdown",
   "metadata": {},
   "source": [
    "> 지역B는 X00으로 추정, 지역C는 X07로 추정 <br>\n",
    "Y18지역과 밀접한 Y02, Y04, Y09 3지역을 중심으로 추정"
   ]
  },
  {
   "cell_type": "markdown",
   "metadata": {},
   "source": [
    "\n",
    "# 특성들중에 지역B,지역C를 찾아보아요"
   ]
  },
  {
   "cell_type": "code",
   "execution_count": 20,
   "metadata": {},
   "outputs": [],
   "source": [
    "#현지기압\n",
    "relBC = train[['X00',\"X07\",\"X01\",\"X06\",\"X22\",\"X27\",\"X29\"]]"
   ]
  },
  {
   "cell_type": "code",
   "execution_count": 26,
   "metadata": {},
   "outputs": [
    {
     "name": "stdout",
     "output_type": "stream",
     "text": [
      "                            OLS Regression Results                            \n",
      "==============================================================================\n",
      "Dep. Variable:                    X00   R-squared:                       0.019\n",
      "Model:                            OLS   Adj. R-squared:                  0.019\n",
      "Method:                 Least Squares   F-statistic:                     92.07\n",
      "Date:                Wed, 08 Apr 2020   Prob (F-statistic):           1.31e-21\n",
      "Time:                        02:04:03   Log-Likelihood:                -14058.\n",
      "No. Observations:                4752   AIC:                         2.812e+04\n",
      "Df Residuals:                    4750   BIC:                         2.813e+04\n",
      "Df Model:                           1                                         \n",
      "Covariance Type:            nonrobust                                         \n",
      "==============================================================================\n",
      "                 coef    std err          t      P>|t|      [0.025      0.975]\n",
      "------------------------------------------------------------------------------\n",
      "Intercept    213.3228     20.124     10.600      0.000     173.870     252.775\n",
      "X22           -0.1928      0.020     -9.595      0.000      -0.232      -0.153\n",
      "==============================================================================\n",
      "Omnibus:                      148.043   Durbin-Watson:                   0.006\n",
      "Prob(Omnibus):                  0.000   Jarque-Bera (JB):               69.897\n",
      "Skew:                          -0.008   Prob(JB):                     6.64e-16\n",
      "Kurtosis:                       2.406   Cond. No.                     2.98e+05\n",
      "==============================================================================\n",
      "\n",
      "Warnings:\n",
      "[1] Standard Errors assume that the covariance matrix of the errors is correctly specified.\n",
      "[2] The condition number is large, 2.98e+05. This might indicate that there are\n",
      "strong multicollinearity or other numerical problems.\n"
     ]
    }
   ],
   "source": [
    "model = sm.OLS.from_formula('X00 ~ X22', data=relBC)\n",
    "result = model.fit() \n",
    "print(result.summary()) "
   ]
  },
  {
   "cell_type": "code",
   "execution_count": 32,
   "metadata": {
    "scrolled": false
   },
   "outputs": [
    {
     "name": "stdout",
     "output_type": "stream",
     "text": [
      "                            OLS Regression Results                            \n",
      "==============================================================================\n",
      "Dep. Variable:                    X07   R-squared:                       0.006\n",
      "Model:                            OLS   Adj. R-squared:                  0.005\n",
      "Method:                 Least Squares   F-statistic:                     26.59\n",
      "Date:                Wed, 08 Apr 2020   Prob (F-statistic):           2.62e-07\n",
      "Time:                        02:05:09   Log-Likelihood:                -13745.\n",
      "No. Observations:                4752   AIC:                         2.749e+04\n",
      "Df Residuals:                    4750   BIC:                         2.751e+04\n",
      "Df Model:                           1                                         \n",
      "Covariance Type:            nonrobust                                         \n",
      "==============================================================================\n",
      "                 coef    std err          t      P>|t|      [0.025      0.975]\n",
      "------------------------------------------------------------------------------\n",
      "Intercept    118.7981     18.840      6.306      0.000      81.864     155.733\n",
      "X22           -0.0970      0.019     -5.156      0.000      -0.134      -0.060\n",
      "==============================================================================\n",
      "Omnibus:                      141.434   Durbin-Watson:                   0.003\n",
      "Prob(Omnibus):                  0.000   Jarque-Bera (JB):               80.859\n",
      "Skew:                           0.157   Prob(JB):                     2.77e-18\n",
      "Kurtosis:                       2.444   Cond. No.                     2.98e+05\n",
      "==============================================================================\n",
      "\n",
      "Warnings:\n",
      "[1] Standard Errors assume that the covariance matrix of the errors is correctly specified.\n",
      "[2] The condition number is large, 2.98e+05. This might indicate that there are\n",
      "strong multicollinearity or other numerical problems.\n"
     ]
    }
   ],
   "source": [
    "model = sm.OLS.from_formula('X07 ~ X22', data=relBC)\n",
    "result = model.fit() \n",
    "print(result.summary()) "
   ]
  },
  {
   "cell_type": "markdown",
   "metadata": {},
   "source": [
    "> 지역B는 X22로 추정, 지역C는 X22로 추정"
   ]
  },
  {
   "cell_type": "code",
   "execution_count": 33,
   "metadata": {},
   "outputs": [],
   "source": [
    "#풍속\n",
    "relBC = train[['X00',\"X07\",\"X02\",\"X03\",\"X18\",\"X24\",\"X26\"]]"
   ]
  },
  {
   "cell_type": "code",
   "execution_count": 38,
   "metadata": {},
   "outputs": [
    {
     "name": "stdout",
     "output_type": "stream",
     "text": [
      "                            OLS Regression Results                            \n",
      "==============================================================================\n",
      "Dep. Variable:                    X00   R-squared:                       0.363\n",
      "Model:                            OLS   Adj. R-squared:                  0.363\n",
      "Method:                 Least Squares   F-statistic:                     2710.\n",
      "Date:                Wed, 08 Apr 2020   Prob (F-statistic):               0.00\n",
      "Time:                        02:08:28   Log-Likelihood:                -13032.\n",
      "No. Observations:                4752   AIC:                         2.607e+04\n",
      "Df Residuals:                    4750   BIC:                         2.608e+04\n",
      "Df Model:                           1                                         \n",
      "Covariance Type:            nonrobust                                         \n",
      "==============================================================================\n",
      "                 coef    std err          t      P>|t|      [0.025      0.975]\n",
      "------------------------------------------------------------------------------\n",
      "Intercept     17.0958      0.081    210.582      0.000      16.937      17.255\n",
      "X26            2.2864      0.044     52.054      0.000       2.200       2.373\n",
      "==============================================================================\n",
      "Omnibus:                       13.844   Durbin-Watson:                   0.210\n",
      "Prob(Omnibus):                  0.001   Jarque-Bera (JB):               12.241\n",
      "Skew:                          -0.074   Prob(JB):                      0.00220\n",
      "Kurtosis:                       2.800   Cond. No.                         3.25\n",
      "==============================================================================\n",
      "\n",
      "Warnings:\n",
      "[1] Standard Errors assume that the covariance matrix of the errors is correctly specified.\n"
     ]
    }
   ],
   "source": [
    "model = sm.OLS.from_formula('X00 ~ X26', data=relBC)\n",
    "result = model.fit() \n",
    "print(result.summary()) "
   ]
  },
  {
   "cell_type": "code",
   "execution_count": 43,
   "metadata": {},
   "outputs": [
    {
     "name": "stdout",
     "output_type": "stream",
     "text": [
      "                            OLS Regression Results                            \n",
      "==============================================================================\n",
      "Dep. Variable:                    X07   R-squared:                       0.300\n",
      "Model:                            OLS   Adj. R-squared:                  0.300\n",
      "Method:                 Least Squares   F-statistic:                     2036.\n",
      "Date:                Wed, 08 Apr 2020   Prob (F-statistic):               0.00\n",
      "Time:                        02:09:23   Log-Likelihood:                -12911.\n",
      "No. Observations:                4752   AIC:                         2.583e+04\n",
      "Df Residuals:                    4750   BIC:                         2.584e+04\n",
      "Df Model:                           1                                         \n",
      "Covariance Type:            nonrobust                                         \n",
      "==============================================================================\n",
      "                 coef    std err          t      P>|t|      [0.025      0.975]\n",
      "------------------------------------------------------------------------------\n",
      "Intercept     19.0114      0.079    240.205      0.000      18.856      19.167\n",
      "X26            1.9320      0.043     45.117      0.000       1.848       2.016\n",
      "==============================================================================\n",
      "Omnibus:                       22.152   Durbin-Watson:                   0.156\n",
      "Prob(Omnibus):                  0.000   Jarque-Bera (JB):               18.204\n",
      "Skew:                          -0.079   Prob(JB):                     0.000111\n",
      "Kurtosis:                       2.742   Cond. No.                         3.25\n",
      "==============================================================================\n",
      "\n",
      "Warnings:\n",
      "[1] Standard Errors assume that the covariance matrix of the errors is correctly specified.\n"
     ]
    }
   ],
   "source": [
    "model = sm.OLS.from_formula('X07 ~ X26', data=relBC)\n",
    "result = model.fit() \n",
    "print(result.summary()) "
   ]
  },
  {
   "cell_type": "markdown",
   "metadata": {},
   "source": [
    "> 지역B는 X26로 추정, 지역C는 X26로 추정"
   ]
  },
  {
   "cell_type": "code",
   "execution_count": 45,
   "metadata": {},
   "outputs": [],
   "source": [
    "#일일강수량\n",
    "relBC = train[['X00',\"X07\",\"X04\",\"X10\",\"X21\",\"X36\",\"X39\"]]"
   ]
  },
  {
   "cell_type": "code",
   "execution_count": 51,
   "metadata": {},
   "outputs": [
    {
     "name": "stdout",
     "output_type": "stream",
     "text": [
      "                            OLS Regression Results                            \n",
      "==============================================================================\n",
      "Dep. Variable:                    X00   R-squared:                       0.016\n",
      "Model:                            OLS   Adj. R-squared:                  0.016\n",
      "Method:                 Least Squares   F-statistic:                     77.86\n",
      "Date:                Wed, 08 Apr 2020   Prob (F-statistic):           1.53e-18\n",
      "Time:                        02:11:09   Log-Likelihood:                -14065.\n",
      "No. Observations:                4752   AIC:                         2.813e+04\n",
      "Df Residuals:                    4750   BIC:                         2.815e+04\n",
      "Df Model:                           1                                         \n",
      "Covariance Type:            nonrobust                                         \n",
      "==============================================================================\n",
      "                 coef    std err          t      P>|t|      [0.025      0.975]\n",
      "------------------------------------------------------------------------------\n",
      "Intercept     20.3681      0.070    292.714      0.000      20.232      20.505\n",
      "X39           -0.1295      0.015     -8.824      0.000      -0.158      -0.101\n",
      "==============================================================================\n",
      "Omnibus:                      159.597   Durbin-Watson:                   0.006\n",
      "Prob(Omnibus):                  0.000   Jarque-Bera (JB):               80.047\n",
      "Skew:                          -0.110   Prob(JB):                     4.15e-18\n",
      "Kurtosis:                       2.403   Cond. No.                         4.88\n",
      "==============================================================================\n",
      "\n",
      "Warnings:\n",
      "[1] Standard Errors assume that the covariance matrix of the errors is correctly specified.\n"
     ]
    }
   ],
   "source": [
    "model = sm.OLS.from_formula('X00 ~ X39', data=relBC)\n",
    "result = model.fit() \n",
    "print(result.summary()) "
   ]
  },
  {
   "cell_type": "code",
   "execution_count": 57,
   "metadata": {},
   "outputs": [
    {
     "name": "stdout",
     "output_type": "stream",
     "text": [
      "                            OLS Regression Results                            \n",
      "==============================================================================\n",
      "Dep. Variable:                    X07   R-squared:                       0.043\n",
      "Model:                            OLS   Adj. R-squared:                  0.043\n",
      "Method:                 Least Squares   F-statistic:                     213.8\n",
      "Date:                Wed, 08 Apr 2020   Prob (F-statistic):           2.17e-47\n",
      "Time:                        02:11:57   Log-Likelihood:                -13654.\n",
      "No. Observations:                4752   AIC:                         2.731e+04\n",
      "Df Residuals:                    4750   BIC:                         2.732e+04\n",
      "Df Model:                           1                                         \n",
      "Covariance Type:            nonrobust                                         \n",
      "==============================================================================\n",
      "                 coef    std err          t      P>|t|      [0.025      0.975]\n",
      "------------------------------------------------------------------------------\n",
      "Intercept     21.9332      0.065    337.908      0.000      21.806      22.060\n",
      "X10           -0.2733      0.019    -14.621      0.000      -0.310      -0.237\n",
      "==============================================================================\n",
      "Omnibus:                       74.299   Durbin-Watson:                   0.004\n",
      "Prob(Omnibus):                  0.000   Jarque-Bera (JB):               43.284\n",
      "Skew:                           0.027   Prob(JB):                     3.99e-10\n",
      "Kurtosis:                       2.536   Cond. No.                         3.66\n",
      "==============================================================================\n",
      "\n",
      "Warnings:\n",
      "[1] Standard Errors assume that the covariance matrix of the errors is correctly specified.\n"
     ]
    }
   ],
   "source": [
    "model = sm.OLS.from_formula('X07 ~ X10', data=relBC)\n",
    "result = model.fit() \n",
    "print(result.summary()) "
   ]
  },
  {
   "cell_type": "code",
   "execution_count": null,
   "metadata": {},
   "outputs": [],
   "source": [
    "> 지역B는 X39로 추정, 지역C는 X10로 추정"
   ]
  },
  {
   "cell_type": "code",
   "execution_count": 58,
   "metadata": {},
   "outputs": [],
   "source": [
    "#해면기압\n",
    "relBC = train[['X00',\"X07\",\"X05\",\"X08\",\"X09\",\"X23\",\"X33\"]]"
   ]
  },
  {
   "cell_type": "code",
   "execution_count": 70,
   "metadata": {},
   "outputs": [
    {
     "name": "stdout",
     "output_type": "stream",
     "text": [
      "                            OLS Regression Results                            \n",
      "==============================================================================\n",
      "Dep. Variable:                    X07   R-squared:                       0.029\n",
      "Model:                            OLS   Adj. R-squared:                  0.029\n",
      "Method:                 Least Squares   F-statistic:                     142.7\n",
      "Date:                Wed, 08 Apr 2020   Prob (F-statistic):           1.97e-32\n",
      "Time:                        02:14:31   Log-Likelihood:                -13688.\n",
      "No. Observations:                4752   AIC:                         2.738e+04\n",
      "Df Residuals:                    4750   BIC:                         2.739e+04\n",
      "Df Model:                           1                                         \n",
      "Covariance Type:            nonrobust                                         \n",
      "==============================================================================\n",
      "                 coef    std err          t      P>|t|      [0.025      0.975]\n",
      "------------------------------------------------------------------------------\n",
      "Intercept    235.8864     17.933     13.154      0.000     200.730     271.043\n",
      "X08           -0.2124      0.018    -11.946      0.000      -0.247      -0.178\n",
      "==============================================================================\n",
      "Omnibus:                      127.420   Durbin-Watson:                   0.003\n",
      "Prob(Omnibus):                  0.000   Jarque-Bera (JB):               80.112\n",
      "Skew:                           0.182   Prob(JB):                     4.02e-18\n",
      "Kurtosis:                       2.478   Cond. No.                     2.89e+05\n",
      "==============================================================================\n",
      "\n",
      "Warnings:\n",
      "[1] Standard Errors assume that the covariance matrix of the errors is correctly specified.\n",
      "[2] The condition number is large, 2.89e+05. This might indicate that there are\n",
      "strong multicollinearity or other numerical problems.\n"
     ]
    }
   ],
   "source": [
    "model = sm.OLS.from_formula('X07 ~ X08', data=relBC)\n",
    "result = model.fit() \n",
    "print(result.summary()) "
   ]
  },
  {
   "cell_type": "code",
   "execution_count": 64,
   "metadata": {},
   "outputs": [
    {
     "name": "stdout",
     "output_type": "stream",
     "text": [
      "                            OLS Regression Results                            \n",
      "==============================================================================\n",
      "Dep. Variable:                    X00   R-squared:                       0.057\n",
      "Model:                            OLS   Adj. R-squared:                  0.057\n",
      "Method:                 Least Squares   F-statistic:                     288.9\n",
      "Date:                Wed, 08 Apr 2020   Prob (F-statistic):           6.14e-63\n",
      "Time:                        02:13:45   Log-Likelihood:                -13964.\n",
      "No. Observations:                4752   AIC:                         2.793e+04\n",
      "Df Residuals:                    4750   BIC:                         2.794e+04\n",
      "Df Model:                           1                                         \n",
      "Covariance Type:            nonrobust                                         \n",
      "==============================================================================\n",
      "                 coef    std err          t      P>|t|      [0.025      0.975]\n",
      "------------------------------------------------------------------------------\n",
      "Intercept    343.2284     19.004     18.061      0.000     305.971     380.486\n",
      "X08           -0.3202      0.019    -16.996      0.000      -0.357      -0.283\n",
      "==============================================================================\n",
      "Omnibus:                      113.124   Durbin-Watson:                   0.006\n",
      "Prob(Omnibus):                  0.000   Jarque-Bera (JB):               58.364\n",
      "Skew:                           0.020   Prob(JB):                     2.12e-13\n",
      "Kurtosis:                       2.459   Cond. No.                     2.89e+05\n",
      "==============================================================================\n",
      "\n",
      "Warnings:\n",
      "[1] Standard Errors assume that the covariance matrix of the errors is correctly specified.\n",
      "[2] The condition number is large, 2.89e+05. This might indicate that there are\n",
      "strong multicollinearity or other numerical problems.\n"
     ]
    }
   ],
   "source": [
    "model = sm.OLS.from_formula('X00 ~ X08', data=relBC)\n",
    "result = model.fit() \n",
    "print(result.summary()) "
   ]
  },
  {
   "cell_type": "markdown",
   "metadata": {},
   "source": [
    "> 지역B는 X08로 추정, 지역C는 X08로 추정"
   ]
  },
  {
   "cell_type": "code",
   "execution_count": 72,
   "metadata": {},
   "outputs": [],
   "source": [
    "#일일 누적일사량\n",
    "relBC = train[['X00',\"X07\",\"X11\",\"X14\",\"X16\",\"X19\",\"X34\"]]"
   ]
  },
  {
   "cell_type": "code",
   "execution_count": 77,
   "metadata": {},
   "outputs": [
    {
     "name": "stdout",
     "output_type": "stream",
     "text": [
      "                            OLS Regression Results                            \n",
      "==============================================================================\n",
      "Dep. Variable:                    X00   R-squared:                       0.286\n",
      "Model:                            OLS   Adj. R-squared:                  0.286\n",
      "Method:                 Least Squares   F-statistic:                     1906.\n",
      "Date:                Wed, 08 Apr 2020   Prob (F-statistic):               0.00\n",
      "Time:                        02:16:07   Log-Likelihood:                -13302.\n",
      "No. Observations:                4752   AIC:                         2.661e+04\n",
      "Df Residuals:                    4750   BIC:                         2.662e+04\n",
      "Df Model:                           1                                         \n",
      "Covariance Type:            nonrobust                                         \n",
      "==============================================================================\n",
      "                 coef    std err          t      P>|t|      [0.025      0.975]\n",
      "------------------------------------------------------------------------------\n",
      "Intercept     17.6686      0.082    214.823      0.000      17.507      17.830\n",
      "X34            0.2212      0.005     43.661      0.000       0.211       0.231\n",
      "==============================================================================\n",
      "Omnibus:                       86.378   Durbin-Watson:                   0.021\n",
      "Prob(Omnibus):                  0.000   Jarque-Bera (JB):               81.585\n",
      "Skew:                          -0.283   Prob(JB):                     1.92e-18\n",
      "Kurtosis:                       2.696   Cond. No.                         23.2\n",
      "==============================================================================\n",
      "\n",
      "Warnings:\n",
      "[1] Standard Errors assume that the covariance matrix of the errors is correctly specified.\n"
     ]
    }
   ],
   "source": [
    "model = sm.OLS.from_formula('X00 ~ X34', data=relBC)\n",
    "result = model.fit() \n",
    "print(result.summary()) "
   ]
  },
  {
   "cell_type": "code",
   "execution_count": 82,
   "metadata": {},
   "outputs": [
    {
     "name": "stdout",
     "output_type": "stream",
     "text": [
      "                            OLS Regression Results                            \n",
      "==============================================================================\n",
      "Dep. Variable:                    X07   R-squared:                       0.384\n",
      "Model:                            OLS   Adj. R-squared:                  0.384\n",
      "Method:                 Least Squares   F-statistic:                     2962.\n",
      "Date:                Wed, 08 Apr 2020   Prob (F-statistic):               0.00\n",
      "Time:                        02:16:38   Log-Likelihood:                -12607.\n",
      "No. Observations:                4752   AIC:                         2.522e+04\n",
      "Df Residuals:                    4750   BIC:                         2.523e+04\n",
      "Df Model:                           1                                         \n",
      "Covariance Type:            nonrobust                                         \n",
      "==============================================================================\n",
      "                 coef    std err          t      P>|t|      [0.025      0.975]\n",
      "------------------------------------------------------------------------------\n",
      "Intercept     18.9022      0.071    266.052      0.000      18.763      19.041\n",
      "X34            0.2382      0.004     54.428      0.000       0.230       0.247\n",
      "==============================================================================\n",
      "Omnibus:                       24.922   Durbin-Watson:                   0.024\n",
      "Prob(Omnibus):                  0.000   Jarque-Bera (JB):               21.365\n",
      "Skew:                          -0.106   Prob(JB):                     2.29e-05\n",
      "Kurtosis:                       2.749   Cond. No.                         23.2\n",
      "==============================================================================\n",
      "\n",
      "Warnings:\n",
      "[1] Standard Errors assume that the covariance matrix of the errors is correctly specified.\n"
     ]
    }
   ],
   "source": [
    "model = sm.OLS.from_formula('X07 ~ X34', data=relBC)\n",
    "result = model.fit() \n",
    "print(result.summary()) "
   ]
  },
  {
   "cell_type": "markdown",
   "metadata": {},
   "source": [
    "> 지역B는 X34로 추정, 지역C는 X34로 추정"
   ]
  },
  {
   "cell_type": "code",
   "execution_count": 83,
   "metadata": {},
   "outputs": [],
   "source": [
    "#습도\n",
    "relBC = train[['X00',\"X07\",\"X12\",\"X20\",\"X30\",\"X37\",\"X38\"]]"
   ]
  },
  {
   "cell_type": "code",
   "execution_count": 89,
   "metadata": {},
   "outputs": [
    {
     "name": "stdout",
     "output_type": "stream",
     "text": [
      "                            OLS Regression Results                            \n",
      "==============================================================================\n",
      "Dep. Variable:                    X00   R-squared:                       0.672\n",
      "Model:                            OLS   Adj. R-squared:                  0.672\n",
      "Method:                 Least Squares   F-statistic:                     9739.\n",
      "Date:                Wed, 08 Apr 2020   Prob (F-statistic):               0.00\n",
      "Time:                        02:18:11   Log-Likelihood:                -11454.\n",
      "No. Observations:                4752   AIC:                         2.291e+04\n",
      "Df Residuals:                    4750   BIC:                         2.293e+04\n",
      "Df Model:                           1                                         \n",
      "Covariance Type:            nonrobust                                         \n",
      "==============================================================================\n",
      "                 coef    std err          t      P>|t|      [0.025      0.975]\n",
      "------------------------------------------------------------------------------\n",
      "Intercept     32.8650      0.134    245.458      0.000      32.603      33.128\n",
      "X20           -0.1768      0.002    -98.685      0.000      -0.180      -0.173\n",
      "==============================================================================\n",
      "Omnibus:                      273.586   Durbin-Watson:                   0.017\n",
      "Prob(Omnibus):                  0.000   Jarque-Bera (JB):              294.082\n",
      "Skew:                          -0.580   Prob(JB):                     1.38e-64\n",
      "Kurtosis:                       2.626   Cond. No.                         256.\n",
      "==============================================================================\n",
      "\n",
      "Warnings:\n",
      "[1] Standard Errors assume that the covariance matrix of the errors is correctly specified.\n"
     ]
    }
   ],
   "source": [
    "model = sm.OLS.from_formula('X00 ~ X20', data=relBC)\n",
    "result = model.fit() \n",
    "print(result.summary()) "
   ]
  },
  {
   "cell_type": "code",
   "execution_count": 95,
   "metadata": {},
   "outputs": [
    {
     "name": "stdout",
     "output_type": "stream",
     "text": [
      "                            OLS Regression Results                            \n",
      "==============================================================================\n",
      "Dep. Variable:                    X07   R-squared:                       0.647\n",
      "Model:                            OLS   Adj. R-squared:                  0.647\n",
      "Method:                 Least Squares   F-statistic:                     8719.\n",
      "Date:                Wed, 08 Apr 2020   Prob (F-statistic):               0.00\n",
      "Time:                        02:18:54   Log-Likelihood:                -11282.\n",
      "No. Observations:                4752   AIC:                         2.257e+04\n",
      "Df Residuals:                    4750   BIC:                         2.258e+04\n",
      "Df Model:                           1                                         \n",
      "Covariance Type:            nonrobust                                         \n",
      "==============================================================================\n",
      "                 coef    std err          t      P>|t|      [0.025      0.975]\n",
      "------------------------------------------------------------------------------\n",
      "Intercept     32.4409      0.121    267.044      0.000      32.203      32.679\n",
      "X12           -0.1581      0.002    -93.374      0.000      -0.161      -0.155\n",
      "==============================================================================\n",
      "Omnibus:                      123.184   Durbin-Watson:                   0.016\n",
      "Prob(Omnibus):                  0.000   Jarque-Bera (JB):              127.657\n",
      "Skew:                          -0.384   Prob(JB):                     1.90e-28\n",
      "Kurtosis:                       2.764   Cond. No.                         231.\n",
      "==============================================================================\n",
      "\n",
      "Warnings:\n",
      "[1] Standard Errors assume that the covariance matrix of the errors is correctly specified.\n"
     ]
    }
   ],
   "source": [
    "model = sm.OLS.from_formula('X07 ~ X12', data=relBC)\n",
    "result = model.fit() \n",
    "print(result.summary()) "
   ]
  },
  {
   "cell_type": "code",
   "execution_count": null,
   "metadata": {},
   "outputs": [],
   "source": [
    "> 지역B는 X20로 추정, 지역C는 X12로 추정"
   ]
  },
  {
   "cell_type": "code",
   "execution_count": 97,
   "metadata": {},
   "outputs": [],
   "source": [
    "#풍향\n",
    "relBC = train[['X00',\"X07\",\"X13\",\"X15\",\"X17\",\"X25\",\"X35\"]]"
   ]
  },
  {
   "cell_type": "code",
   "execution_count": 103,
   "metadata": {},
   "outputs": [
    {
     "name": "stdout",
     "output_type": "stream",
     "text": [
      "                            OLS Regression Results                            \n",
      "==============================================================================\n",
      "Dep. Variable:                    X00   R-squared:                       0.216\n",
      "Model:                            OLS   Adj. R-squared:                  0.216\n",
      "Method:                 Least Squares   F-statistic:                     1312.\n",
      "Date:                Wed, 08 Apr 2020   Prob (F-statistic):          5.69e-254\n",
      "Time:                        02:20:27   Log-Likelihood:                -13524.\n",
      "No. Observations:                4752   AIC:                         2.705e+04\n",
      "Df Residuals:                    4750   BIC:                         2.707e+04\n",
      "Df Model:                           1                                         \n",
      "Covariance Type:            nonrobust                                         \n",
      "==============================================================================\n",
      "                 coef    std err          t      P>|t|      [0.025      0.975]\n",
      "------------------------------------------------------------------------------\n",
      "Intercept     17.9028      0.088    203.050      0.000      17.730      18.076\n",
      "X25            0.0167      0.000     36.228      0.000       0.016       0.018\n",
      "==============================================================================\n",
      "Omnibus:                       73.473   Durbin-Watson:                   0.185\n",
      "Prob(Omnibus):                  0.000   Jarque-Bera (JB):               76.633\n",
      "Skew:                          -0.303   Prob(JB):                     2.29e-17\n",
      "Kurtosis:                       3.142   Cond. No.                         280.\n",
      "==============================================================================\n",
      "\n",
      "Warnings:\n",
      "[1] Standard Errors assume that the covariance matrix of the errors is correctly specified.\n"
     ]
    }
   ],
   "source": [
    "model = sm.OLS.from_formula('X00 ~ X25', data=relBC)\n",
    "result = model.fit() \n",
    "print(result.summary()) "
   ]
  },
  {
   "cell_type": "code",
   "execution_count": 109,
   "metadata": {},
   "outputs": [
    {
     "name": "stdout",
     "output_type": "stream",
     "text": [
      "                            OLS Regression Results                            \n",
      "==============================================================================\n",
      "Dep. Variable:                    X07   R-squared:                       0.218\n",
      "Model:                            OLS   Adj. R-squared:                  0.218\n",
      "Method:                 Least Squares   F-statistic:                     1323.\n",
      "Date:                Wed, 08 Apr 2020   Prob (F-statistic):          8.77e-256\n",
      "Time:                        02:21:15   Log-Likelihood:                -13174.\n",
      "No. Observations:                4752   AIC:                         2.635e+04\n",
      "Df Residuals:                    4750   BIC:                         2.637e+04\n",
      "Df Model:                           1                                         \n",
      "Covariance Type:            nonrobust                                         \n",
      "==============================================================================\n",
      "                 coef    std err          t      P>|t|      [0.025      0.975]\n",
      "------------------------------------------------------------------------------\n",
      "Intercept     19.4893      0.082    237.935      0.000      19.329      19.650\n",
      "X25            0.0155      0.000     36.374      0.000       0.015       0.016\n",
      "==============================================================================\n",
      "Omnibus:                       12.161   Durbin-Watson:                   0.182\n",
      "Prob(Omnibus):                  0.002   Jarque-Bera (JB):               12.260\n",
      "Skew:                          -0.112   Prob(JB):                      0.00218\n",
      "Kurtosis:                       3.110   Cond. No.                         280.\n",
      "==============================================================================\n",
      "\n",
      "Warnings:\n",
      "[1] Standard Errors assume that the covariance matrix of the errors is correctly specified.\n"
     ]
    }
   ],
   "source": [
    "model = sm.OLS.from_formula('X07 ~ X25', data=relBC)\n",
    "result = model.fit() \n",
    "print(result.summary()) "
   ]
  },
  {
   "cell_type": "markdown",
   "metadata": {},
   "source": [
    "> 지역B는 X25로 추정, 지역C는 X25로 추정"
   ]
  },
  {
   "cell_type": "markdown",
   "metadata": {},
   "source": [
    "> 지역B와 지역C와 밀접한 연관이 있는 특성은<br>\n",
    "X08, X10,X12,X20,X22,X25,X26,X34,X39로 추정한다"
   ]
  },
  {
   "cell_type": "markdown",
   "metadata": {},
   "source": [
    "# Y18의 30일 결측치 추가해욤"
   ]
  },
  {
   "cell_type": "code",
   "execution_count": 165,
   "metadata": {},
   "outputs": [],
   "source": [
    "y_all = ['Y02', 'Y04', 'Y09','Y07','Y05','Y15']"
   ]
  },
  {
   "cell_type": "code",
   "execution_count": 166,
   "metadata": {},
   "outputs": [],
   "source": [
    "train_temp_median = train.loc[:, y_all].median(axis=1) #y00~y17의 중앙값\n",
    "train_temp_median\n",
    "train[\"Y18\"] = train_temp_median # y18의 30일치 결측치에, y00~y17의 중앙값을 추가"
   ]
  },
  {
   "cell_type": "markdown",
   "metadata": {},
   "source": [
    "# 특성으로 쏼라쏼라"
   ]
  },
  {
   "cell_type": "code",
   "execution_count": 167,
   "metadata": {},
   "outputs": [],
   "source": [
    "temperature    = [\"X00\",\"X07\"] # 기온\n",
    "local_press    = [\"X22\"] # 현지기압\n",
    "wind_speed     = [\"X26\"] # 풍속\n",
    "acc_rainfall   = [\"X10\",\"X39\"] # 누적강수량\n",
    "sea_pressure   = [\"X08\"] # 해면기압\n",
    "acc_solar      = [\"X34\"] # 누적일사량\n",
    "humidity       = [\"X12\",\"X20\"] # 습도\n",
    "wind_direction = [\"X25\"] # 풍향\n",
    "X_all = list(train[[\"X00\",\"X07\",\"X22\",\"X26\",\"X10\",\"X39\",\"X08\",\"X34\",\"X12\",\"X20\",\"X25\"]]) "
   ]
  },
  {
   "cell_type": "code",
   "execution_count": 168,
   "metadata": {},
   "outputs": [],
   "source": [
    "# X 컬럼만 표준화 하는 이유 : 각 독립변수마다 단위가 다르기 때문. 값이나 표준편차가 크면 당연히 영향이 크게 나오고 모델에 문제가 발생\n",
    "from sklearn.preprocessing import StandardScaler  \n",
    "StdScaler = StandardScaler()\n",
    "\n",
    "# 트레이닝 데이터 변환하기, 사용한 스탠다드 스케일러로 테스트 데이터 변환하기\n",
    "train_X_normed = StdScaler.fit_transform( train[X_all] ) #Array로 변환                                     \n",
    "test_X_normed = StdScaler.transform(test[X_all])\n",
    "\n",
    "train_X_normed = pd.DataFrame(columns=X_all, data = train_X_normed) # 컬럼별 N(μ,σ^2)로 변환됩니다.\n",
    "test_X_normed = pd.DataFrame(columns=X_all, data = test_X_normed)"
   ]
  },
  {
   "cell_type": "code",
   "execution_count": 169,
   "metadata": {},
   "outputs": [],
   "source": [
    "# temperature, local_press, wind_speed, acc_rainfall, sea_pressure, acc_solar, humidity, wind_direction\n",
    "\n",
    "temperature_m = pd.DataFrame(train_X_normed[temperature].mean(axis = 1))\n",
    "local_press_m = pd.DataFrame(train_X_normed[local_press].mean(axis = 1))\n",
    "wind_speed_m  = pd.DataFrame(train_X_normed[wind_speed].mean(axis = 1))\n",
    "acc_rainfall_m  = pd.DataFrame(train_X_normed[acc_rainfall].mean(axis = 1)) #강수량은 drop시키거나 T/F로 변경예정\n",
    "sea_pressure_m  = pd.DataFrame(train_X_normed[sea_pressure].mean(axis = 1))\n",
    "acc_solar_m  = pd.DataFrame(train_X_normed[acc_solar].mean(axis = 1))\n",
    "humidity_m  = pd.DataFrame(train_X_normed[humidity].mean(axis = 1))\n",
    "wind_direction_m  = pd.DataFrame(train_X_normed[wind_direction].mean(axis = 1))\n",
    "\n",
    "m_train = pd.concat([train[['Y18']], temperature_m, local_press_m, wind_speed_m, acc_rainfall_m,\n",
    "              sea_pressure_m, acc_solar_m, humidity_m, wind_direction_m], axis=1).dropna().reset_index(drop=True)\n",
    "m_train.columns = [\"Y18\", \"temperature_m\", \"local_press_m\", \"wind_speed_m\", \"acc_rainfall_m\",\n",
    "              \"sea_pressure_m\", \"acc_solar_m\", \"humidity_m\", \"wind_direction_m\"]\n",
    "\n",
    "\n",
    "temperature_m = pd.DataFrame(test_X_normed[temperature].mean(axis = 1))\n",
    "local_press_m = pd.DataFrame(test_X_normed[local_press].mean(axis = 1))\n",
    "wind_speed_m  = pd.DataFrame(test_X_normed[wind_speed].mean(axis = 1))\n",
    "acc_rainfall_m  = pd.DataFrame(test_X_normed[acc_rainfall].mean(axis = 1)) #강수량은 drop시키거나 T/F로 변경예정\n",
    "sea_pressure_m  = pd.DataFrame(test_X_normed[sea_pressure].mean(axis = 1))\n",
    "acc_solar_m  = pd.DataFrame(test_X_normed[acc_solar].mean(axis = 1))\n",
    "humidity_m  = pd.DataFrame(test_X_normed[humidity].mean(axis = 1))\n",
    "wind_direction_m  = pd.DataFrame(test_X_normed[wind_direction].mean(axis = 1))\n",
    "\n",
    "m_test = pd.concat([temperature_m, local_press_m, wind_speed_m, acc_rainfall_m,\n",
    "              sea_pressure_m, acc_solar_m, humidity_m, wind_direction_m], axis=1).dropna().reset_index(drop=True)\n",
    "m_test.columns = [\"temperature_m\", \"local_press_m\", \"wind_speed_m\", \"acc_rainfall_m\",\n",
    "              \"sea_pressure_m\", \"acc_solar_m\", \"humidity_m\", \"wind_direction_m\"]"
   ]
  },
  {
   "cell_type": "markdown",
   "metadata": {},
   "source": [
    "# 모델을 만들어보아요"
   ]
  },
  {
   "cell_type": "code",
   "execution_count": 170,
   "metadata": {},
   "outputs": [],
   "source": [
    "from sklearn.model_selection import train_test_split\n",
    "from sklearn.metrics import mean_squared_error, r2_score\n",
    "\n",
    "from sklearn.model_selection import RandomizedSearchCV\n",
    "from sklearn.linear_model import LinearRegression\n",
    "from sklearn.ensemble import RandomForestRegressor\n",
    "from sklearn.svm import SVR\n",
    "import xgboost as xgb\n",
    "import lightgbm as lgb"
   ]
  },
  {
   "cell_type": "code",
   "execution_count": 171,
   "metadata": {},
   "outputs": [],
   "source": [
    "X_00_39_y18 = pd.concat([train_X_normed, train[['Y18']]], axis=1).dropna().reset_index(drop=True)"
   ]
  },
  {
   "cell_type": "code",
   "execution_count": 172,
   "metadata": {},
   "outputs": [],
   "source": [
    "# 전체 표준화 한 데이터\n",
    "X_train = X_00_39_y18.iloc[:,:-1]\n",
    "Y_train = X_00_39_y18.iloc[:,-1]\n",
    "X_test = test_X_normed"
   ]
  },
  {
   "cell_type": "code",
   "execution_count": 173,
   "metadata": {},
   "outputs": [],
   "source": [
    "# Feature Engineering 한 데이터\n",
    "X_train_FE = m_train.iloc[:,1:]\n",
    "Y_train_FE = m_train.iloc[:,0]\n",
    "X_test_FE = m_test\n",
    "\n",
    "X_train, X_val, Y_train, Y_val = train_test_split(X_train, Y_train, test_size=0.3, random_state=1)\n",
    "X_train_FE, X_val_FE, Y_train_FE, Y_val_FE = train_test_split(X_train_FE, Y_train_FE, test_size=0.3, random_state=1)"
   ]
  },
  {
   "cell_type": "code",
   "execution_count": 174,
   "metadata": {},
   "outputs": [],
   "source": [
    "param_list = {\"n_estimators\": list(range(5, 100, 5)),\n",
    "              \"max_depth\": [4, 8, 12, 16, 20],\n",
    "              \"max_features\": list(range(2, 14, 2)),\n",
    "              \"min_samples_split\": list(range(2, 14, 2))}"
   ]
  },
  {
   "cell_type": "markdown",
   "metadata": {},
   "source": [
    "# 여러가지 모델이 있어요"
   ]
  },
  {
   "cell_type": "code",
   "execution_count": 137,
   "metadata": {},
   "outputs": [
    {
     "data": {
      "image/png": "[encoded data removed]",
      "text/plain": [
       "<Figure size 432x288 with 1 Axes>"
      ]
     },
     "metadata": {
      "needs_background": "light"
     },
     "output_type": "display_data"
    },
    {
     "name": "stdout",
     "output_type": "stream",
     "text": [
      "R_Squared : 0.9915028309786168\n",
      "MSE :  0.4453119225048543\n",
      "RMSE :  0.6673169580528089\n"
     ]
    }
   ],
   "source": [
    "XGB2 = xgb.XGBRegressor()\n",
    "\n",
    "XGB_random_search2 = RandomizedSearchCV(estimator=XGB2,\n",
    "                                        param_distributions = param_list,\n",
    "                                        n_iter = 10,\n",
    "                                        cv = 5,\n",
    "                                        random_state=1)\n",
    "\n",
    "XGB_random_search2.fit(X_train_FE, Y_train_FE)\n",
    "\n",
    "y_pred_train_6 = XGB_random_search2.predict(X_val_FE)\n",
    "plt.scatter(Y_val_FE, y_pred_train_6)\n",
    "plt.show()\n",
    "print(\"R_Squared :\", r2_score(Y_val_FE, y_pred_train_6))\n",
    "\n",
    "mse = mean_squared_error(Y_val_FE, y_pred_train_6)\n",
    "print(\"MSE : \", mse)\n",
    "print(\"RMSE : \", mse ** 0.5)"
   ]
  },
  {
   "cell_type": "code",
   "execution_count": 175,
   "metadata": {
    "scrolled": true
   },
   "outputs": [
    {
     "name": "stdout",
     "output_type": "stream",
     "text": [
      "Training until validation scores don't improve for 100 rounds\n",
      "[10]\tvalid_0's l2: 39.9767\n",
      "[20]\tvalid_0's l2: 32.9781\n",
      "[30]\tvalid_0's l2: 27.2639\n",
      "[40]\tvalid_0's l2: 22.5648\n",
      "[50]\tvalid_0's l2: 18.7206\n",
      "[60]\tvalid_0's l2: 15.5455\n",
      "[70]\tvalid_0's l2: 12.9574\n",
      "[80]\tvalid_0's l2: 10.8103\n",
      "[90]\tvalid_0's l2: 9.04662\n",
      "[100]\tvalid_0's l2: 7.61927\n",
      "[110]\tvalid_0's l2: 6.4188\n",
      "[120]\tvalid_0's l2: 5.44226\n",
      "[130]\tvalid_0's l2: 4.6275\n",
      "[140]\tvalid_0's l2: 3.95175\n",
      "[150]\tvalid_0's l2: 3.39017\n",
      "[160]\tvalid_0's l2: 2.93328\n",
      "[170]\tvalid_0's l2: 2.55117\n",
      "[180]\tvalid_0's l2: 2.23729\n",
      "[190]\tvalid_0's l2: 1.97729\n",
      "[200]\tvalid_0's l2: 1.76027\n",
      "[210]\tvalid_0's l2: 1.57927\n",
      "[220]\tvalid_0's l2: 1.4266\n",
      "[230]\tvalid_0's l2: 1.29732\n",
      "[240]\tvalid_0's l2: 1.18487\n",
      "[250]\tvalid_0's l2: 1.09586\n",
      "[260]\tvalid_0's l2: 1.0173\n",
      "[270]\tvalid_0's l2: 0.953038\n",
      "[280]\tvalid_0's l2: 0.895296\n",
      "[290]\tvalid_0's l2: 0.847356\n",
      "[300]\tvalid_0's l2: 0.802237\n",
      "[310]\tvalid_0's l2: 0.765511\n",
      "[320]\tvalid_0's l2: 0.733007\n",
      "[330]\tvalid_0's l2: 0.704803\n",
      "[340]\tvalid_0's l2: 0.67897\n",
      "[350]\tvalid_0's l2: 0.655087\n",
      "[360]\tvalid_0's l2: 0.636741\n",
      "[370]\tvalid_0's l2: 0.619013\n",
      "[380]\tvalid_0's l2: 0.602439\n",
      "[390]\tvalid_0's l2: 0.588536\n",
      "[400]\tvalid_0's l2: 0.574569\n",
      "[410]\tvalid_0's l2: 0.56154\n",
      "[420]\tvalid_0's l2: 0.550169\n",
      "[430]\tvalid_0's l2: 0.540793\n",
      "[440]\tvalid_0's l2: 0.530967\n",
      "[450]\tvalid_0's l2: 0.523484\n",
      "[460]\tvalid_0's l2: 0.514318\n",
      "[470]\tvalid_0's l2: 0.505138\n",
      "[480]\tvalid_0's l2: 0.499055\n",
      "[490]\tvalid_0's l2: 0.493136\n",
      "[500]\tvalid_0's l2: 0.488593\n",
      "[510]\tvalid_0's l2: 0.483313\n",
      "[520]\tvalid_0's l2: 0.478518\n",
      "[530]\tvalid_0's l2: 0.473704\n",
      "[540]\tvalid_0's l2: 0.468166\n",
      "[550]\tvalid_0's l2: 0.463327\n",
      "[560]\tvalid_0's l2: 0.459729\n",
      "[570]\tvalid_0's l2: 0.456308\n",
      "[580]\tvalid_0's l2: 0.452548\n",
      "[590]\tvalid_0's l2: 0.448695\n",
      "[600]\tvalid_0's l2: 0.444047\n",
      "[610]\tvalid_0's l2: 0.440985\n",
      "[620]\tvalid_0's l2: 0.438152\n",
      "[630]\tvalid_0's l2: 0.435578\n",
      "[640]\tvalid_0's l2: 0.432194\n",
      "[650]\tvalid_0's l2: 0.429248\n",
      "[660]\tvalid_0's l2: 0.426493\n",
      "[670]\tvalid_0's l2: 0.423838\n",
      "[680]\tvalid_0's l2: 0.421295\n",
      "[690]\tvalid_0's l2: 0.419192\n",
      "[700]\tvalid_0's l2: 0.417751\n",
      "[710]\tvalid_0's l2: 0.415649\n",
      "[720]\tvalid_0's l2: 0.41276\n",
      "[730]\tvalid_0's l2: 0.411535\n",
      "[740]\tvalid_0's l2: 0.408904\n",
      "[750]\tvalid_0's l2: 0.40686\n",
      "[760]\tvalid_0's l2: 0.405187\n",
      "[770]\tvalid_0's l2: 0.402572\n",
      "[780]\tvalid_0's l2: 0.401007\n",
      "[790]\tvalid_0's l2: 0.399667\n",
      "[800]\tvalid_0's l2: 0.398409\n",
      "[810]\tvalid_0's l2: 0.396593\n",
      "[820]\tvalid_0's l2: 0.394456\n",
      "[830]\tvalid_0's l2: 0.39279\n",
      "[840]\tvalid_0's l2: 0.39131\n",
      "[850]\tvalid_0's l2: 0.390116\n",
      "[860]\tvalid_0's l2: 0.38945\n",
      "[870]\tvalid_0's l2: 0.387926\n",
      "[880]\tvalid_0's l2: 0.386989\n",
      "[890]\tvalid_0's l2: 0.385859\n",
      "[900]\tvalid_0's l2: 0.384874\n",
      "[910]\tvalid_0's l2: 0.383203\n",
      "[920]\tvalid_0's l2: 0.38137\n",
      "[930]\tvalid_0's l2: 0.380626\n",
      "[940]\tvalid_0's l2: 0.379175\n",
      "[950]\tvalid_0's l2: 0.378226\n",
      "[960]\tvalid_0's l2: 0.376488\n",
      "[970]\tvalid_0's l2: 0.375674\n",
      "[980]\tvalid_0's l2: 0.374732\n",
      "[990]\tvalid_0's l2: 0.373527\n",
      "[1000]\tvalid_0's l2: 0.372451\n",
      "Did not meet early stopping. Best iteration is:\n",
      "[1000]\tvalid_0's l2: 0.372451\n"
     ]
    },
    {
     "data": {
      "image/png": "[encoded data removed]",
      "text/plain": [
       "<Figure size 432x288 with 1 Axes>"
      ]
     },
     "metadata": {
      "needs_background": "light"
     },
     "output_type": "display_data"
    },
    {
     "name": "stdout",
     "output_type": "stream",
     "text": [
      "R_Squared : 0.992311627640657\n",
      "MSE :  0.37245118228470014\n",
      "RMSE :  0.6102877864456244\n"
     ]
    }
   ],
   "source": [
    "train_ds = lgb.Dataset(X_train, label = Y_train)\n",
    "val_ds = lgb.Dataset(X_val, label = Y_val)\n",
    "\n",
    "params = {'learning_rate': 0.01, 'max_depth': 16, \n",
    "          'boosting': 'gbdt', 'objective': 'regression', \n",
    "          'metric': 'mse', 'is_training_metric': True,\n",
    "          'num_leaves': 144, 'feature_fraction': 0.9,\n",
    "          'bagging_fraction': 0.7, 'bagging_freq': 5, 'seed':1}\n",
    "\n",
    "lgb = lgb.train(params, train_ds, 1000, val_ds, verbose_eval=10, early_stopping_rounds=100)\n",
    "\n",
    "y_pred_train_7 = lgb.predict(X_val)\n",
    "plt.scatter(Y_val, y_pred_train_7)\n",
    "plt.show()\n",
    "print(\"R_Squared :\", r2_score(Y_val, y_pred_train_7))\n",
    "\n",
    "mse = mean_squared_error(Y_val, y_pred_train_7)\n",
    "print(\"MSE : \", mse)\n",
    "print(\"RMSE : \", mse ** 0.5)"
   ]
  },
  {
   "cell_type": "code",
   "execution_count": 139,
   "metadata": {},
   "outputs": [
    {
     "name": "stdout",
     "output_type": "stream",
     "text": [
      "SVR_RBF_R_Squared : 0.982066524561289\n",
      "SVR_RBF_MSE :  0.9398413053464221\n",
      "SVR_RBF_RMSE :  0.9694541275101273\n",
      "======================================================================\n",
      "SVR_Linear_R_Squared : 0.9588111966185711\n",
      "SVR_Linear_MSE :  2.1585854268993594\n",
      "SVR_Linear_RMSE :  1.4692125193107222\n",
      "======================================================================\n",
      "SVR_Polynomial_R_Squared : 0.9751986871908911\n",
      "SVR_Polynomial_MSE :  1.299764693379097\n",
      "SVR_Polynomial_RMSE :  1.1400722316498622\n",
      "======================================================================\n"
     ]
    }
   ],
   "source": [
    "svr_rbf2 = SVR(kernel='rbf', C=100, gamma=0.1, epsilon=0.1)\n",
    "svr_lin2 = SVR(kernel='linear', C=100, gamma='auto')\n",
    "svr_poly2 = SVR(kernel='poly', C=100, gamma='auto', degree=3, epsilon=0.1, coef0=1)\n",
    "\n",
    "svrs2 = [svr_rbf2, svr_lin2, svr_poly2]\n",
    "kernel_label2 = ['RBF', 'Linear', 'Polynomial']\n",
    "model_color2 = ['m', 'c', 'g']\n",
    "\n",
    "for i, svr2 in enumerate(svrs2):\n",
    "    svr2.fit(X_train_FE, Y_train_FE)\n",
    "    y_pred_train_10 = svr2.predict(X_val_FE)\n",
    "    print(\"SVR_{}_R_Squared :\".format(kernel_label2[i]), r2_score(Y_val_FE, y_pred_train_10))\n",
    "    mse = mean_squared_error(Y_val_FE, y_pred_train_10)\n",
    "    print(\"SVR_{}_MSE : \".format(kernel_label2[i]), mse)\n",
    "    print(\"SVR_{}_RMSE : \".format(kernel_label2[i]), mse ** 0.5)\n",
    "    print(\"=\"*70)"
   ]
  },
  {
   "cell_type": "code",
   "execution_count": 176,
   "metadata": {},
   "outputs": [
    {
     "data": {
      "text/plain": [
       "0.2277832324293491"
      ]
     },
     "execution_count": 176,
     "metadata": {},
     "output_type": "execute_result"
    }
   ],
   "source": [
    "import numpy as np\n",
    "def mse_AIFrenz(y_true, y_pred):\n",
    "    '''\n",
    "    y_true: 실제 값\n",
    "    y_pred: 예측 값\n",
    "    '''\n",
    "    diff = abs(y_true - y_pred)\n",
    "    less_then_one = np.where(diff < 1, 0, diff)\n",
    "    # multi-column일 경우에도 계산 할 수 있도록 np.average를 한번 더 씌움\n",
    "    score = np.average(np.average(less_then_one ** 2, axis = 0))\n",
    "    return score\n",
    "\n",
    "mse_AIFrenz(Y_val , y_pred_train_7)"
   ]
  },
  {
   "cell_type": "code",
   "execution_count": 177,
   "metadata": {},
   "outputs": [
    {
     "data": {
      "text/plain": [
       "Text(0, 0.5, 'temperature')"
      ]
     },
     "execution_count": 177,
     "metadata": {},
     "output_type": "execute_result"
    },
    {
     "data": {
      "image/png": "[encoded data removed]",
      "text/plain": [
       "<Figure size 720x360 with 1 Axes>"
      ]
     },
     "metadata": {
      "needs_background": "light"
     },
     "output_type": "display_data"
    }
   ],
   "source": [
    "import time\n",
    "now = time.strftime('%Y-%m-%d_%H;%M;%S', time.localtime(time.time()))\n",
    "\n",
    "data = lgb.predict(X_test) # 특징추출하지않은 lightGBM모델과 test셋을 가져와서 예측값을 냄\n",
    "csv_dict = {'id':test['id'], 'Y18':data} # 딕셔너리 화\n",
    "sub = pd.DataFrame(csv_dict)             # 데이터프레임화\n",
    "\n",
    "sub.to_csv(\"../input/{}_submission.csv\".format(now),index=False) #저장\n",
    "\n",
    "sub.plot(x=\"id\", y='Y18', figsize=(10,5), title=\"y_pred\")\n",
    "plt.ylabel(\"temperature\")"
   ]
  },
  {
   "cell_type": "markdown",
   "metadata": {},
   "source": [
    "# 끝이다다다다당"
   ]
  }
 ],
 "metadata": {
  "kernelspec": {
   "display_name": "Python 3",
   "language": "python",
   "name": "python3"
  },
  "language_info": {
   "codemirror_mode": {
    "name": "ipython",
    "version": 3
   },
   "file_extension": ".py",
   "mimetype": "text/x-python",
   "name": "python",
   "nbconvert_exporter": "python",
   "pygments_lexer": "ipython3",
   "version": "3.7.3"
  }
 },
 "nbformat": 4,
 "nbformat_minor": 2
}
