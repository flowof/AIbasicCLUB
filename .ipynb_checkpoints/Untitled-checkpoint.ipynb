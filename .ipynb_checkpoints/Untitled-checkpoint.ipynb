{
 "cells": [
  {
   "cell_type": "code",
   "execution_count": 17,
   "metadata": {
    "scrolled": true
   },
   "outputs": [
    {
     "name": "stdout",
     "output_type": "stream",
     "text": [
      "주민번호를 입력하세요 : 990114-2095223\n",
      "19990114\n",
      "2095223\n"
     ]
    }
   ],
   "source": [
    "#문자열1\n",
    "a = input(\"주민번호를 입력하세요 : \")\n",
    "b = int(a[:6])\n",
    "c = 19000000 + b\n",
    "num = a[7:]\n",
    "\n",
    "print(c)\n",
    "print(num)"
   ]
  },
  {
   "cell_type": "code",
   "execution_count": null,
   "metadata": {},
   "outputs": [],
   "source": [
    "birth = int(input(\"생일을 입력하세요 : \")) # int 숫자형임\n",
    "\n",
    "A = 20200114 - birth # int 숫자형임\n",
    "\n",
    "if A < 0 :\n",
    "    print(\"출력할 수 없음\")\n",
    "else:\n",
    "    A = str(A)\n",
    "    print(A[0:2])"
   ]
  },
  {
   "cell_type": "code",
   "execution_count": 18,
   "metadata": {
    "scrolled": false
   },
   "outputs": [
    {
     "name": "stdout",
     "output_type": "stream",
     "text": [
      "주민번호를 입력하세요 : 990114-2095223\n",
      "여자입니다.\n"
     ]
    }
   ],
   "source": [
    "#문자열2\n",
    "a = input(\"주민번호를 입력하세요 : \")\n",
    "b = int(a[7:8])\n",
    "\n",
    "if b == 1 :\n",
    "    print(\"남자입니다.\")\n",
    "else:\n",
    "    print(\"여자입니다.\")"
   ]
  },
  {
   "cell_type": "code",
   "execution_count": null,
   "metadata": {},
   "outputs": [],
   "source": [
    "#리스트1\n",
    "\n",
    "for i in range(1,10,2):\n",
    "    t.append(i)\n",
    "print(t)\n",
    "list"
   ]
  },
  {
   "cell_type": "code",
   "execution_count": 56,
   "metadata": {
    "scrolled": true
   },
   "outputs": [
    {
     "name": "stdout",
     "output_type": "stream",
     "text": [
      "[1, 3, 5, 7, 9]\n",
      "[9, 7, 5, 3, 1]\n"
     ]
    }
   ],
   "source": [
    "#리스트1\n",
    "\n",
    "t = []\n",
    "w = []\n",
    "\n",
    "for i in range(1,10, 2):\n",
    "    t.append(i)\n",
    "print(t)\n",
    "\n",
    "for j in range(9,0, -2) :\n",
    "    w.append(j)\n",
    "print(w)"
   ]
  },
  {
   "cell_type": "code",
   "execution_count": 30,
   "metadata": {},
   "outputs": [
    {
     "name": "stdout",
     "output_type": "stream",
     "text": [
      "9\n",
      "7\n",
      "5\n",
      "3\n",
      "1\n"
     ]
    }
   ],
   "source": [
    "#리스트1\n",
    "for j in range(9, 0, -2):\n",
    "    print(j)"
   ]
  },
  {
   "cell_type": "code",
   "execution_count": 29,
   "metadata": {
    "scrolled": false
   },
   "outputs": [
    {
     "name": "stdout",
     "output_type": "stream",
     "text": [
      "1\n",
      "3\n",
      "5\n",
      "7\n",
      "9\n"
     ]
    }
   ],
   "source": [
    "for i in range(1,10, 2):\n",
    "    print(i)"
   ]
  },
  {
   "cell_type": "code",
   "execution_count": 32,
   "metadata": {},
   "outputs": [
    {
     "data": {
      "text/plain": [
       "'Today is the first of the rest of your life'"
      ]
     },
     "execution_count": 32,
     "metadata": {},
     "output_type": "execute_result"
    }
   ],
   "source": [
    "#리스트2\n",
    "s = ['Today', 'is', 'the', 'first', 'of', 'the', 'rest', 'of', 'your', 'life']\n",
    "\n",
    "delimiter= ' '\n",
    "delimiter.join(s)"
   ]
  },
  {
   "cell_type": "code",
   "execution_count": 39,
   "metadata": {
    "scrolled": true
   },
   "outputs": [
    {
     "data": {
      "text/plain": [
       "'Today is the first of the rest of your life'"
      ]
     },
     "execution_count": 39,
     "metadata": {},
     "output_type": "execute_result"
    }
   ],
   "source": [
    "#리스트2\n",
    "s = ['Today', 'is', 'the', 'first', 'of', 'the', 'rest', 'of', 'your', 'life']\n",
    "t = ' ' #s는 리스튼데 t에다가  ' '으로 지정을 해서 문자열로 만들어준다!!\n",
    "t.join(s)"
   ]
  },
  {
   "cell_type": "code",
   "execution_count": 47,
   "metadata": {},
   "outputs": [
    {
     "name": "stdout",
     "output_type": "stream",
     "text": [
      "79.0\n"
     ]
    }
   ],
   "source": [
    "#반복문1\n",
    "a = [70, 60, 55, 75, 95, 90, 80, 80, 85, 100]\n",
    "b = 0\n",
    "\n",
    "for i in range(len(a)) :\n",
    "    b = b + a[i]\n",
    "\n",
    "print(b / 10)"
   ]
  },
  {
   "cell_type": "code",
   "execution_count": 48,
   "metadata": {},
   "outputs": [
    {
     "name": "stdout",
     "output_type": "stream",
     "text": [
      "79.0\n"
     ]
    }
   ],
   "source": [
    "#반복문1\n",
    "a = [70, 60, 55, 75, 95, 90, 80, 80, 85, 100]\n",
    "b = 0\n",
    "\n",
    "for i in range(len(a)) :\n",
    "    b = b + a[i]\n",
    "\n",
    "print(b / len(a))"
   ]
  },
  {
   "cell_type": "code",
   "execution_count": 49,
   "metadata": {},
   "outputs": [
    {
     "name": "stdout",
     "output_type": "stream",
     "text": [
      "shirt\n",
      "need\n"
     ]
    }
   ],
   "source": [
    "#조건문1\n",
    "a = \"Life is too short, you need Python\"\n",
    "\n",
    "if \"life\" in a :\n",
    "    print(\"life\")\n",
    "if \"python\" in a and \"you\" not in a :\n",
    "    print(\"python\")\n",
    "if \"shirt\" not in a:\n",
    "    print(\"shirt\")\n",
    "if \"need\" in a :\n",
    "    print(\"need\")\n",
    "else:\n",
    "    print(\"none\")"
   ]
  }
 ],
 "metadata": {
  "kernelspec": {
   "display_name": "Python 3",
   "language": "python",
   "name": "python3"
  },
  "language_info": {
   "codemirror_mode": {
    "name": "ipython",
    "version": 3
   },
   "file_extension": ".py",
   "mimetype": "text/x-python",
   "name": "python",
   "nbconvert_exporter": "python",
   "pygments_lexer": "ipython3",
   "version": "3.7.3"
  }
 },
 "nbformat": 4,
 "nbformat_minor": 2
}
