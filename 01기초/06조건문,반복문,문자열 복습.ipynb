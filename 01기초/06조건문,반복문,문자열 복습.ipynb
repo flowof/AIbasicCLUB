{
 "cells": [
  {
   "cell_type": "markdown",
   "metadata": {},
   "source": [
    "# 문자열1\n",
    "- 자신의 주민등록번호를 input문을 이용하여 입력하시오\n",
    "- 입력받은 주민번호를 yyyymmdd 형식으로 출력하시오\n",
    "- 주민번호 뒷자리를 num 변수를 이용해서 출력하시오"
   ]
  },
  {
   "cell_type": "code",
   "execution_count": 1,
   "metadata": {
    "scrolled": true
   },
   "outputs": [
    {
     "name": "stdout",
     "output_type": "stream",
     "text": [
      "주민번호를 입력하세요 : 990114\n",
      "19990114\n",
      "\n"
     ]
    }
   ],
   "source": [
    "a = input(\"주민번호를 입력하세요 : \")\n",
    "b = int(a[:6])\n",
    "c = 19000000 + b\n",
    "num = a[7:]\n",
    "\n",
    "print(c)\n",
    "print(num)"
   ]
  },
  {
   "cell_type": "code",
   "execution_count": 4,
   "metadata": {},
   "outputs": [
    {
     "name": "stdout",
     "output_type": "stream",
     "text": [
      "오늘 날짜를 입력하세요 : 20230209\n",
      "생일을 입력하세요 : 19990114\n",
      "24\n"
     ]
    }
   ],
   "source": [
    "sysdate = int(input(\"오늘 날짜를 입력하세요 : \"))\n",
    "birthdate = int(input(\"생일을 입력하세요 : \"))\n",
    "\n",
    "A = sysdate - birthdate\n",
    "\n",
    "if A < 0 :\n",
    "    print(\"출력할 수 없음\")\n",
    "else:\n",
    "    A = str(A)\n",
    "    print(A[0:2])"
   ]
  },
  {
   "cell_type": "markdown",
   "metadata": {},
   "source": [
    "# 문자열2\n",
    "- 자신의 주민등록번호를 input문을 이용하여 입력하시오\n",
    "- 주민등록번호에서 성별을 나타내는 숫자를 출력하시오"
   ]
  },
  {
   "cell_type": "code",
   "execution_count": 18,
   "metadata": {
    "scrolled": false
   },
   "outputs": [
    {
     "name": "stdout",
     "output_type": "stream",
     "text": [
      "주민번호를 입력하세요 : 990114-2095223\n",
      "여자입니다.\n"
     ]
    }
   ],
   "source": [
    "a = input(\"주민번호를 입력하세요 : \")\n",
    "b = int(a[7:8])\n",
    "\n",
    "if b == 1 or b == 3:\n",
    "    print(\"남자입니다.\")\n",
    "else:\n",
    "    print(\"여자입니다.\")"
   ]
  },
  {
   "cell_type": "markdown",
   "metadata": {},
   "source": [
    "# 리스트1\n",
    "- for문을 이용하여 1~10까지의 홀수를 리스트 형식으로 입력하시오\n",
    "- 입력 받은 리스트를 10~1의 홀수로 거꾸로 출력하시오"
   ]
  },
  {
   "cell_type": "code",
   "execution_count": 58,
   "metadata": {},
   "outputs": [
    {
     "name": "stdout",
     "output_type": "stream",
     "text": [
      "[1, 3, 5, 7, 9]\n"
     ]
    },
    {
     "data": {
      "text/plain": [
       "[9, 7, 5, 3, 1]"
      ]
     },
     "execution_count": 58,
     "metadata": {},
     "output_type": "execute_result"
    }
   ],
   "source": [
    "# 방법1\n",
    "\n",
    "t = []\n",
    "\n",
    "for i in range(1,10,2):\n",
    "    t.append(i)\n",
    "print(t)\n",
    "list(reversed(t)) #reversed(t)만 하면 에러뜸"
   ]
  },
  {
   "cell_type": "code",
   "execution_count": 56,
   "metadata": {
    "scrolled": false
   },
   "outputs": [
    {
     "name": "stdout",
     "output_type": "stream",
     "text": [
      "[1, 3, 5, 7, 9]\n",
      "[9, 7, 5, 3, 1]\n"
     ]
    }
   ],
   "source": [
    "# 방법2\n",
    "\n",
    "t = []\n",
    "w = []\n",
    "\n",
    "for i in range(1,10, 2):\n",
    "    t.append(i)\n",
    "print(t)\n",
    "\n",
    "for j in range(9,0, -2) :\n",
    "    w.append(j)\n",
    "print(w)"
   ]
  },
  {
   "cell_type": "markdown",
   "metadata": {},
   "source": [
    "# 리스트2\n",
    "- ['Today', 'is', 'the', 'first', 'of', 'the', 'rest', 'of', 'your', 'life'] 라는 리스트를 Today is the first of the rest of your life 라는 문자열로 출력하시오"
   ]
  },
  {
   "cell_type": "code",
   "execution_count": 32,
   "metadata": {},
   "outputs": [
    {
     "data": {
      "text/plain": [
       "'Today is the first of the rest of your life'"
      ]
     },
     "execution_count": 32,
     "metadata": {},
     "output_type": "execute_result"
    }
   ],
   "source": [
    "#리스트2\n",
    "s = ['Today', 'is', 'the', 'first', 'of', 'the', 'rest', 'of', 'your', 'life']\n",
    "\n",
    "delimiter= ' '\n",
    "delimiter.join(s)"
   ]
  },
  {
   "cell_type": "markdown",
   "metadata": {},
   "source": [
    "# 반복문1\n",
    "- a = [70, 60, 55, 75, 95, 90, 80, 80, 85, 100]\n",
    "- a의 평균 점수를 구하시오"
   ]
  },
  {
   "cell_type": "code",
   "execution_count": 48,
   "metadata": {},
   "outputs": [
    {
     "name": "stdout",
     "output_type": "stream",
     "text": [
      "79.0\n"
     ]
    }
   ],
   "source": [
    "a = [70, 60, 55, 75, 95, 90, 80, 80, 85, 100]\n",
    "b = 0\n",
    "\n",
    "for i in range(len(a)) :\n",
    "    b = b + a[i]\n",
    "\n",
    "print(b / len(a))"
   ]
  },
  {
   "cell_type": "markdown",
   "metadata": {},
   "source": [
    "# 조건문1"
   ]
  },
  {
   "cell_type": "code",
   "execution_count": 49,
   "metadata": {},
   "outputs": [
    {
     "name": "stdout",
     "output_type": "stream",
     "text": [
      "shirt\n",
      "need\n"
     ]
    }
   ],
   "source": [
    "a = \"Life is too short, you need Python\"\n",
    "\n",
    "if \"life\" in a :\n",
    "    print(\"life\")\n",
    "if \"python\" in a and \"you\" not in a :\n",
    "    print(\"python\")\n",
    "if \"shirt\" not in a:\n",
    "    print(\"shirt\")\n",
    "if \"need\" in a :\n",
    "    print(\"need\")\n",
    "else:\n",
    "    print(\"none\")"
   ]
  }
 ],
 "metadata": {
  "kernelspec": {
   "display_name": "Python 3",
   "language": "python",
   "name": "python3"
  },
  "language_info": {
   "codemirror_mode": {
    "name": "ipython",
    "version": 3
   },
   "file_extension": ".py",
   "mimetype": "text/x-python",
   "name": "python",
   "nbconvert_exporter": "python",
   "pygments_lexer": "ipython3",
   "version": "3.7.3"
  }
 },
 "nbformat": 4,
 "nbformat_minor": 2
}
