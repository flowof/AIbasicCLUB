{
 "cells": [
  {
   "cell_type": "code",
   "execution_count": 2,
   "metadata": {},
   "outputs": [
    {
     "name": "stdout",
     "output_type": "stream",
     "text": [
      "저녁메뉴를 입력하세요: 돼지껍데기, 연어, 곱창, 꼼장어\n",
      "돼지껍데기, 연어, 곱창, 꼼장어\n"
     ]
    }
   ],
   "source": [
    "menu=[input(\"저녁메뉴를 입력하세요: \")]\n",
    "for i in menu:\n",
    "    print(i)"
   ]
  },
  {
   "cell_type": "code",
   "execution_count": null,
   "metadata": {},
   "outputs": [],
   "source": [
    "menu=[input(\"저녁메뉴를 입력하세요: \")]\n",
    "for i in menu:\n",
    "    print(i)"
   ]
  },
  {
   "cell_type": "code",
   "execution_count": null,
   "metadata": {},
   "outputs": [],
   "source": [
    "i=0\n",
    "num=input(\"5개의 자연수를 입력하세요: \")"
   ]
  },
  {
   "cell_type": "code",
   "execution_count": 7,
   "metadata": {
    "scrolled": true
   },
   "outputs": [
    {
     "name": "stdout",
     "output_type": "stream",
     "text": [
      "[['kim', 90, 75, 70], ['park', 89, 95, 80], ['choi', 76, 85, 60]]\n",
      "0\n",
      "1\n",
      "2\n"
     ]
    }
   ],
   "source": [
    "s=[[\"kim\",90,75,70],[\"park\",89,95,80],[\"choi\",76,85,60]]\n",
    "print(s)\n",
    "for i in range(len(s)):\n",
    "    print(i)"
   ]
  },
  {
   "cell_type": "code",
   "execution_count": 8,
   "metadata": {},
   "outputs": [
    {
     "name": "stdout",
     "output_type": "stream",
     "text": [
      "[['kim', 90, 75, 70], ['park', 89, 95, 80], ['choi', 76, 85, 60]]\n",
      "[['kim', 90, 75, 70], ['park', 89, 95, 80], ['choi', 76, 85, 60]]\n",
      "[['kim', 90, 75, 70], ['park', 89, 95, 80], ['choi', 76, 85, 60]]\n",
      "[['kim', 90, 75, 70], ['park', 89, 95, 80], ['choi', 76, 85, 60]]\n"
     ]
    }
   ],
   "source": [
    "s=[[\"kim\",90,75,70],[\"park\",89,95,80],[\"choi\",76,85,60]]\n",
    "print(s)\n",
    "for i in range(len(s)):\n",
    "    print(s)"
   ]
  },
  {
   "cell_type": "code",
   "execution_count": 10,
   "metadata": {},
   "outputs": [
    {
     "name": "stdout",
     "output_type": "stream",
     "text": [
      "[['kim', 90, 75, 70], ['park', 89, 95, 80], ['choi', 76, 85, 60]]\n",
      "kim\n",
      "park\n",
      "choi\n"
     ]
    }
   ],
   "source": [
    "s=[[\"kim\",90,75,70],[\"park\",89,95,80],[\"choi\",76,85,60]]\n",
    "print(s)\n",
    "for i in range(len(s)):\n",
    "    print(s[i][0])"
   ]
  },
  {
   "cell_type": "code",
   "execution_count": 17,
   "metadata": {},
   "outputs": [
    {
     "name": "stdout",
     "output_type": "stream",
     "text": [
      "[['kim', 90, 75, 70], ['park', 89, 95, 80], ['choi', 76, 85, 60]]\n",
      "j= 1\n",
      "j= 2\n",
      "j= 3\n"
     ]
    }
   ],
   "source": [
    "s=[[\"kim\",90,75,70],[\"park\",89,95,80],[\"choi\",76,85,60]]\n",
    "print(s)\n",
    "for j in range(1,len(s[i])):\n",
    "    print(\"j=\", j)"
   ]
  },
  {
   "cell_type": "code",
   "execution_count": 2,
   "metadata": {},
   "outputs": [
    {
     "name": "stdout",
     "output_type": "stream",
     "text": [
      "[['kim', 90, 75, 70], ['park', 89, 95, 80], ['choi', 76, 85, 60]]\n",
      "kim\n",
      "sum= 90 average= 90.0\n",
      "sum= 165 average= 82.5\n",
      "park\n",
      "sum= 89 average= 89.0\n",
      "sum= 184 average= 92.0\n",
      "choi\n",
      "sum= 76 average= 76.0\n",
      "sum= 161 average= 80.5\n"
     ]
    }
   ],
   "source": [
    "s=[[\"kim\",90,75,70],[\"park\",89,95,80],[\"choi\",76,85,60]]\n",
    "print(s)\n",
    "for i in range(len(s)):\n",
    "    print(s[i][0])\n",
    "    sum = 0\n",
    "    for j in range(1,len(s)):\n",
    "        sum = sum + s[i][j]\n",
    "        print(\"sum=\", sum, \"average=\", sum/j)"
   ]
  },
  {
   "cell_type": "code",
   "execution_count": 8,
   "metadata": {},
   "outputs": [
    {
     "ename": "IndentationError",
     "evalue": "unexpected indent (<ipython-input-8-9be854a7bf7d>, line 5)",
     "output_type": "error",
     "traceback": [
      "\u001b[1;36m  File \u001b[1;32m\"<ipython-input-8-9be854a7bf7d>\"\u001b[1;36m, line \u001b[1;32m5\u001b[0m\n\u001b[1;33m    for i in range(k):\u001b[0m\n\u001b[1;37m    ^\u001b[0m\n\u001b[1;31mIndentationError\u001b[0m\u001b[1;31m:\u001b[0m unexpected indent\n"
     ]
    }
   ],
   "source": [
    "t= ['dog','monkey', 'R','python', 'starcraft']\n",
    "x= ['Korea', 'R', 'LOL', 'python', 'apple']\n",
    "k= t + x\n",
    "print(k)\n",
    "    for i in range(k):\n",
    "        \n",
    "        print(i)\n"
   ]
  },
  {
   "cell_type": "code",
   "execution_count": null,
   "metadata": {},
   "outputs": [],
   "source": []
  }
 ],
 "metadata": {
  "kernelspec": {
   "display_name": "Python 3",
   "language": "python",
   "name": "python3"
  },
  "language_info": {
   "codemirror_mode": {
    "name": "ipython",
    "version": 3
   },
   "file_extension": ".py",
   "mimetype": "text/x-python",
   "name": "python",
   "nbconvert_exporter": "python",
   "pygments_lexer": "ipython3",
   "version": "3.7.3"
  }
 },
 "nbformat": 4,
 "nbformat_minor": 2
}
