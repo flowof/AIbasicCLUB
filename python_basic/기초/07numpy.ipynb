{
 "cells": [
  {
   "cell_type": "code",
   "execution_count": 9,
   "metadata": {},
   "outputs": [],
   "source": [
    "import pandas as pd"
   ]
  },
  {
   "cell_type": "code",
   "execution_count": 12,
   "metadata": {
    "scrolled": true
   },
   "outputs": [
    {
     "data": {
      "text/html": [
       "<div>\n",
       "<style scoped>\n",
       "    .dataframe tbody tr th:only-of-type {\n",
       "        vertical-align: middle;\n",
       "    }\n",
       "\n",
       "    .dataframe tbody tr th {\n",
       "        vertical-align: top;\n",
       "    }\n",
       "\n",
       "    .dataframe thead th {\n",
       "        text-align: right;\n",
       "    }\n",
       "</style>\n",
       "<table border=\"1\" class=\"dataframe\">\n",
       "  <thead>\n",
       "    <tr style=\"text-align: right;\">\n",
       "      <th></th>\n",
       "      <th>시군구</th>\n",
       "      <th>번지</th>\n",
       "      <th>본번</th>\n",
       "      <th>부번</th>\n",
       "      <th>단지명</th>\n",
       "      <th>전용면적(㎡)</th>\n",
       "      <th>계약년월</th>\n",
       "      <th>계약일</th>\n",
       "      <th>거래금액(만원)</th>\n",
       "      <th>층</th>\n",
       "      <th>건축년도</th>\n",
       "      <th>도로명</th>\n",
       "    </tr>\n",
       "  </thead>\n",
       "  <tbody>\n",
       "    <tr>\n",
       "      <th>0</th>\n",
       "      <td>부산광역시 강서구 녹산동</td>\n",
       "      <td>262-1</td>\n",
       "      <td>262</td>\n",
       "      <td>1</td>\n",
       "      <td>유나베네스1차</td>\n",
       "      <td>72.5242</td>\n",
       "      <td>201710</td>\n",
       "      <td>1</td>\n",
       "      <td>20,500</td>\n",
       "      <td>6</td>\n",
       "      <td>2017</td>\n",
       "      <td>화전산업대로 272-9</td>\n",
       "    </tr>\n",
       "    <tr>\n",
       "      <th>1</th>\n",
       "      <td>부산광역시 강서구 녹산동</td>\n",
       "      <td>262-1</td>\n",
       "      <td>262</td>\n",
       "      <td>1</td>\n",
       "      <td>유나베네스1차</td>\n",
       "      <td>72.5242</td>\n",
       "      <td>201710</td>\n",
       "      <td>2</td>\n",
       "      <td>20,500</td>\n",
       "      <td>3</td>\n",
       "      <td>2017</td>\n",
       "      <td>화전산업대로 272-9</td>\n",
       "    </tr>\n",
       "    <tr>\n",
       "      <th>2</th>\n",
       "      <td>부산광역시 강서구 녹산동</td>\n",
       "      <td>262-1</td>\n",
       "      <td>262</td>\n",
       "      <td>1</td>\n",
       "      <td>유나베네스1차</td>\n",
       "      <td>62.2475</td>\n",
       "      <td>201710</td>\n",
       "      <td>24</td>\n",
       "      <td>19,000</td>\n",
       "      <td>5</td>\n",
       "      <td>2017</td>\n",
       "      <td>화전산업대로 272-9</td>\n",
       "    </tr>\n",
       "    <tr>\n",
       "      <th>3</th>\n",
       "      <td>부산광역시 강서구 녹산동</td>\n",
       "      <td>262-1</td>\n",
       "      <td>262</td>\n",
       "      <td>1</td>\n",
       "      <td>유나베네스1차</td>\n",
       "      <td>62.2475</td>\n",
       "      <td>201710</td>\n",
       "      <td>25</td>\n",
       "      <td>18,800</td>\n",
       "      <td>2</td>\n",
       "      <td>2017</td>\n",
       "      <td>화전산업대로 272-9</td>\n",
       "    </tr>\n",
       "    <tr>\n",
       "      <th>4</th>\n",
       "      <td>부산광역시 강서구 녹산동</td>\n",
       "      <td>262-1</td>\n",
       "      <td>262</td>\n",
       "      <td>1</td>\n",
       "      <td>유나베네스1차</td>\n",
       "      <td>72.5242</td>\n",
       "      <td>201710</td>\n",
       "      <td>26</td>\n",
       "      <td>20,800</td>\n",
       "      <td>2</td>\n",
       "      <td>2017</td>\n",
       "      <td>화전산업대로 272-9</td>\n",
       "    </tr>\n",
       "  </tbody>\n",
       "</table>\n",
       "</div>"
      ],
      "text/plain": [
       "             시군구     번지   본번  부번      단지명  전용면적(㎡)    계약년월  계약일 거래금액(만원)  층  \\\n",
       "0  부산광역시 강서구 녹산동  262-1  262   1  유나베네스1차  72.5242  201710    1   20,500  6   \n",
       "1  부산광역시 강서구 녹산동  262-1  262   1  유나베네스1차  72.5242  201710    2   20,500  3   \n",
       "2  부산광역시 강서구 녹산동  262-1  262   1  유나베네스1차  62.2475  201710   24   19,000  5   \n",
       "3  부산광역시 강서구 녹산동  262-1  262   1  유나베네스1차  62.2475  201710   25   18,800  2   \n",
       "4  부산광역시 강서구 녹산동  262-1  262   1  유나베네스1차  72.5242  201710   26   20,800  2   \n",
       "\n",
       "   건축년도           도로명  \n",
       "0  2017  화전산업대로 272-9  \n",
       "1  2017  화전산업대로 272-9  \n",
       "2  2017  화전산업대로 272-9  \n",
       "3  2017  화전산업대로 272-9  \n",
       "4  2017  화전산업대로 272-9  "
      ]
     },
     "execution_count": 12,
     "metadata": {},
     "output_type": "execute_result"
    }
   ],
   "source": [
    "a = pd.read_csv('쥬피터 소스파일/17~19 아파트매매 자료.csv')\n",
    ".head()"
   ]
  },
  {
   "cell_type": "markdown",
   "metadata": {},
   "source": [
    "# 과제1\n",
    "- np 변수에 실수 5개가 들어간 리스트를 저장하시오\n",
    "- flotV 리스트 안에 np 리스트를 3개 넣으시오\n",
    "- 첫 번째 flotV의 리스트를 \"그냥\"으로 변경하시오"
   ]
  },
  {
   "cell_type": "code",
   "execution_count": 14,
   "metadata": {
    "scrolled": true
   },
   "outputs": [
    {
     "name": "stdout",
     "output_type": "stream",
     "text": [
      "[[1, 2, 3, 4, 5], [1, 2, 3, 4, 5], [1, 2, 3, 4, 5]]\n"
     ]
    }
   ],
   "source": [
    "import numpy as np\n",
    "b = [1, 2, 3, 4, 5]\n",
    "\n",
    "floatV = [b, b, b]\n",
    "print(floatV)"
   ]
  },
  {
   "cell_type": "markdown",
   "metadata": {},
   "source": [
    "# 과제2\n",
    "- numpy를 import 하시오\n",
    "- numpy를 이용해서 5개의 실수를 가지는 배열을 생성하시오\n",
    "- 생성한 배열의 합을 구하시오\n",
    "- 생성한 배열의 표준편차를 구하시오"
   ]
  },
  {
   "cell_type": "code",
   "execution_count": 27,
   "metadata": {
    "scrolled": true
   },
   "outputs": [
    {
     "name": "stdout",
     "output_type": "stream",
     "text": [
      "15\n",
      "1.4142135623730951\n"
     ]
    }
   ],
   "source": [
    "import numpy as np\n",
    "\n",
    "c= np.array([1, 2, 3, 4, 5])\n",
    "\n",
    "print(c.sum())\n",
    "print(c.std())"
   ]
  },
  {
   "cell_type": "markdown",
   "metadata": {},
   "source": [
    "# 과제3\n",
    "- np.zeros를 활용해서 2차원 배열을 생성하시오\n",
    "- np.zeros를 활용해서 3차원 배열을 생성하시오"
   ]
  },
  {
   "cell_type": "code",
   "execution_count": 38,
   "metadata": {
    "scrolled": true
   },
   "outputs": [
    {
     "name": "stdout",
     "output_type": "stream",
     "text": [
      "[[0 0 0]\n",
      " [0 0 0]]\n"
     ]
    }
   ],
   "source": [
    "# 2차원 배열\n",
    "c = np.zeros((2,3), dtype = 'i')\n",
    "print(c)"
   ]
  },
  {
   "cell_type": "code",
   "execution_count": 40,
   "metadata": {
    "scrolled": true
   },
   "outputs": [
    {
     "name": "stdout",
     "output_type": "stream",
     "text": [
      "[[0 0 0]\n",
      " [0 0 0]\n",
      " [0 0 0]]\n"
     ]
    }
   ],
   "source": [
    "# 3차원 배열\n",
    "c = np.zeros((3,3), dtype = 'i') #행의 개수가 차원의 개수\n",
    "print(c)"
   ]
  },
  {
   "cell_type": "markdown",
   "metadata": {},
   "source": [
    "# 과제4\n",
    "- pandas를 import 하시오\n",
    "- pandas를 이용해서 데이터 Series를 생성하시오\n",
    "- pandas를 이용해서 데이터 프레임을 생성하시오"
   ]
  },
  {
   "cell_type": "code",
   "execution_count": 42,
   "metadata": {},
   "outputs": [
    {
     "name": "stdout",
     "output_type": "stream",
     "text": [
      "아    200\n",
      "이    300\n",
      "우    400\n",
      "dtype: int64\n"
     ]
    }
   ],
   "source": [
    "import pandas as pd\n",
    "pandas_series = pd.Series([200, 300, 400], index = ['아', '이', '우'])\n",
    "print(pandas_series)"
   ]
  },
  {
   "cell_type": "code",
   "execution_count": 49,
   "metadata": {
    "scrolled": true
   },
   "outputs": [
    {
     "name": "stdout",
     "output_type": "stream",
     "text": [
      "   모르지\n",
      "아  200\n",
      "이  300\n",
      "우  400\n"
     ]
    }
   ],
   "source": [
    "import pandas as pd\n",
    "pandas_DataFrame = pd.DataFrame([200, 300, 400], index = ['아', '이', '우'], columns = ['모르지'])\n",
    "print(pandas_DataFrame)"
   ]
  },
  {
   "cell_type": "code",
   "execution_count": null,
   "metadata": {},
   "outputs": [],
   "source": []
  },
  {
   "cell_type": "code",
   "execution_count": null,
   "metadata": {},
   "outputs": [],
   "source": []
  },
  {
   "cell_type": "code",
   "execution_count": null,
   "metadata": {},
   "outputs": [],
   "source": []
  },
  {
   "cell_type": "code",
   "execution_count": null,
   "metadata": {},
   "outputs": [],
   "source": []
  },
  {
   "cell_type": "code",
   "execution_count": null,
   "metadata": {},
   "outputs": [],
   "source": []
  },
  {
   "cell_type": "code",
   "execution_count": null,
   "metadata": {},
   "outputs": [],
   "source": []
  },
  {
   "cell_type": "code",
   "execution_count": null,
   "metadata": {},
   "outputs": [],
   "source": []
  }
 ],
 "metadata": {
  "kernelspec": {
   "display_name": "Python 3",
   "language": "python",
   "name": "python3"
  },
  "language_info": {
   "codemirror_mode": {
    "name": "ipython",
    "version": 3
   },
   "file_extension": ".py",
   "mimetype": "text/x-python",
   "name": "python",
   "nbconvert_exporter": "python",
   "pygments_lexer": "ipython3",
   "version": "3.7.3"
  }
 },
 "nbformat": 4,
 "nbformat_minor": 2
}
