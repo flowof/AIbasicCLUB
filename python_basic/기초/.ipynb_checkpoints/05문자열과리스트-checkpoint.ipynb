{
 "cells": [
  {
   "cell_type": "markdown",
   "metadata": {},
   "source": [
    "# 문자열1\n",
    "- 점심메뉴를 input을 활용하여 입력하시오\n",
    "- for문을 이용하여 입력받은 문자열은 리스트 형식으로 출력하시오"
   ]
  },
  {
   "cell_type": "code",
   "execution_count": 2,
   "metadata": {
    "scrolled": true
   },
   "outputs": [
    {
     "name": "stdout",
     "output_type": "stream",
     "text": [
      "우리 점심 모머겅?? : 양곱창\n",
      "양\n",
      "곱\n",
      "창\n"
     ]
    }
   ],
   "source": [
    "#문자열1\n",
    "menu = input(\"우리 점심 모머겅?? : \")\n",
    "for i in menu :\n",
    "    print(i)"
   ]
  },
  {
   "cell_type": "markdown",
   "metadata": {},
   "source": [
    "# List1\n",
    "- 리스트를 이용하여 5개의 임의의 자연수를 input을 이용하여 입력하시오\n",
    "- 입력한 자연수를 특정 리스트에 저장하시오\n",
    "- 추가한 자연수를 리스트 형태로 출력하시오"
   ]
  },
  {
   "cell_type": "code",
   "execution_count": 8,
   "metadata": {
    "scrolled": false
   },
   "outputs": [
    {
     "name": "stdout",
     "output_type": "stream",
     "text": [
      "자연수 적어보셈 : 2\n",
      "2\n",
      "추가할 element 입력:3\n",
      "2\n",
      "추가할 element 입력:4\n",
      "['3', '4']\n"
     ]
    }
   ],
   "source": [
    "num = int(input(\"자연수 적어보세요 : \"))\n",
    "newlist = []\n",
    "templist =[0]\n",
    "\n",
    "for i in range(num) :\n",
    "    print(num)\n",
    "    t= input(\"추가할 element 입력:\")\n",
    "    templist =[t]\n",
    "    newlist =newlist + templist\n",
    "    \n",
    "print(newlist)    "
   ]
  },
  {
   "cell_type": "markdown",
   "metadata": {},
   "source": [
    "# List2\n",
    "- s = [[\"kim\", 90, 75],[\"park\", 89, 95], [\"choi\", 76, 85]] 리스트를 생성하시오\n",
    "- for문을 이용하여 이름 별로 점수의 합과 평균을 출력하시오"
   ]
  },
  {
   "cell_type": "code",
   "execution_count": 26,
   "metadata": {
    "scrolled": false
   },
   "outputs": [
    {
     "name": "stdout",
     "output_type": "stream",
     "text": [
      "[['kim', 90, 75], ['park', 89, 95], ['choi', 76, 85]]\n",
      "kim\n",
      "sum = 165 average = 82.5\n",
      "park\n",
      "sum = 184 average = 92.0\n",
      "choi\n",
      "sum = 161 average = 80.5\n"
     ]
    }
   ],
   "source": [
    "s = [[\"kim\", 90, 75],[\"park\", 89, 95], [\"choi\", 76, 85]]\n",
    "print(s)\n",
    "len(s)\n",
    "for i in range(len(s)) :\n",
    "    print(s[i][0])\n",
    "    sum = 0\n",
    "    for j in range(1,len(s[i])) :\n",
    "        sum = sum + s[i][j] \n",
    "    print(\"sum =\", sum, \"average =\", sum / j)"
   ]
  },
  {
   "cell_type": "code",
   "execution_count": 8,
   "metadata": {
    "scrolled": true
   },
   "outputs": [
    {
     "name": "stdout",
     "output_type": "stream",
     "text": [
      "리스트 : [['kim', 90, 75], ['park', 89, 95], ['choi', 76, 85]]\n",
      "리스트의 길이 : 3\n"
     ]
    }
   ],
   "source": [
    "s = [[\"kim\", 90, 75],[\"park\", 89, 95], [\"choi\", 76, 85]]\n",
    "print(\"리스트 :\", s)\n",
    "print(\"리스트의 길이 :\", len(s))"
   ]
  },
  {
   "cell_type": "markdown",
   "metadata": {},
   "source": [
    "# List3\n",
    "- list01 = ['dog', 'monkey', 'R', 'Python', 'starcraft']\n",
    "- list02 = ['Korea', 'R','LOL', 'Python', 'apple']\n",
    "- 중복되는 아이템을 제거하고 하나의 리스트로 출력하시오"
   ]
  },
  {
   "cell_type": "code",
   "execution_count": 29,
   "metadata": {},
   "outputs": [
    {
     "name": "stdout",
     "output_type": "stream",
     "text": [
      "['dog', 'monkey', 'R', 'Python', 'starcraft', 'Korea', 'LOL', 'apple']\n"
     ]
    }
   ],
   "source": [
    "list01 = ['dog', 'monkey', 'R', 'Python', 'starcraft']\n",
    "list02 = ['Korea', 'R','LOL', 'Python', 'apple']\n",
    "\n",
    "for i in range(len(list01)) :\n",
    "    if list01[i] in list02 :\n",
    "        list02.remove(list01[i])\n",
    "        \n",
    "list03 = list01 + list02\n",
    "print(list03)"
   ]
  },
  {
   "cell_type": "code",
   "execution_count": 30,
   "metadata": {},
   "outputs": [
    {
     "name": "stdout",
     "output_type": "stream",
     "text": [
      "['dog', 'monkey', 'R', 'Python', 'starcraft', 'Korea', 'LOL', 'apple']\n",
      "정렬 후 : ['Korea', 'LOL', 'Python', 'R', 'apple', 'dog', 'monkey', 'starcraft']\n"
     ]
    }
   ],
   "source": [
    "list01 = ['dog', 'monkey', 'R', 'Python', 'starcraft']\n",
    "list02 = ['Korea', 'R','LOL', 'Python', 'apple']\n",
    "\n",
    "for i in range(len(list01)) :\n",
    "    if list01[i] in list02 :\n",
    "        list02.remove(list01[i])\n",
    "        \n",
    "list03 = list01 + list02\n",
    "print(list03)\n",
    "\n",
    "list03.sort()\n",
    "print(\"정렬 후 :\", list03)"
   ]
  },
  {
   "cell_type": "markdown",
   "metadata": {},
   "source": [
    "# List4\n",
    "- input문을 이용하여 한글 문장을 5개의 어절을 사용하여 입력하시오\n",
    "- input문을 이용하여 제거할 단어를 입력하시오\n",
    "- input문을 이용하여 추가할 단어를 저장하시오\n",
    "- 리스트를 문자열로 바꾼 뒤 출력하시오"
   ]
  },
  {
   "cell_type": "code",
   "execution_count": 1,
   "metadata": {
    "scrolled": true
   },
   "outputs": [
    {
     "name": "stdout",
     "output_type": "stream",
     "text": [
      "5개 어절의 문장을 적어보세요 : 어려운거 하다가 쉬운거 하니까 조금 쉽다\n",
      "<class 'list'> 6 \n",
      "\n",
      "제거할 단어 적어보세요 : 조금\n",
      "<class 'str'> \n",
      "\n",
      "추가할 단어 적어보세요 : 너무너무\n",
      "<class 'str'> \n",
      "\n",
      "제거할 단어의 위치 : 4 \n",
      "\n",
      "변경된 문장 : 어려운거 하다가 쉬운거 하니까 너무너무 쉽다\n",
      "<class 'str'>\n"
     ]
    }
   ],
   "source": [
    "sen = input(\"5개 어절의 문장을 적어보세요 : \") # 어려운거 하다가 쉬운거 하니까 조금 쉽다\n",
    "senlist = sen.split()\n",
    "print(type(senlist), len(senlist), '\\n')\n",
    "\n",
    "remove_w = input(\"제거할 단어 적어보세요 : \") # 조금\n",
    "print(type(remove_w), '\\n')\n",
    "\n",
    "new_w = input(\"추가할 단어 적어보세요 : \") # 너무너무\n",
    "print(type(new_w), '\\n')\n",
    "\n",
    "count = 0\n",
    "for i in range(len(senlist)) :\n",
    "    \n",
    "    if remove_w != senlist[i]:\n",
    "        count = i+1\n",
    "    else :\n",
    "        print(\"제거할 단어의 위치 :\", count, '\\n')\n",
    "        \n",
    "        senlist.remove(remove_w)\n",
    "        senlist.insert(count, new_w)\n",
    "\n",
    "        \n",
    "new_sen = \" \".join(senlist)\n",
    "print(\"변경된 문장 :\", new_sen)\n",
    "print(type(new_sen))"
   ]
  }
 ],
 "metadata": {
  "kernelspec": {
   "display_name": "Python 3",
   "language": "python",
   "name": "python3"
  },
  "language_info": {
   "codemirror_mode": {
    "name": "ipython",
    "version": 3
   },
   "file_extension": ".py",
   "mimetype": "text/x-python",
   "name": "python",
   "nbconvert_exporter": "python",
   "pygments_lexer": "ipython3",
   "version": "3.7.3"
  }
 },
 "nbformat": 4,
 "nbformat_minor": 2
}
