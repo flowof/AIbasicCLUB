{
 "cells": [
  {
   "cell_type": "markdown",
   "metadata": {},
   "source": [
    "# 복습과제1\n",
    "- input 문을 이용해서 'school' 변수에 자신의 소속학교 이름을 저장\n",
    "- 'year'에 자신의 입학년도를 저장\n",
    "- 나는 언제 어디 하굑에 입학했다. 라는 문장 출력"
   ]
  },
  {
   "cell_type": "code",
   "execution_count": 1,
   "metadata": {
    "scrolled": true
   },
   "outputs": [
    {
     "name": "stdout",
     "output_type": "stream",
     "text": [
      "소속학교를 적으세요 : 동아대학교\n",
      "입학년도를 적으세요 : 2018\n",
      "나는 2018 년도 동아대학교 에 입학했다.\n"
     ]
    }
   ],
   "source": [
    "school = input(\"소속학교를 적으세요 : \")\n",
    "year = input(\"입학년도를 적으세요 : \")\n",
    "print(\"나는\",year,\"년도\", school,\"에 입학했다.\")"
   ]
  },
  {
   "cell_type": "markdown",
   "metadata": {},
   "source": [
    "# 조건문 과제1\n",
    "- input 문을 이용해서 국어, 영어, 수학 3개 과목 점수 입력\n",
    "- 입력 받은 점수의 평균이 60점 미만이면 시험에 불합격이고, 한 과목이라도 40점이면 과락으로 불합격임\n",
    "- 합격인 경우 합격이라고 알려줌\n",
    "- 합격조건을 AND 를 이용\n",
    "- 합격조건을 OR 를 이용"
   ]
  },
  {
   "cell_type": "code",
   "execution_count": 5,
   "metadata": {},
   "outputs": [
    {
     "name": "stdout",
     "output_type": "stream",
     "text": [
      "성적을 입력하세요 : 80\n",
      "성적을 입력하세요 : 70\n",
      "성적을 입력하세요 : 30\n",
      "평균은 60.0 점이지만 과락이 존재하므로 불합격입니다.\n"
     ]
    }
   ],
   "source": [
    "kor = input(\"성적을 입력하세요 : \")\n",
    "kor = float(kor)\n",
    "eng = input(\"성적을 입력하세요 : \")\n",
    "eng = float(eng)\n",
    "math = input(\"성적을 입력하세요 : \")\n",
    "math = float(math)\n",
    "\n",
    "avg = (kor + eng + math) / 3\n",
    "\n",
    "if avg >= 60 :\n",
    "    if kor < 40 or eng <40 or math <40 :\n",
    "        print(\"평균은\", avg,\"점이지만 과락이 존재하므로 불합격입니다.\")\n",
    "    else:\n",
    "        print(\"평균은\", avg,\"점이고 과락이 없으므로 합격입니다.\")\n",
    "else:\n",
    "    print(\"평균은\",avg, \"점이므로 불합격입니다.\")"
   ]
  },
  {
   "cell_type": "markdown",
   "metadata": {},
   "source": [
    "# 조건문 과제2\n",
    "- BMI 지수를 input문을 이용해서 구해라\n",
    "- 키는 height, 몸무게는 weight를 이용\n",
    "- BMI =  weight / (height*height)\n",
    "- 먼저 키와 몸무게를 입력하시오\n",
    "\n",
    "- if ~ elif문을 이용\n",
    "\n",
    "|BMI지수|분류|\n",
    "|-------|----|\n",
    "|<18    |저체중|\n",
    "|18.5~22.9|정상|\n",
    "|23~24.9|보기 좋음|\n",
    "|25~29.9|약간 위험|\n",
    "|30~39.9|뚱|\n"
   ]
  },
  {
   "cell_type": "code",
   "execution_count": 8,
   "metadata": {},
   "outputs": [
    {
     "name": "stdout",
     "output_type": "stream",
     "text": [
      "키를 입력하세요 : 180\n",
      "몸무게를 입력하세요 : 75\n",
      "저체중\n"
     ]
    }
   ],
   "source": [
    "height = float(input(\"키를 입력하세요 : \"))\n",
    "weight = float(input(\"몸무게를 입력하세요 : \"))\n",
    "\n",
    "BMI =  weight / (height*height)\n",
    "\n",
    "if BMI < 18:\n",
    "    print(\"저체중\")\n",
    "elif 18.5 < BMI and BMI < 22.9 :\n",
    "    print(\"정상\")\n",
    "elif 23 < BMI and BMI < 24.9 :\n",
    "    print(\"보기 좋음\")\n",
    "elif 25 < BMI and BMI < 29.9 :\n",
    "    print(\"약간 위험\")\n",
    "elif 30 < BMI and BMI < 39.9 :\n",
    "    print(\"뚱\")"
   ]
  },
  {
   "cell_type": "markdown",
   "metadata": {},
   "source": [
    "# 조건문 과제3\n",
    "- input 문을 이용해서 점수를 입력하시오\n",
    "- 학점기준은 아래와 같음\n",
    "- 80~100 : A\n",
    "- 60~79 : B\n",
    "- 50~59 : C\n",
    "- 50 이하 : F \n",
    "\n",
    "- if문을 이용하여 화면에 학점을 출력하시오"
   ]
  },
  {
   "cell_type": "code",
   "execution_count": 17,
   "metadata": {
    "scrolled": true
   },
   "outputs": [
    {
     "name": "stdout",
     "output_type": "stream",
     "text": [
      "점수를 입력하세요 : 65\n",
      "B\n"
     ]
    }
   ],
   "source": [
    "score = float(input(\"점수를 입력하세요 : \"))\n",
    "\n",
    "if 80 < score and score < 100 :\n",
    "    print(\"A\")\n",
    "elif 60 < score and score < 79 :\n",
    "    print(\"B\")\n",
    "elif 50 < score and score < 59 :\n",
    "    print(\"C\")\n",
    "elif 50 >= score :\n",
    "    print(\"F\")"
   ]
  },
  {
   "cell_type": "markdown",
   "metadata": {},
   "source": [
    "# 조건문 과제4\n",
    "- input 문을 이용해서 3개의 정수를 입력하시오\n",
    "- if문을 이용해서 입력한 3개의 정수 중 가장 큰 정수를 찾으시오\n",
    "- 기준이 되는 변수부터 설정하시오"
   ]
  },
  {
   "cell_type": "code",
   "execution_count": 1,
   "metadata": {
    "scrolled": false
   },
   "outputs": [
    {
     "name": "stdout",
     "output_type": "stream",
     "text": [
      "정수를 입력하세요 : 1\n",
      "정수를 입력하세요 : 2\n",
      "정수를 입력하세요 : 3\n",
      "\n",
      "제일 큰 정수는 3 이다.\n"
     ]
    }
   ],
   "source": [
    "a = int(input(\"정수를 입력하세요 : \"))\n",
    "b = int(input(\"정수를 입력하세요 : \"))\n",
    "c = int(input(\"정수를 입력하세요 : \"))\n",
    "\n",
    "count = 0\n",
    "\n",
    "if a > b and a > c :\n",
    "    count = a\n",
    "if b > a and b > c :\n",
    "    count = b\n",
    "if c > a and c > b :\n",
    "    count = c\n",
    "   \n",
    "    print(\"\\n제일 큰 정수는\", count, \"이다.\")"
   ]
  },
  {
   "cell_type": "markdown",
   "metadata": {},
   "source": [
    "# 조건문 과제5\n",
    "- 생년월일을 입력받으시오\n",
    "- 오늘을 기준으로 만 나이로 나이를 계산하여 결과를 출력하시오\n",
    "- 오늘보다 이후 날이 입력되면 '나이를 계산할 수 없음' 결과를 출력하시오"
   ]
  },
  {
   "cell_type": "code",
   "execution_count": 10,
   "metadata": {},
   "outputs": [
    {
     "name": "stdout",
     "output_type": "stream",
     "text": [
      "생년월일을 입력하세요(ex 19900518) : 19990114\n",
      "1999 01 14\n",
      "오늘 날짜를 입력하세요(ex 19900518) : 20230209\n",
      "2023 02 09\n",
      "당신의 나이는 24\n"
     ]
    }
   ],
   "source": [
    "Birthdate = input(\"생년월일을 입력하세요(ex 19900518) : \")\n",
    "\n",
    "birth_year = Birthdate[0:4]\n",
    "birth_month = Birthdate[4:6]\n",
    "birth_day = Birthdate[6:]\n",
    "print(birth_year, birth_month, birth_day)\n",
    "\n",
    "Sysdate = input(\"오늘 날짜를 입력하세요(ex 19900518) : \")\n",
    "\n",
    "sys_year = Sysdate[0:4]\n",
    "sys_month = Sysdate[4:6]\n",
    "sys_day = Sysdate[6:]\n",
    "\n",
    "print(sys_year, sys_month, sys_day)\n",
    "\n",
    "if Birthdate > Sysdate :\n",
    "    print(\"나이를 계산할 수 없습니다.\")\n",
    "    \n",
    "else:\n",
    "    age = int(sys_year) - int(birth_year)\n",
    "    \n",
    "    if birth_month > sys_month :\n",
    "        age = age -1\n",
    "    print(\"당신의 나이는\", age)"
   ]
  }
 ],
 "metadata": {
  "kernelspec": {
   "display_name": "Python 3",
   "language": "python",
   "name": "python3"
  },
  "language_info": {
   "codemirror_mode": {
    "name": "ipython",
    "version": 3
   },
   "file_extension": ".py",
   "mimetype": "text/x-python",
   "name": "python",
   "nbconvert_exporter": "python",
   "pygments_lexer": "ipython3",
   "version": "3.7.3"
  }
 },
 "nbformat": 4,
 "nbformat_minor": 2
}
