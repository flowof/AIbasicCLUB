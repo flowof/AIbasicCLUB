{
 "cells": [
  {
   "cell_type": "code",
   "execution_count": 8,
   "metadata": {},
   "outputs": [
    {
     "name": "stdout",
     "output_type": "stream",
     "text": [
      "국어성적을 입력하세요: 90\n"
     ]
    }
   ],
   "source": [
    "kor= float(input(\"국어성적을 입력하세요: \"))"
   ]
  },
  {
   "cell_type": "code",
   "execution_count": 9,
   "metadata": {},
   "outputs": [
    {
     "name": "stdout",
     "output_type": "stream",
     "text": [
      "영어성적을 입력하세요: 80\n"
     ]
    }
   ],
   "source": [
    "eng= float(input(\"영어성적을 입력하세요: \"))"
   ]
  },
  {
   "cell_type": "code",
   "execution_count": 12,
   "metadata": {},
   "outputs": [
    {
     "name": "stdout",
     "output_type": "stream",
     "text": [
      "수학성적을 입력하세요: 60\n"
     ]
    }
   ],
   "source": [
    "math= float(input(\"수학성적을 입력하세요: \"))"
   ]
  },
  {
   "cell_type": "code",
   "execution_count": 13,
   "metadata": {},
   "outputs": [
    {
     "name": "stdout",
     "output_type": "stream",
     "text": [
      "국사성적을 입력하세요: 70\n"
     ]
    }
   ],
   "source": [
    "his= float(input(\"국사성적을 입력하세요: \"))"
   ]
  },
  {
   "cell_type": "code",
   "execution_count": 14,
   "metadata": {},
   "outputs": [],
   "source": [
    "avg= (kor+eng+math+his)/4"
   ]
  },
  {
   "cell_type": "code",
   "execution_count": 19,
   "metadata": {},
   "outputs": [
    {
     "name": "stdout",
     "output_type": "stream",
     "text": [
      "평균은 75.0 이며 과락 조건을 모두 만족해 합격입니다.\n"
     ]
    }
   ],
   "source": [
    "if avg > 60:\n",
    "    if kor<40 and eng<40 and math<40 and his<40:\n",
    "        print(\"평균은\", avg,\"이지만\",\"과락 미달로 불합격입니다.\")\n",
    "    else:\n",
    "        print(\"평균은\", avg,\"이며\", \"과락 조건을 모두 만족해 합격입니다.\")\n",
    "else:\n",
    "    print(\"평균은\", avg,\"로, 불합격입니다.\")"
   ]
  },
  {
   "cell_type": "code",
   "execution_count": 1,
   "metadata": {},
   "outputs": [
    {
     "name": "stdout",
     "output_type": "stream",
     "text": [
      "월을 입력하세요: 2\n"
     ]
    }
   ],
   "source": [
    "month =int(input(\"월을 입력하세요: \"))"
   ]
  },
  {
   "cell_type": "code",
   "execution_count": 4,
   "metadata": {},
   "outputs": [
    {
     "name": "stdout",
     "output_type": "stream",
     "text": [
      "28일까지\n"
     ]
    }
   ],
   "source": [
    "if month== 1 or month==3 or month==5 or month==7 or month==9 or month==11:\n",
    "    print(\"31일까지\")\n",
    "elif month== 2:\n",
    "    print(\"28일까지\")\n",
    "elif month==2 or month==4 or month==6 or month==8 or month==10 or month==12:\n",
    "    print(\"30일까지\")"
   ]
  },
  {
   "cell_type": "code",
   "execution_count": 2,
   "metadata": {},
   "outputs": [
    {
     "name": "stdout",
     "output_type": "stream",
     "text": [
      "정수의 개수를 입력하세요: 3\n"
     ]
    }
   ],
   "source": [
    "i=0\n",
    "num=int(input(\"정수의 개수를 입력하세요: \"))"
   ]
  },
  {
   "cell_type": "code",
   "execution_count": 3,
   "metadata": {},
   "outputs": [
    {
     "name": "stdout",
     "output_type": "stream",
     "text": [
      "숫자를 입력하세요: 1\n",
      "숫자를 입력하세요: 3\n",
      "숫자를 입력하세요: 5\n",
      "3.0\n"
     ]
    }
   ],
   "source": [
    "b=0\n",
    "avg=0\n",
    "while i<num:\n",
    "    a=float(input(\"숫자를 입력하세요: \"))\n",
    "    i= i+1\n",
    "    b= a+b\n",
    "    avg=b/num\n",
    "print(avg)"
   ]
  }
 ],
 "metadata": {
  "kernelspec": {
   "display_name": "Python 3",
   "language": "python",
   "name": "python3"
  },
  "language_info": {
   "codemirror_mode": {
    "name": "ipython",
    "version": 3
   },
   "file_extension": ".py",
   "mimetype": "text/x-python",
   "name": "python",
   "nbconvert_exporter": "python",
   "pygments_lexer": "ipython3",
   "version": "3.7.3"
  }
 },
 "nbformat": 4,
 "nbformat_minor": 2
}
