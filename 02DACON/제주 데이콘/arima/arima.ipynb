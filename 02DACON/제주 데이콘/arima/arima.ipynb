{
  "nbformat": 4,
  "nbformat_minor": 0,
  "metadata": {
    "colab": {
      "name": "arima.ipynb",
      "provenance": [],
      "collapsed_sections": []
    },
    "kernelspec": {
      "name": "python3",
      "display_name": "Python 3"
    }
  },
  "cells": [
    {
      "cell_type": "code",
      "metadata": {
        "id": "jUi7pIa5rFft",
        "colab_type": "code",
        "colab": {}
      },
      "source": [
        ""
      ],
      "execution_count": null,
      "outputs": []
    },
    {
      "cell_type": "markdown",
      "metadata": {
        "id": "ginZXtC9BSnx",
        "colab_type": "text"
      },
      "source": [
        "# Import Library"
      ]
    },
    {
      "cell_type": "code",
      "metadata": {
        "id": "_buwMCNFBZEk",
        "colab_type": "code",
        "colab": {
          "base_uri": "https://localhost:8080/",
          "height": 127
        },
        "outputId": "c360aea7-8cb3-471b-9e5d-5f74604a47f8"
      },
      "source": [
        "# 구글 코랩 연결\n",
        "from google.colab import drive\n",
        "drive.mount('/content/drive')"
      ],
      "execution_count": null,
      "outputs": [
        {
          "output_type": "stream",
          "text": [
            "Go to this URL in a browser: https://accounts.google.com/o/oauth2/auth?client_id=947318989803-6bn6qk8qdgf4n4g3pfee6491hc0brc4i.apps.googleusercontent.com&redirect_uri=urn%3aietf%3awg%3aoauth%3a2.0%3aoob&response_type=code&scope=email%20https%3a%2f%2fwww.googleapis.com%2fauth%2fdocs.test%20https%3a%2f%2fwww.googleapis.com%2fauth%2fdrive%20https%3a%2f%2fwww.googleapis.com%2fauth%2fdrive.photos.readonly%20https%3a%2f%2fwww.googleapis.com%2fauth%2fpeopleapi.readonly\n",
            "\n",
            "Enter your authorization code:\n",
            "··········\n",
            "Mounted at /content/drive\n"
          ],
          "name": "stdout"
        }
      ]
    },
    {
      "cell_type": "code",
      "metadata": {
        "id": "Eb56oY3WBSn1",
        "colab_type": "code",
        "colab": {}
      },
      "source": [
        "import pandas as pd\n",
        "import numpy as np\n",
        "import sklearn\n",
        "from sklearn.ensemble import RandomForestRegressor\n",
        "from sklearn.preprocessing import LabelEncoder\n",
        "import matplotlib as mpl\n",
        "import matplotlib.pyplot as plt "
      ],
      "execution_count": null,
      "outputs": []
    },
    {
      "cell_type": "code",
      "metadata": {
        "id": "HZobPFL6BSn-",
        "colab_type": "code",
        "colab": {}
      },
      "source": [
        "#연도와 날짜를 구분하는 함수 생성\n",
        "def grap_year(data):\n",
        "    data = str(data)\n",
        "    return int(data[:4])\n",
        "\n",
        "def grap_month(data):\n",
        "    data = str(data)\n",
        "    return int(data[4:])"
      ],
      "execution_count": null,
      "outputs": []
    },
    {
      "cell_type": "code",
      "metadata": {
        "id": "PR1GDvqFBSoF",
        "colab_type": "code",
        "colab": {}
      },
      "source": [
        "# 날짜 처리 ARIMQ용\n",
        "data1 = pd.read_csv('/content/drive/My Drive/Colab Notebooks/여름방학 세미나/input/201901-202003.csv')\n",
        "data1 = data1.fillna('')\n",
        "#data1['year'] = data1['REG_YYMM'].apply(lambda x: grap_year(x))\n",
        "#data1['month'] = data1['REG_YYMM'].apply(lambda x: grap_month(x))\n",
        "#data1 = data1.drop(['REG_YYMM'], axis=1)"
      ],
      "execution_count": null,
      "outputs": []
    },
    {
      "cell_type": "markdown",
      "metadata": {
        "id": "c-9JehQu_Wfq",
        "colab_type": "text"
      },
      "source": [
        "# ARMA 모형의 사용"
      ]
    },
    {
      "cell_type": "markdown",
      "metadata": {
        "id": "-aJHzQOVfRcV",
        "colab_type": "text"
      },
      "source": [
        "### 라이브러리 불러오기"
      ]
    },
    {
      "cell_type": "code",
      "metadata": {
        "colab_type": "code",
        "id": "SUjN7ZCF_U5O",
        "colab": {}
      },
      "source": [
        "# ARMA 모형 이건 나중에 삭제 ㄱㄱ\n",
        "import statsmodels.tsa.arima_model as ARIMA\n",
        "import statsmodels.tsa.api as tsa\n",
        "import datetime\n",
        "import statsmodels.formula.api as smf"
      ],
      "execution_count": null,
      "outputs": []
    },
    {
      "cell_type": "code",
      "metadata": {
        "id": "6DGJ9uiqAA3m",
        "colab_type": "code",
        "colab": {}
      },
      "source": [
        "# 일단 이거는 나중에 사용해 보자\n",
        "#list(np.expm1(np.log1p(submission.AMT.values+1)))*2"
      ],
      "execution_count": null,
      "outputs": []
    },
    {
      "cell_type": "code",
      "metadata": {
        "id": "yGFuzrpNb3db",
        "colab_type": "code",
        "colab": {}
      },
      "source": [
        "#AMT값만 뽑아보자\n",
        "#arma1.to_csv('/content/drive/My Drive/Colab Notebooks/여름방학 세미나/input/AMT.csv')"
      ],
      "execution_count": null,
      "outputs": []
    },
    {
      "cell_type": "code",
      "metadata": {
        "id": "5VMB1vF8Bl0Y",
        "colab_type": "code",
        "colab": {
          "base_uri": "https://localhost:8080/",
          "height": 73
        },
        "outputId": "a436449a-7a1b-4865-e3be-b02ae3bcc251"
      },
      "source": [
        "from statsmodels.graphics.tsaplots import plot_acf, plot_pacf\n",
        "from statsmodels.tsa.arima_model import ARIMA\n",
        "from statsmodels.tsa.arima_model import ARIMAResults"
      ],
      "execution_count": null,
      "outputs": [
        {
          "output_type": "stream",
          "text": [
            "/usr/local/lib/python3.6/dist-packages/statsmodels/tools/_testing.py:19: FutureWarning: pandas.util.testing is deprecated. Use the functions in the public API at pandas.testing instead.\n",
            "  import pandas.util.testing as tm\n"
          ],
          "name": "stderr"
        }
      ]
    },
    {
      "cell_type": "code",
      "metadata": {
        "colab_type": "code",
        "id": "YcU_k80lHXxl",
        "colab": {
          "base_uri": "https://localhost:8080/",
          "height": 419
        },
        "outputId": "acaffa67-6e2f-4200-f447-cd851f8942ad"
      },
      "source": [
        "# 데이터 정제\n",
        "data2 = data1.drop(['CARD_CCG_NM', 'HOM_CCG_NM','FLC','HOM_SIDO_NM','AGE','SEX_CTGO_CD','CSTMR_CNT','CNT'], axis=1)\n",
        "\n",
        "columns = ['REG_YYMM','CARD_SIDO_NM', 'STD_CLSS_NM']\n",
        "data2 = data2.groupby(columns).sum().reset_index(drop=False)\n",
        "data2"
      ],
      "execution_count": null,
      "outputs": [
        {
          "output_type": "execute_result",
          "data": {
            "text/html": [
              "<div>\n",
              "<style scoped>\n",
              "    .dataframe tbody tr th:only-of-type {\n",
              "        vertical-align: middle;\n",
              "    }\n",
              "\n",
              "    .dataframe tbody tr th {\n",
              "        vertical-align: top;\n",
              "    }\n",
              "\n",
              "    .dataframe thead th {\n",
              "        text-align: right;\n",
              "    }\n",
              "</style>\n",
              "<table border=\"1\" class=\"dataframe\">\n",
              "  <thead>\n",
              "    <tr style=\"text-align: right;\">\n",
              "      <th></th>\n",
              "      <th>REG_YYMM</th>\n",
              "      <th>CARD_SIDO_NM</th>\n",
              "      <th>STD_CLSS_NM</th>\n",
              "      <th>AMT</th>\n",
              "    </tr>\n",
              "  </thead>\n",
              "  <tbody>\n",
              "    <tr>\n",
              "      <th>0</th>\n",
              "      <td>201901</td>\n",
              "      <td>강원</td>\n",
              "      <td>건강보조식품 소매업</td>\n",
              "      <td>148354746</td>\n",
              "    </tr>\n",
              "    <tr>\n",
              "      <th>1</th>\n",
              "      <td>201901</td>\n",
              "      <td>강원</td>\n",
              "      <td>골프장 운영업</td>\n",
              "      <td>1229200312</td>\n",
              "    </tr>\n",
              "    <tr>\n",
              "      <th>2</th>\n",
              "      <td>201901</td>\n",
              "      <td>강원</td>\n",
              "      <td>과실 및 채소 소매업</td>\n",
              "      <td>1286979106</td>\n",
              "    </tr>\n",
              "    <tr>\n",
              "      <th>3</th>\n",
              "      <td>201901</td>\n",
              "      <td>강원</td>\n",
              "      <td>관광 민예품 및 선물용품 소매업</td>\n",
              "      <td>30656770</td>\n",
              "    </tr>\n",
              "    <tr>\n",
              "      <th>4</th>\n",
              "      <td>201901</td>\n",
              "      <td>강원</td>\n",
              "      <td>그외 기타 스포츠시설 운영업</td>\n",
              "      <td>13101500</td>\n",
              "    </tr>\n",
              "    <tr>\n",
              "      <th>...</th>\n",
              "      <td>...</td>\n",
              "      <td>...</td>\n",
              "      <td>...</td>\n",
              "      <td>...</td>\n",
              "    </tr>\n",
              "    <tr>\n",
              "      <th>9433</th>\n",
              "      <td>202003</td>\n",
              "      <td>충북</td>\n",
              "      <td>피자 햄버거 샌드위치 및 유사 음식점업</td>\n",
              "      <td>1315245299</td>\n",
              "    </tr>\n",
              "    <tr>\n",
              "      <th>9434</th>\n",
              "      <td>202003</td>\n",
              "      <td>충북</td>\n",
              "      <td>한식 음식점업</td>\n",
              "      <td>16152482704</td>\n",
              "    </tr>\n",
              "    <tr>\n",
              "      <th>9435</th>\n",
              "      <td>202003</td>\n",
              "      <td>충북</td>\n",
              "      <td>호텔업</td>\n",
              "      <td>15248550</td>\n",
              "    </tr>\n",
              "    <tr>\n",
              "      <th>9436</th>\n",
              "      <td>202003</td>\n",
              "      <td>충북</td>\n",
              "      <td>화장품 및 방향제 소매업</td>\n",
              "      <td>428881434</td>\n",
              "    </tr>\n",
              "    <tr>\n",
              "      <th>9437</th>\n",
              "      <td>202003</td>\n",
              "      <td>충북</td>\n",
              "      <td>휴양콘도 운영업</td>\n",
              "      <td>12733490</td>\n",
              "    </tr>\n",
              "  </tbody>\n",
              "</table>\n",
              "<p>9438 rows × 4 columns</p>\n",
              "</div>"
            ],
            "text/plain": [
              "      REG_YYMM CARD_SIDO_NM            STD_CLSS_NM          AMT\n",
              "0       201901           강원             건강보조식품 소매업    148354746\n",
              "1       201901           강원                골프장 운영업   1229200312\n",
              "2       201901           강원            과실 및 채소 소매업   1286979106\n",
              "3       201901           강원      관광 민예품 및 선물용품 소매업     30656770\n",
              "4       201901           강원        그외 기타 스포츠시설 운영업     13101500\n",
              "...        ...          ...                    ...          ...\n",
              "9433    202003           충북  피자 햄버거 샌드위치 및 유사 음식점업   1315245299\n",
              "9434    202003           충북                한식 음식점업  16152482704\n",
              "9435    202003           충북                    호텔업     15248550\n",
              "9436    202003           충북          화장품 및 방향제 소매업    428881434\n",
              "9437    202003           충북               휴양콘도 운영업     12733490\n",
              "\n",
              "[9438 rows x 4 columns]"
            ]
          },
          "metadata": {
            "tags": []
          },
          "execution_count": 16
        }
      ]
    },
    {
      "cell_type": "code",
      "metadata": {
        "id": "svJWrn45_2v5",
        "colab_type": "code",
        "colab": {
          "base_uri": "https://localhost:8080/",
          "height": 233
        },
        "outputId": "a9122c9c-b87f-4e5a-b1f8-2a00e8a18c38"
      },
      "source": [
        "arma1 = np.log1p(data2['AMT'])\n",
        "arma1"
      ],
      "execution_count": null,
      "outputs": [
        {
          "output_type": "execute_result",
          "data": {
            "text/plain": [
              "0       18.815117\n",
              "1       20.929630\n",
              "2       20.975564\n",
              "3       17.238364\n",
              "4       16.388237\n",
              "          ...    \n",
              "9433    20.997289\n",
              "9434    23.505340\n",
              "9435    16.539995\n",
              "9436    19.876691\n",
              "9437    16.359746\n",
              "Name: AMT, Length: 9438, dtype: float64"
            ]
          },
          "metadata": {
            "tags": []
          },
          "execution_count": 7
        }
      ]
    },
    {
      "cell_type": "code",
      "metadata": {
        "id": "iC5TwG9U2xfW",
        "colab_type": "code",
        "colab": {}
      },
      "source": [
        "#data1['REG_YYMM'] = data1['year']*100 + data1['month'] 일단 필요X"
      ],
      "execution_count": null,
      "outputs": []
    },
    {
      "cell_type": "markdown",
      "metadata": {
        "id": "3n6JJjDYja6C",
        "colab_type": "text"
      },
      "source": [
        "### 잠시 다른거 해보자"
      ]
    },
    {
      "cell_type": "code",
      "metadata": {
        "id": "Imj-y2cQh_L6",
        "colab_type": "code",
        "colab": {
          "base_uri": "https://localhost:8080/",
          "height": 419
        },
        "outputId": "48609b3e-c3b2-4bb9-c137-60917d95e757"
      },
      "source": [
        "arma1name = data1[[\"REG_YYMM\",\"CARD_SIDO_NM\",\"STD_CLSS_NM\"]]\n",
        "#arma1name = data1[[\"REG_YYMM\"]]\n",
        "arma1names = arma1name.reset_index(drop= True)\n",
        "arma1names"
      ],
      "execution_count": null,
      "outputs": [
        {
          "output_type": "execute_result",
          "data": {
            "text/html": [
              "<div>\n",
              "<style scoped>\n",
              "    .dataframe tbody tr th:only-of-type {\n",
              "        vertical-align: middle;\n",
              "    }\n",
              "\n",
              "    .dataframe tbody tr th {\n",
              "        vertical-align: top;\n",
              "    }\n",
              "\n",
              "    .dataframe thead th {\n",
              "        text-align: right;\n",
              "    }\n",
              "</style>\n",
              "<table border=\"1\" class=\"dataframe\">\n",
              "  <thead>\n",
              "    <tr style=\"text-align: right;\">\n",
              "      <th></th>\n",
              "      <th>REG_YYMM</th>\n",
              "      <th>CARD_SIDO_NM</th>\n",
              "      <th>STD_CLSS_NM</th>\n",
              "    </tr>\n",
              "  </thead>\n",
              "  <tbody>\n",
              "    <tr>\n",
              "      <th>0</th>\n",
              "      <td>201901</td>\n",
              "      <td>강원</td>\n",
              "      <td>건강보조식품 소매업</td>\n",
              "    </tr>\n",
              "    <tr>\n",
              "      <th>1</th>\n",
              "      <td>201901</td>\n",
              "      <td>강원</td>\n",
              "      <td>건강보조식품 소매업</td>\n",
              "    </tr>\n",
              "    <tr>\n",
              "      <th>2</th>\n",
              "      <td>201901</td>\n",
              "      <td>강원</td>\n",
              "      <td>건강보조식품 소매업</td>\n",
              "    </tr>\n",
              "    <tr>\n",
              "      <th>3</th>\n",
              "      <td>201901</td>\n",
              "      <td>강원</td>\n",
              "      <td>건강보조식품 소매업</td>\n",
              "    </tr>\n",
              "    <tr>\n",
              "      <th>4</th>\n",
              "      <td>201901</td>\n",
              "      <td>강원</td>\n",
              "      <td>건강보조식품 소매업</td>\n",
              "    </tr>\n",
              "    <tr>\n",
              "      <th>...</th>\n",
              "      <td>...</td>\n",
              "      <td>...</td>\n",
              "      <td>...</td>\n",
              "    </tr>\n",
              "    <tr>\n",
              "      <th>24697787</th>\n",
              "      <td>202003</td>\n",
              "      <td>충북</td>\n",
              "      <td>휴양콘도 운영업</td>\n",
              "    </tr>\n",
              "    <tr>\n",
              "      <th>24697788</th>\n",
              "      <td>202003</td>\n",
              "      <td>충북</td>\n",
              "      <td>휴양콘도 운영업</td>\n",
              "    </tr>\n",
              "    <tr>\n",
              "      <th>24697789</th>\n",
              "      <td>202003</td>\n",
              "      <td>충북</td>\n",
              "      <td>휴양콘도 운영업</td>\n",
              "    </tr>\n",
              "    <tr>\n",
              "      <th>24697790</th>\n",
              "      <td>202003</td>\n",
              "      <td>충북</td>\n",
              "      <td>휴양콘도 운영업</td>\n",
              "    </tr>\n",
              "    <tr>\n",
              "      <th>24697791</th>\n",
              "      <td>202003</td>\n",
              "      <td>충북</td>\n",
              "      <td>휴양콘도 운영업</td>\n",
              "    </tr>\n",
              "  </tbody>\n",
              "</table>\n",
              "<p>24697792 rows × 3 columns</p>\n",
              "</div>"
            ],
            "text/plain": [
              "          REG_YYMM CARD_SIDO_NM STD_CLSS_NM\n",
              "0           201901           강원  건강보조식품 소매업\n",
              "1           201901           강원  건강보조식품 소매업\n",
              "2           201901           강원  건강보조식품 소매업\n",
              "3           201901           강원  건강보조식품 소매업\n",
              "4           201901           강원  건강보조식품 소매업\n",
              "...            ...          ...         ...\n",
              "24697787    202003           충북    휴양콘도 운영업\n",
              "24697788    202003           충북    휴양콘도 운영업\n",
              "24697789    202003           충북    휴양콘도 운영업\n",
              "24697790    202003           충북    휴양콘도 운영업\n",
              "24697791    202003           충북    휴양콘도 운영업\n",
              "\n",
              "[24697792 rows x 3 columns]"
            ]
          },
          "metadata": {
            "tags": []
          },
          "execution_count": 9
        }
      ]
    },
    {
      "cell_type": "code",
      "metadata": {
        "id": "RX5HWvRyiwV5",
        "colab_type": "code",
        "colab": {
          "base_uri": "https://localhost:8080/",
          "height": 419
        },
        "outputId": "f85591e7-2387-4496-8beb-097cb0612260"
      },
      "source": [
        "arma11 = pd.concat([arma1name, arma1], axis=1)\n",
        "arma11"
      ],
      "execution_count": null,
      "outputs": [
        {
          "output_type": "execute_result",
          "data": {
            "text/html": [
              "<div>\n",
              "<style scoped>\n",
              "    .dataframe tbody tr th:only-of-type {\n",
              "        vertical-align: middle;\n",
              "    }\n",
              "\n",
              "    .dataframe tbody tr th {\n",
              "        vertical-align: top;\n",
              "    }\n",
              "\n",
              "    .dataframe thead th {\n",
              "        text-align: right;\n",
              "    }\n",
              "</style>\n",
              "<table border=\"1\" class=\"dataframe\">\n",
              "  <thead>\n",
              "    <tr style=\"text-align: right;\">\n",
              "      <th></th>\n",
              "      <th>REG_YYMM</th>\n",
              "      <th>CARD_SIDO_NM</th>\n",
              "      <th>STD_CLSS_NM</th>\n",
              "      <th>AMT</th>\n",
              "    </tr>\n",
              "  </thead>\n",
              "  <tbody>\n",
              "    <tr>\n",
              "      <th>0</th>\n",
              "      <td>201901</td>\n",
              "      <td>강원</td>\n",
              "      <td>건강보조식품 소매업</td>\n",
              "      <td>12.648194</td>\n",
              "    </tr>\n",
              "    <tr>\n",
              "      <th>1</th>\n",
              "      <td>201901</td>\n",
              "      <td>강원</td>\n",
              "      <td>건강보조식품 소매업</td>\n",
              "      <td>14.133601</td>\n",
              "    </tr>\n",
              "    <tr>\n",
              "      <th>2</th>\n",
              "      <td>201901</td>\n",
              "      <td>강원</td>\n",
              "      <td>건강보조식품 소매업</td>\n",
              "      <td>13.615474</td>\n",
              "    </tr>\n",
              "    <tr>\n",
              "      <th>3</th>\n",
              "      <td>201901</td>\n",
              "      <td>강원</td>\n",
              "      <td>건강보조식품 소매업</td>\n",
              "      <td>14.356090</td>\n",
              "    </tr>\n",
              "    <tr>\n",
              "      <th>4</th>\n",
              "      <td>201901</td>\n",
              "      <td>강원</td>\n",
              "      <td>건강보조식품 소매업</td>\n",
              "      <td>13.861727</td>\n",
              "    </tr>\n",
              "    <tr>\n",
              "      <th>...</th>\n",
              "      <td>...</td>\n",
              "      <td>...</td>\n",
              "      <td>...</td>\n",
              "      <td>...</td>\n",
              "    </tr>\n",
              "    <tr>\n",
              "      <th>24697787</th>\n",
              "      <td>202003</td>\n",
              "      <td>충북</td>\n",
              "      <td>휴양콘도 운영업</td>\n",
              "      <td>10.675931</td>\n",
              "    </tr>\n",
              "    <tr>\n",
              "      <th>24697788</th>\n",
              "      <td>202003</td>\n",
              "      <td>충북</td>\n",
              "      <td>휴양콘도 운영업</td>\n",
              "      <td>10.463132</td>\n",
              "    </tr>\n",
              "    <tr>\n",
              "      <th>24697789</th>\n",
              "      <td>202003</td>\n",
              "      <td>충북</td>\n",
              "      <td>휴양콘도 운영업</td>\n",
              "      <td>12.144203</td>\n",
              "    </tr>\n",
              "    <tr>\n",
              "      <th>24697790</th>\n",
              "      <td>202003</td>\n",
              "      <td>충북</td>\n",
              "      <td>휴양콘도 운영업</td>\n",
              "      <td>11.502885</td>\n",
              "    </tr>\n",
              "    <tr>\n",
              "      <th>24697791</th>\n",
              "      <td>202003</td>\n",
              "      <td>충북</td>\n",
              "      <td>휴양콘도 운영업</td>\n",
              "      <td>12.175619</td>\n",
              "    </tr>\n",
              "  </tbody>\n",
              "</table>\n",
              "<p>24697792 rows × 4 columns</p>\n",
              "</div>"
            ],
            "text/plain": [
              "          REG_YYMM CARD_SIDO_NM STD_CLSS_NM        AMT\n",
              "0           201901           강원  건강보조식품 소매업  12.648194\n",
              "1           201901           강원  건강보조식품 소매업  14.133601\n",
              "2           201901           강원  건강보조식품 소매업  13.615474\n",
              "3           201901           강원  건강보조식품 소매업  14.356090\n",
              "4           201901           강원  건강보조식품 소매업  13.861727\n",
              "...            ...          ...         ...        ...\n",
              "24697787    202003           충북    휴양콘도 운영업  10.675931\n",
              "24697788    202003           충북    휴양콘도 운영업  10.463132\n",
              "24697789    202003           충북    휴양콘도 운영업  12.144203\n",
              "24697790    202003           충북    휴양콘도 운영업  11.502885\n",
              "24697791    202003           충북    휴양콘도 운영업  12.175619\n",
              "\n",
              "[24697792 rows x 4 columns]"
            ]
          },
          "metadata": {
            "tags": []
          },
          "execution_count": 10
        }
      ]
    },
    {
      "cell_type": "code",
      "metadata": {
        "id": "4gaiRqblsYbI",
        "colab_type": "code",
        "colab": {
          "base_uri": "https://localhost:8080/",
          "height": 233
        },
        "outputId": "c0d52cef-92e0-4f1b-d150-097bc56c7d1b"
      },
      "source": [
        "arma11[\"AMT\"]"
      ],
      "execution_count": null,
      "outputs": [
        {
          "output_type": "execute_result",
          "data": {
            "text/plain": [
              "0           12.648194\n",
              "1           14.133601\n",
              "2           13.615474\n",
              "3           14.356090\n",
              "4           13.861727\n",
              "              ...    \n",
              "24697787    10.675931\n",
              "24697788    10.463132\n",
              "24697789    12.144203\n",
              "24697790    11.502885\n",
              "24697791    12.175619\n",
              "Name: AMT, Length: 24697792, dtype: float64"
            ]
          },
          "metadata": {
            "tags": []
          },
          "execution_count": 11
        }
      ]
    },
    {
      "cell_type": "code",
      "metadata": {
        "id": "eblSRv7ujl60",
        "colab_type": "code",
        "colab": {
          "base_uri": "https://localhost:8080/",
          "height": 359
        },
        "outputId": "70b046ff-ab15-4b4c-9af1-585d3619e23e"
      },
      "source": [
        "arma = ARIMA(arma11[\"AMT\"], order = (0,1,1))\n",
        "arima = arma.fit(trend = 'nc', full_output = True, disp=1)\n",
        "print(arima.summary())"
      ],
      "execution_count": null,
      "outputs": [
        {
          "output_type": "stream",
          "text": [
            "                             ARIMA Model Results                              \n",
            "==============================================================================\n",
            "Dep. Variable:                  D.AMT   No. Observations:             24697791\n",
            "Model:                 ARIMA(0, 1, 1)   Log Likelihood           -41181945.160\n",
            "Method:                       css-mle   S.D. of innovations              1.282\n",
            "Date:                Thu, 23 Jul 2020   AIC                       82363894.320\n",
            "Time:                        09:08:25   BIC                       82363924.365\n",
            "Sample:                             1   HQIC                      82363901.658\n",
            "                                                                              \n",
            "===============================================================================\n",
            "                  coef    std err          z      P>|z|      [0.025      0.975]\n",
            "-------------------------------------------------------------------------------\n",
            "ma.L1.D.AMT    -0.7750      0.000  -5523.119      0.000      -0.775      -0.775\n",
            "                                    Roots                                    \n",
            "=============================================================================\n",
            "                  Real          Imaginary           Modulus         Frequency\n",
            "-----------------------------------------------------------------------------\n",
            "MA.1            1.2902           +0.0000j            1.2902            0.0000\n",
            "-----------------------------------------------------------------------------\n"
          ],
          "name": "stdout"
        }
      ]
    },
    {
      "cell_type": "code",
      "metadata": {
        "id": "gyo9sIVd54nC",
        "colab_type": "code",
        "colab": {
          "base_uri": "https://localhost:8080/",
          "height": 300
        },
        "outputId": "087938cc-c578-4858-8814-756892bd8bb0"
      },
      "source": [
        "arma11[\"AMT\"].plot()\n",
        "plt.figure(figsize=(5,1))\n",
        "plt.show()"
      ],
      "execution_count": null,
      "outputs": [
        {
          "output_type": "display_data",
          "data": {
            "image/png": "[encoded data removed]",
            "text/plain": [
              "<Figure size 432x288 with 1 Axes>"
            ]
          },
          "metadata": {
            "tags": [],
            "needs_background": "light"
          }
        },
        {
          "output_type": "display_data",
          "data": {
            "text/plain": [
              "<Figure size 360x72 with 0 Axes>"
            ]
          },
          "metadata": {
            "tags": []
          }
        }
      ]
    },
    {
      "cell_type": "code",
      "metadata": {
        "colab_type": "code",
        "id": "B1SZfldZ7xtm",
        "colab": {}
      },
      "source": [
        "# 인코딩\n",
        "dtypes = arma11.dtypes\n",
        "encoders = {}\n",
        "for column in arma11.columns:\n",
        "    if str(dtypes[column]) == 'object':\n",
        "        encoder = LabelEncoder()\n",
        "        encoder.fit(arma11[column])\n",
        "        encoders[column] = encoder\n",
        "        \n",
        "for column in encoders.keys():\n",
        "    encoder = encoders[column]\n",
        "    arma11[column] = encoder.transform(arma11[column])"
      ],
      "execution_count": null,
      "outputs": []
    },
    {
      "cell_type": "code",
      "metadata": {
        "id": "GO3mXiLY7y9V",
        "colab_type": "code",
        "colab": {}
      },
      "source": [
        "# 예측 템플릿 만들기\n",
        "CARD_SIDO_NMs = arma11['CARD_SIDO_NM'].unique()\n",
        "STD_CLSS_NMs  = arma11['STD_CLSS_NM'].unique()\n",
        "REG_YYMMs     = [202004, 202007]\n",
        "\n",
        "temp = []\n",
        "for CARD_SIDO_NM in CARD_SIDO_NMs:\n",
        "    for STD_CLSS_NM in STD_CLSS_NMs:\n",
        "        for REG_YYMM in REG_YYMMs:\n",
        "            temp.append([CARD_SIDO_NM, STD_CLSS_NM, REG_YYMM])\n",
        "temp = np.array(temp)\n",
        "temp = pd.DataFrame(data=temp, columns= ['REG_YYMM','CARD_SIDO_NM','STD_CLSS_NM'])"
      ],
      "execution_count": null,
      "outputs": []
    },
    {
      "cell_type": "code",
      "metadata": {
        "id": "luEdlfH97zOG",
        "colab_type": "code",
        "colab": {
          "base_uri": "https://localhost:8080/",
          "height": 419
        },
        "outputId": "03f25e61-667c-43d5-ac4f-9c0e40b197fc"
      },
      "source": [
        "temp"
      ],
      "execution_count": null,
      "outputs": [
        {
          "output_type": "execute_result",
          "data": {
            "text/html": [
              "<div>\n",
              "<style scoped>\n",
              "    .dataframe tbody tr th:only-of-type {\n",
              "        vertical-align: middle;\n",
              "    }\n",
              "\n",
              "    .dataframe tbody tr th {\n",
              "        vertical-align: top;\n",
              "    }\n",
              "\n",
              "    .dataframe thead th {\n",
              "        text-align: right;\n",
              "    }\n",
              "</style>\n",
              "<table border=\"1\" class=\"dataframe\">\n",
              "  <thead>\n",
              "    <tr style=\"text-align: right;\">\n",
              "      <th></th>\n",
              "      <th>REG_YYMM</th>\n",
              "      <th>CARD_SIDO_NM</th>\n",
              "      <th>STD_CLSS_NM</th>\n",
              "    </tr>\n",
              "  </thead>\n",
              "  <tbody>\n",
              "    <tr>\n",
              "      <th>0</th>\n",
              "      <td>0</td>\n",
              "      <td>0</td>\n",
              "      <td>202004</td>\n",
              "    </tr>\n",
              "    <tr>\n",
              "      <th>1</th>\n",
              "      <td>0</td>\n",
              "      <td>0</td>\n",
              "      <td>202007</td>\n",
              "    </tr>\n",
              "    <tr>\n",
              "      <th>2</th>\n",
              "      <td>0</td>\n",
              "      <td>1</td>\n",
              "      <td>202004</td>\n",
              "    </tr>\n",
              "    <tr>\n",
              "      <th>3</th>\n",
              "      <td>0</td>\n",
              "      <td>1</td>\n",
              "      <td>202007</td>\n",
              "    </tr>\n",
              "    <tr>\n",
              "      <th>4</th>\n",
              "      <td>0</td>\n",
              "      <td>2</td>\n",
              "      <td>202004</td>\n",
              "    </tr>\n",
              "    <tr>\n",
              "      <th>...</th>\n",
              "      <td>...</td>\n",
              "      <td>...</td>\n",
              "      <td>...</td>\n",
              "    </tr>\n",
              "    <tr>\n",
              "      <th>1389</th>\n",
              "      <td>16</td>\n",
              "      <td>12</td>\n",
              "      <td>202007</td>\n",
              "    </tr>\n",
              "    <tr>\n",
              "      <th>1390</th>\n",
              "      <td>16</td>\n",
              "      <td>4</td>\n",
              "      <td>202004</td>\n",
              "    </tr>\n",
              "    <tr>\n",
              "      <th>1391</th>\n",
              "      <td>16</td>\n",
              "      <td>4</td>\n",
              "      <td>202007</td>\n",
              "    </tr>\n",
              "    <tr>\n",
              "      <th>1392</th>\n",
              "      <td>16</td>\n",
              "      <td>30</td>\n",
              "      <td>202004</td>\n",
              "    </tr>\n",
              "    <tr>\n",
              "      <th>1393</th>\n",
              "      <td>16</td>\n",
              "      <td>30</td>\n",
              "      <td>202007</td>\n",
              "    </tr>\n",
              "  </tbody>\n",
              "</table>\n",
              "<p>1394 rows × 3 columns</p>\n",
              "</div>"
            ],
            "text/plain": [
              "      REG_YYMM  CARD_SIDO_NM  STD_CLSS_NM\n",
              "0            0             0       202004\n",
              "1            0             0       202007\n",
              "2            0             1       202004\n",
              "3            0             1       202007\n",
              "4            0             2       202004\n",
              "...        ...           ...          ...\n",
              "1389        16            12       202007\n",
              "1390        16             4       202004\n",
              "1391        16             4       202007\n",
              "1392        16            30       202004\n",
              "1393        16            30       202007\n",
              "\n",
              "[1394 rows x 3 columns]"
            ]
          },
          "metadata": {
            "tags": []
          },
          "execution_count": 24
        }
      ]
    },
    {
      "cell_type": "code",
      "metadata": {
        "id": "yRHzqfvC6uG4",
        "colab_type": "code",
        "colab": {}
      },
      "source": [
        "pred = lgb.predict(temp3)\n",
        "pred = np.expm1(pred)\n",
        "temp3['AMT'] = np.round(pred, 0)\n",
        "temp3['REG_YYMM'] = temp3['year']*100 + temp3['month']\n",
        "temp3 = temp3[['REG_YYMM', 'CARD_SIDO_NM', 'STD_CLSS_NM', 'AMT']]\n",
        "temp3 = temp3.groupby(['REG_YYMM', 'CARD_SIDO_NM', 'STD_CLSS_NM']).sum().reset_index(drop=False)"
      ],
      "execution_count": null,
      "outputs": []
    },
    {
      "cell_type": "code",
      "metadata": {
        "id": "pciad4Ng6t4O",
        "colab_type": "code",
        "colab": {}
      },
      "source": [
        ""
      ],
      "execution_count": null,
      "outputs": []
    },
    {
      "cell_type": "code",
      "metadata": {
        "id": "EAa-blDwjlpk",
        "colab_type": "code",
        "colab": {}
      },
      "source": [
        ""
      ],
      "execution_count": null,
      "outputs": []
    },
    {
      "cell_type": "code",
      "metadata": {
        "id": "vxZ3CDLvjldX",
        "colab_type": "code",
        "colab": {}
      },
      "source": [
        ""
      ],
      "execution_count": null,
      "outputs": []
    },
    {
      "cell_type": "markdown",
      "metadata": {
        "id": "w8Kto3gsjfqF",
        "colab_type": "text"
      },
      "source": [
        "### 다시 여기부터 시작"
      ]
    },
    {
      "cell_type": "code",
      "metadata": {
        "id": "Ff5DBXmGnvhH",
        "colab_type": "code",
        "colab": {
          "base_uri": "https://localhost:8080/",
          "height": 204
        },
        "outputId": "e061d67b-ada0-43a8-b3d9-a6c4c8a7621f"
      },
      "source": [
        "# 한번 해보자\n",
        "# 새롭게 만든 data2 인코딩\n",
        "dtypes = data2.dtypes\n",
        "encoders = {}\n",
        "for column in data2.columns:\n",
        "    if str(dtypes[column]) == 'object':\n",
        "        encoder = LabelEncoder()\n",
        "        encoder.fit(data2[column])\n",
        "        encoders[column] = encoder\n",
        "                \n",
        "for column in encoders.keys():\n",
        "    encoder = encoders[column]\n",
        "    data2[column] = encoder.transform(data2[column])\n",
        "\n",
        "data2.head()"
      ],
      "execution_count": null,
      "outputs": [
        {
          "output_type": "execute_result",
          "data": {
            "text/html": [
              "<div>\n",
              "<style scoped>\n",
              "    .dataframe tbody tr th:only-of-type {\n",
              "        vertical-align: middle;\n",
              "    }\n",
              "\n",
              "    .dataframe tbody tr th {\n",
              "        vertical-align: top;\n",
              "    }\n",
              "\n",
              "    .dataframe thead th {\n",
              "        text-align: right;\n",
              "    }\n",
              "</style>\n",
              "<table border=\"1\" class=\"dataframe\">\n",
              "  <thead>\n",
              "    <tr style=\"text-align: right;\">\n",
              "      <th></th>\n",
              "      <th>REG_YYMM</th>\n",
              "      <th>CARD_SIDO_NM</th>\n",
              "      <th>STD_CLSS_NM</th>\n",
              "      <th>AMT</th>\n",
              "    </tr>\n",
              "  </thead>\n",
              "  <tbody>\n",
              "    <tr>\n",
              "      <th>0</th>\n",
              "      <td>201901</td>\n",
              "      <td>0</td>\n",
              "      <td>0</td>\n",
              "      <td>148354746</td>\n",
              "    </tr>\n",
              "    <tr>\n",
              "      <th>1</th>\n",
              "      <td>201901</td>\n",
              "      <td>0</td>\n",
              "      <td>1</td>\n",
              "      <td>1229200312</td>\n",
              "    </tr>\n",
              "    <tr>\n",
              "      <th>2</th>\n",
              "      <td>201901</td>\n",
              "      <td>0</td>\n",
              "      <td>2</td>\n",
              "      <td>1286979106</td>\n",
              "    </tr>\n",
              "    <tr>\n",
              "      <th>3</th>\n",
              "      <td>201901</td>\n",
              "      <td>0</td>\n",
              "      <td>3</td>\n",
              "      <td>30656770</td>\n",
              "    </tr>\n",
              "    <tr>\n",
              "      <th>4</th>\n",
              "      <td>201901</td>\n",
              "      <td>0</td>\n",
              "      <td>5</td>\n",
              "      <td>13101500</td>\n",
              "    </tr>\n",
              "  </tbody>\n",
              "</table>\n",
              "</div>"
            ],
            "text/plain": [
              "   REG_YYMM  CARD_SIDO_NM  STD_CLSS_NM         AMT\n",
              "0    201901             0            0   148354746\n",
              "1    201901             0            1  1229200312\n",
              "2    201901             0            2  1286979106\n",
              "3    201901             0            3    30656770\n",
              "4    201901             0            5    13101500"
            ]
          },
          "metadata": {
            "tags": []
          },
          "execution_count": 20
        }
      ]
    },
    {
      "cell_type": "code",
      "metadata": {
        "id": "OJ-jVjj0oJE3",
        "colab_type": "code",
        "colab": {
          "base_uri": "https://localhost:8080/",
          "height": 204
        },
        "outputId": "cc589982-1546-4926-875e-143e41869c0d"
      },
      "source": [
        "data3 = data2.drop(['CARD_SIDO_NM',\t'STD_CLSS_NM'\t], axis=1)\n",
        "data3.head()"
      ],
      "execution_count": null,
      "outputs": [
        {
          "output_type": "execute_result",
          "data": {
            "text/html": [
              "<div>\n",
              "<style scoped>\n",
              "    .dataframe tbody tr th:only-of-type {\n",
              "        vertical-align: middle;\n",
              "    }\n",
              "\n",
              "    .dataframe tbody tr th {\n",
              "        vertical-align: top;\n",
              "    }\n",
              "\n",
              "    .dataframe thead th {\n",
              "        text-align: right;\n",
              "    }\n",
              "</style>\n",
              "<table border=\"1\" class=\"dataframe\">\n",
              "  <thead>\n",
              "    <tr style=\"text-align: right;\">\n",
              "      <th></th>\n",
              "      <th>REG_YYMM</th>\n",
              "      <th>AMT</th>\n",
              "    </tr>\n",
              "  </thead>\n",
              "  <tbody>\n",
              "    <tr>\n",
              "      <th>0</th>\n",
              "      <td>201901</td>\n",
              "      <td>148354746</td>\n",
              "    </tr>\n",
              "    <tr>\n",
              "      <th>1</th>\n",
              "      <td>201901</td>\n",
              "      <td>1229200312</td>\n",
              "    </tr>\n",
              "    <tr>\n",
              "      <th>2</th>\n",
              "      <td>201901</td>\n",
              "      <td>1286979106</td>\n",
              "    </tr>\n",
              "    <tr>\n",
              "      <th>3</th>\n",
              "      <td>201901</td>\n",
              "      <td>30656770</td>\n",
              "    </tr>\n",
              "    <tr>\n",
              "      <th>4</th>\n",
              "      <td>201901</td>\n",
              "      <td>13101500</td>\n",
              "    </tr>\n",
              "  </tbody>\n",
              "</table>\n",
              "</div>"
            ],
            "text/plain": [
              "   REG_YYMM         AMT\n",
              "0    201901   148354746\n",
              "1    201901  1229200312\n",
              "2    201901  1286979106\n",
              "3    201901    30656770\n",
              "4    201901    13101500"
            ]
          },
          "metadata": {
            "tags": []
          },
          "execution_count": 21
        }
      ]
    },
    {
      "cell_type": "code",
      "metadata": {
        "id": "gw1qLYPcsDWX",
        "colab_type": "code",
        "colab": {}
      },
      "source": [
        "data3['year'] = data3['REG_YYMM'].apply(lambda x: grap_year(x))\n",
        "data3['month'] = data3['REG_YYMM'].apply(lambda x: grap_month(x))"
      ],
      "execution_count": null,
      "outputs": []
    },
    {
      "cell_type": "code",
      "metadata": {
        "id": "hm1A4JZnsJL7",
        "colab_type": "code",
        "colab": {
          "base_uri": "https://localhost:8080/",
          "height": 419
        },
        "outputId": "eff1ca8d-54b3-468d-fcca-a1728927cbf1"
      },
      "source": [
        "data3"
      ],
      "execution_count": null,
      "outputs": [
        {
          "output_type": "execute_result",
          "data": {
            "text/html": [
              "<div>\n",
              "<style scoped>\n",
              "    .dataframe tbody tr th:only-of-type {\n",
              "        vertical-align: middle;\n",
              "    }\n",
              "\n",
              "    .dataframe tbody tr th {\n",
              "        vertical-align: top;\n",
              "    }\n",
              "\n",
              "    .dataframe thead th {\n",
              "        text-align: right;\n",
              "    }\n",
              "</style>\n",
              "<table border=\"1\" class=\"dataframe\">\n",
              "  <thead>\n",
              "    <tr style=\"text-align: right;\">\n",
              "      <th></th>\n",
              "      <th>REG_YYMM</th>\n",
              "      <th>AMT</th>\n",
              "      <th>year</th>\n",
              "      <th>month</th>\n",
              "    </tr>\n",
              "  </thead>\n",
              "  <tbody>\n",
              "    <tr>\n",
              "      <th>0</th>\n",
              "      <td>201901</td>\n",
              "      <td>148354746</td>\n",
              "      <td>2019</td>\n",
              "      <td>1</td>\n",
              "    </tr>\n",
              "    <tr>\n",
              "      <th>1</th>\n",
              "      <td>201901</td>\n",
              "      <td>1229200312</td>\n",
              "      <td>2019</td>\n",
              "      <td>1</td>\n",
              "    </tr>\n",
              "    <tr>\n",
              "      <th>2</th>\n",
              "      <td>201901</td>\n",
              "      <td>1286979106</td>\n",
              "      <td>2019</td>\n",
              "      <td>1</td>\n",
              "    </tr>\n",
              "    <tr>\n",
              "      <th>3</th>\n",
              "      <td>201901</td>\n",
              "      <td>30656770</td>\n",
              "      <td>2019</td>\n",
              "      <td>1</td>\n",
              "    </tr>\n",
              "    <tr>\n",
              "      <th>4</th>\n",
              "      <td>201901</td>\n",
              "      <td>13101500</td>\n",
              "      <td>2019</td>\n",
              "      <td>1</td>\n",
              "    </tr>\n",
              "    <tr>\n",
              "      <th>...</th>\n",
              "      <td>...</td>\n",
              "      <td>...</td>\n",
              "      <td>...</td>\n",
              "      <td>...</td>\n",
              "    </tr>\n",
              "    <tr>\n",
              "      <th>9433</th>\n",
              "      <td>202003</td>\n",
              "      <td>1315245299</td>\n",
              "      <td>2020</td>\n",
              "      <td>3</td>\n",
              "    </tr>\n",
              "    <tr>\n",
              "      <th>9434</th>\n",
              "      <td>202003</td>\n",
              "      <td>16152482704</td>\n",
              "      <td>2020</td>\n",
              "      <td>3</td>\n",
              "    </tr>\n",
              "    <tr>\n",
              "      <th>9435</th>\n",
              "      <td>202003</td>\n",
              "      <td>15248550</td>\n",
              "      <td>2020</td>\n",
              "      <td>3</td>\n",
              "    </tr>\n",
              "    <tr>\n",
              "      <th>9436</th>\n",
              "      <td>202003</td>\n",
              "      <td>428881434</td>\n",
              "      <td>2020</td>\n",
              "      <td>3</td>\n",
              "    </tr>\n",
              "    <tr>\n",
              "      <th>9437</th>\n",
              "      <td>202003</td>\n",
              "      <td>12733490</td>\n",
              "      <td>2020</td>\n",
              "      <td>3</td>\n",
              "    </tr>\n",
              "  </tbody>\n",
              "</table>\n",
              "<p>9438 rows × 4 columns</p>\n",
              "</div>"
            ],
            "text/plain": [
              "      REG_YYMM          AMT  year  month\n",
              "0       201901    148354746  2019      1\n",
              "1       201901   1229200312  2019      1\n",
              "2       201901   1286979106  2019      1\n",
              "3       201901     30656770  2019      1\n",
              "4       201901     13101500  2019      1\n",
              "...        ...          ...   ...    ...\n",
              "9433    202003   1315245299  2020      3\n",
              "9434    202003  16152482704  2020      3\n",
              "9435    202003     15248550  2020      3\n",
              "9436    202003    428881434  2020      3\n",
              "9437    202003     12733490  2020      3\n",
              "\n",
              "[9438 rows x 4 columns]"
            ]
          },
          "metadata": {
            "tags": []
          },
          "execution_count": 11
        }
      ]
    },
    {
      "cell_type": "code",
      "metadata": {
        "id": "YpJBbb5PrNOr",
        "colab_type": "code",
        "colab": {}
      },
      "source": [
        "#data3의 날짜 값을 바꾸어보자\n",
        "data3.to_csv('/content/drive/My Drive/Colab Notebooks/여름방학 세미나/input/AMT_DATE.csv')"
      ],
      "execution_count": null,
      "outputs": []
    },
    {
      "cell_type": "code",
      "metadata": {
        "id": "kzKlFEpEtiIY",
        "colab_type": "code",
        "colab": {}
      },
      "source": [
        ""
      ],
      "execution_count": null,
      "outputs": []
    },
    {
      "cell_type": "code",
      "metadata": {
        "id": "FqU0i_JLldAQ",
        "colab_type": "code",
        "colab": {
          "base_uri": "https://localhost:8080/",
          "height": 294
        },
        "outputId": "0c897760-17f2-454c-e5cd-8dc4e0aaf3b6"
      },
      "source": [
        "#한번만 더\n",
        "plt.figure(figsize=(50,3))\n",
        "data3.plot()\n",
        "plt.show()"
      ],
      "execution_count": null,
      "outputs": [
        {
          "output_type": "display_data",
          "data": {
            "text/plain": [
              "<Figure size 3600x216 with 0 Axes>"
            ]
          },
          "metadata": {
            "tags": []
          }
        },
        {
          "output_type": "display_data",
          "data": {
            "image/png": "[encoded data removed]",
            "text/plain": [
              "<Figure size 432x288 with 1 Axes>"
            ]
          },
          "metadata": {
            "tags": [],
            "needs_background": "light"
          }
        }
      ]
    },
    {
      "cell_type": "code",
      "metadata": {
        "id": "JgC7uMhznjsB",
        "colab_type": "code",
        "colab": {
          "base_uri": "https://localhost:8080/",
          "height": 683
        },
        "outputId": "2b1018c4-9e1b-46f7-e561-01825b618de3"
      },
      "source": [
        "arma = ARIMA(data3[\"AMT\"], order = (5,0,5))\n",
        "arima = arma.fit(trend = 'nc', full_output = True, disp=1)\n",
        "print(arima.summary())"
      ],
      "execution_count": null,
      "outputs": [
        {
          "output_type": "stream",
          "text": [
            "                              ARMA Model Results                              \n",
            "==============================================================================\n",
            "Dep. Variable:                    AMT   No. Observations:                 9438\n",
            "Model:                     ARMA(5, 5)   Log Likelihood             -236158.062\n",
            "Method:                       css-mle   S.D. of innovations    17810326480.355\n",
            "Date:                Fri, 24 Jul 2020   AIC                         472338.124\n",
            "Time:                        01:32:35   BIC                         472416.801\n",
            "Sample:                             0   HQIC                        472364.832\n",
            "                                                                              \n",
            "==============================================================================\n",
            "                 coef    std err          z      P>|z|      [0.025      0.975]\n",
            "------------------------------------------------------------------------------\n",
            "ar.L1.AMT      1.1052      0.068     16.175      0.000       0.971       1.239\n",
            "ar.L2.AMT     -0.2461      0.148     -1.663      0.096      -0.536       0.044\n",
            "ar.L3.AMT      0.1632      0.154      1.063      0.288      -0.138       0.464\n",
            "ar.L4.AMT     -0.3201      0.100     -3.214      0.001      -0.515      -0.125\n",
            "ar.L5.AMT      0.2874      0.034      8.445      0.000       0.221       0.354\n",
            "ma.L1.AMT     -1.0223      0.066    -15.500      0.000      -1.152      -0.893\n",
            "ma.L2.AMT      0.2649      0.138      1.925      0.054      -0.005       0.535\n",
            "ma.L3.AMT     -0.0644      0.141     -0.457      0.648      -0.341       0.212\n",
            "ma.L4.AMT      0.3923      0.084      4.684      0.000       0.228       0.556\n",
            "ma.L5.AMT     -0.4963      0.027    -18.395      0.000      -0.549      -0.443\n",
            "                                    Roots                                    \n",
            "=============================================================================\n",
            "                  Real          Imaginary           Modulus         Frequency\n",
            "-----------------------------------------------------------------------------\n",
            "AR.1           -0.8762           -1.0700j            1.3829           -0.3592\n",
            "AR.2           -0.8762           +1.0700j            1.3829            0.3592\n",
            "AR.3            1.0082           -0.0000j            1.0082           -0.0000\n",
            "AR.4            0.9289           -0.9704j            1.3433           -0.1285\n",
            "AR.5            0.9289           +0.9704j            1.3433            0.1285\n",
            "MA.1           -0.8408           -0.9189j            1.2455           -0.3679\n",
            "MA.2           -0.8408           +0.9189j            1.2455            0.3679\n",
            "MA.3            1.0433           -0.0000j            1.0433           -0.0000\n",
            "MA.4            0.7144           -0.8571j            1.1157           -0.1394\n",
            "MA.5            0.7144           +0.8571j            1.1157            0.1394\n",
            "-----------------------------------------------------------------------------\n"
          ],
          "name": "stdout"
        }
      ]
    },
    {
      "cell_type": "code",
      "metadata": {
        "id": "cn4F4MENnWMO",
        "colab_type": "code",
        "colab": {}
      },
      "source": [
        ""
      ],
      "execution_count": null,
      "outputs": []
    },
    {
      "cell_type": "code",
      "metadata": {
        "id": "DY9lF4T4nV8p",
        "colab_type": "code",
        "colab": {}
      },
      "source": [
        ""
      ],
      "execution_count": null,
      "outputs": []
    },
    {
      "cell_type": "code",
      "metadata": {
        "id": "5-fxC95DATnj",
        "colab_type": "code",
        "colab": {
          "base_uri": "https://localhost:8080/",
          "height": 265
        },
        "outputId": "f3f52954-c347-4aa6-d813-84f8c8f5706c"
      },
      "source": [
        "# 여기서부터 찐 시작\n",
        "plt.figure(figsize=(10,4))\n",
        "arma1.plot()\n",
        "plt.show()"
      ],
      "execution_count": null,
      "outputs": [
        {
          "output_type": "display_data",
          "data": {
            "image/png": "[encoded data removed]",
            "text/plain": [
              "<Figure size 720x288 with 1 Axes>"
            ]
          },
          "metadata": {
            "tags": [],
            "needs_background": "light"
          }
        }
      ]
    },
    {
      "cell_type": "code",
      "metadata": {
        "id": "L9qQe5YXAUCa",
        "colab_type": "code",
        "colab": {
          "base_uri": "https://localhost:8080/",
          "height": 281
        },
        "outputId": "7263935e-5bfb-4a7c-9546-2afc2ce37e3b"
      },
      "source": [
        "plot_acf(arma1)\n",
        "plt.show()"
      ],
      "execution_count": null,
      "outputs": [
        {
          "output_type": "display_data",
          "data": {
            "image/png": "[encoded data removed]",
            "text/plain": [
              "<Figure size 432x288 with 1 Axes>"
            ]
          },
          "metadata": {
            "tags": [],
            "needs_background": "light"
          }
        }
      ]
    },
    {
      "cell_type": "code",
      "metadata": {
        "id": "epkwwFpiATOV",
        "colab_type": "code",
        "colab": {
          "base_uri": "https://localhost:8080/",
          "height": 281
        },
        "outputId": "570e58d1-2942-417a-964b-4045a18276cc"
      },
      "source": [
        "plot_pacf(arma1)\n",
        "plt.show()"
      ],
      "execution_count": null,
      "outputs": [
        {
          "output_type": "display_data",
          "data": {
            "image/png": "[encoded data removed]",
            "text/plain": [
              "<Figure size 432x288 with 1 Axes>"
            ]
          },
          "metadata": {
            "tags": [],
            "needs_background": "light"
          }
        }
      ]
    },
    {
      "cell_type": "code",
      "metadata": {
        "id": "WaMIuX3VGUD1",
        "colab_type": "code",
        "colab": {
          "base_uri": "https://localhost:8080/",
          "height": 847
        },
        "outputId": "9cb8851e-b5fe-4a02-c97b-0bf9d6479c3a"
      },
      "source": [
        "arma = ARIMA(arma1, order = (5,0,5))\n",
        "arima = arma.fit(trend = 'nc', full_output = True, disp=1)\n",
        "print(arima.summary())"
      ],
      "execution_count": null,
      "outputs": [
        {
          "output_type": "stream",
          "text": [
            "                              ARMA Model Results                              \n",
            "==============================================================================\n",
            "Dep. Variable:                    AMT   No. Observations:                 9438\n",
            "Model:                     ARMA(5, 5)   Log Likelihood              -23325.608\n",
            "Method:                       css-mle   S.D. of innovations              2.864\n",
            "Date:                Fri, 24 Jul 2020   AIC                          46673.216\n",
            "Time:                        01:33:33   BIC                          46751.894\n",
            "Sample:                             0   HQIC                         46699.925\n",
            "                                                                              \n",
            "==============================================================================\n",
            "                 coef    std err          z      P>|z|      [0.025      0.975]\n",
            "------------------------------------------------------------------------------\n",
            "ar.L1.AMT      0.2188      0.007     31.533      0.000       0.205       0.232\n",
            "ar.L2.AMT      0.0554      0.002     28.244      0.000       0.052       0.059\n",
            "ar.L3.AMT     -0.2699        nan        nan        nan         nan         nan\n",
            "ar.L4.AMT      0.5717      0.002    257.151      0.000       0.567       0.576\n",
            "ar.L5.AMT      0.4239      0.004    113.078      0.000       0.417       0.431\n",
            "ma.L1.AMT     -0.0782      0.011     -7.175      0.000      -0.100      -0.057\n",
            "ma.L2.AMT     -0.1203      0.009    -13.601      0.000      -0.138      -0.103\n",
            "ma.L3.AMT      0.3022      0.003    104.516      0.000       0.297       0.308\n",
            "ma.L4.AMT     -0.4065      0.009    -47.615      0.000      -0.423      -0.390\n",
            "ma.L5.AMT     -0.5084      0.010    -49.684      0.000      -0.528      -0.488\n",
            "                                    Roots                                    \n",
            "=============================================================================\n",
            "                  Real          Imaginary           Modulus         Frequency\n",
            "-----------------------------------------------------------------------------\n",
            "AR.1            1.0000           -0.0000j            1.0000           -0.0000\n",
            "AR.2            0.2725           -0.9914j            1.0281           -0.2073\n",
            "AR.3            0.2725           +0.9914j            1.0281            0.2073\n",
            "AR.4           -1.4468           -0.3721j            1.4938           -0.4599\n",
            "AR.5           -1.4468           +0.3721j            1.4938            0.4599\n",
            "MA.1            1.0482           -0.0000j            1.0482           -0.0000\n",
            "MA.2            0.2999           -1.0013j            1.0452           -0.2037\n",
            "MA.3            0.2999           +1.0013j            1.0452            0.2037\n",
            "MA.4           -1.2237           -0.4693j            1.3106           -0.4417\n",
            "MA.5           -1.2237           +0.4693j            1.3106            0.4417\n",
            "-----------------------------------------------------------------------------\n"
          ],
          "name": "stdout"
        },
        {
          "output_type": "stream",
          "text": [
            "/usr/local/lib/python3.6/dist-packages/statsmodels/tsa/arima_model.py:1441: RuntimeWarning: invalid value encountered in sqrt\n",
            "  return np.sqrt(np.diag(-inv(hess)))\n",
            "/usr/local/lib/python3.6/dist-packages/scipy/stats/_distn_infrastructure.py:903: RuntimeWarning: invalid value encountered in greater\n",
            "  return (a < x) & (x < b)\n",
            "/usr/local/lib/python3.6/dist-packages/scipy/stats/_distn_infrastructure.py:903: RuntimeWarning: invalid value encountered in less\n",
            "  return (a < x) & (x < b)\n",
            "/usr/local/lib/python3.6/dist-packages/scipy/stats/_distn_infrastructure.py:1912: RuntimeWarning: invalid value encountered in less_equal\n",
            "  cond2 = cond0 & (x <= _a)\n"
          ],
          "name": "stderr"
        }
      ]
    },
    {
      "cell_type": "code",
      "metadata": {
        "id": "ccPmSykiIym7",
        "colab_type": "code",
        "colab": {
          "base_uri": "https://localhost:8080/",
          "height": 553
        },
        "outputId": "334e45af-e5d3-4c4f-9bf8-53b8d4833bea"
      },
      "source": [
        "plt.figure(figsize=(10,4))\n",
        "arima.plot_predict()"
      ],
      "execution_count": null,
      "outputs": [
        {
          "output_type": "execute_result",
          "data": {
            "image/png": "[encoded data removed]",
            "text/plain": [
              "<Figure size 432x288 with 1 Axes>"
            ]
          },
          "metadata": {
            "tags": []
          },
          "execution_count": 26
        },
        {
          "output_type": "display_data",
          "data": {
            "text/plain": [
              "<Figure size 720x288 with 0 Axes>"
            ]
          },
          "metadata": {
            "tags": []
          }
        },
        {
          "output_type": "display_data",
          "data": {
            "image/png": "[encoded data removed]",
            "text/plain": [
              "<Figure size 432x288 with 1 Axes>"
            ]
          },
          "metadata": {
            "tags": [],
            "needs_background": "light"
          }
        }
      ]
    },
    {
      "cell_type": "code",
      "metadata": {
        "id": "Z2OjOhIdJClP",
        "colab_type": "code",
        "colab": {
          "base_uri": "https://localhost:8080/",
          "height": 35
        },
        "outputId": "a9662d31-db54-4e2c-a292-023b55faae8a"
      },
      "source": [
        "arima1 = arima.forecast(steps=1)\n",
        "arima1"
      ],
      "execution_count": null,
      "outputs": [
        {
          "output_type": "execute_result",
          "data": {
            "text/plain": [
              "(19.688883628518628, array([2.86386248]), array([[14.0758163 , 25.30195095]]))"
            ]
          },
          "metadata": {
            "tags": []
          },
          "execution_count": 29
        }
      ]
    },
    {
      "cell_type": "code",
      "metadata": {
        "id": "e9wQ78vvj-S_",
        "colab_type": "code",
        "colab": {}
      },
      "source": [
        ""
      ],
      "execution_count": null,
      "outputs": []
    },
    {
      "cell_type": "code",
      "metadata": {
        "id": "ncfF8mdzj96R",
        "colab_type": "code",
        "colab": {}
      },
      "source": [
        ""
      ],
      "execution_count": null,
      "outputs": []
    },
    {
      "cell_type": "code",
      "metadata": {
        "id": "14vPKP7f_io1",
        "colab_type": "code",
        "colab": {}
      },
      "source": [
        ""
      ],
      "execution_count": null,
      "outputs": []
    },
    {
      "cell_type": "markdown",
      "metadata": {
        "colab_type": "text",
        "id": "wKmh2JzyUttc"
      },
      "source": [
        ">"
      ]
    },
    {
      "cell_type": "markdown",
      "metadata": {
        "colab_type": "text",
        "id": "ZdbIPA76Uttd"
      },
      "source": [
        ">"
      ]
    },
    {
      "cell_type": "markdown",
      "metadata": {
        "colab_type": "text",
        "id": "Gx3IhtsQUttf"
      },
      "source": [
        ">"
      ]
    }
  ]
}