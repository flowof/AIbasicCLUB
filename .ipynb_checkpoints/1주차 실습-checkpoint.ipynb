{
 "cells": [
  {
   "cell_type": "code",
   "execution_count": 1,
   "metadata": {
    "scrolled": true
   },
   "outputs": [
    {
     "name": "stdout",
     "output_type": "stream",
     "text": [
      "이름을 적으시오박민주\n",
      "나이를 적으시오22\n",
      "제 이름은 박민주 이고 나이는 22 입니다.\n"
     ]
    }
   ],
   "source": [
    "name = input(\"이름을 적으시오\")\n",
    "age = input(\"나이를 적으시오\")\n",
    "\n",
    "print(\"제 이름은\", name,\"이고\", \"나이는\", age,\"세입니다.\" )"
   ]
  },
  {
   "cell_type": "code",
   "execution_count": 2,
   "metadata": {},
   "outputs": [
    {
     "name": "stdout",
     "output_type": "stream",
     "text": [
      "소속학교는?동아대학교\n",
      "입학년도는?2018\n",
      "나는 2018 년도 동아대학교 에 입학했다.\n"
     ]
    }
   ],
   "source": [
    "school = input(\"소속학교는?\")\n",
    "year = input(\"입학년도는?\")\n",
    "\n",
    "print(\"나는\", year,\"년도\", school,\"에 입학했다.\")"
   ]
  },
  {
   "cell_type": "code",
   "execution_count": 1,
   "metadata": {},
   "outputs": [
    {
     "name": "stdout",
     "output_type": "stream",
     "text": [
      "체중을 입력하시오55\n",
      "키를 입력하세요1.70\n",
      "56.7\n"
     ]
    }
   ],
   "source": [
    "x = float(input(\"체중을 입력하시오\"))\n",
    "y = float(input(\"키를 입력하세요\"))\n",
    "BMI = x + y\n",
    "print(BMI)"
   ]
  },
  {
   "cell_type": "code",
   "execution_count": 9,
   "metadata": {
    "scrolled": true
   },
   "outputs": [
    {
     "name": "stdout",
     "output_type": "stream",
     "text": [
      "실수를 입력하세요20\n",
      "실수를 입력하세요30\n",
      "50\n"
     ]
    }
   ],
   "source": [
    "x = int(input(\"실수를 입력하세요\"))\n",
    "y = int(input(\"실수를 입력하세요\"))\n",
    "\n",
    "print(x + y)"
   ]
  },
  {
   "cell_type": "code",
   "execution_count": null,
   "metadata": {},
   "outputs": [],
   "source": []
  }
 ],
 "metadata": {
  "kernelspec": {
   "display_name": "Python 3",
   "language": "python",
   "name": "python3"
  },
  "language_info": {
   "codemirror_mode": {
    "name": "ipython",
    "version": 3
   },
   "file_extension": ".py",
   "mimetype": "text/x-python",
   "name": "python",
   "nbconvert_exporter": "python",
   "pygments_lexer": "ipython3",
   "version": "3.7.3"
  }
 },
 "nbformat": 4,
 "nbformat_minor": 2
}
