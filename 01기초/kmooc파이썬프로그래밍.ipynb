{
 "cells": [
  {
   "cell_type": "code",
   "execution_count": 5,
   "metadata": {},
   "outputs": [
    {
     "data": {
      "text/plain": [
       "6"
      ]
     },
     "execution_count": 5,
     "metadata": {},
     "output_type": "execute_result"
    }
   ],
   "source": [
    "# 1. 다음 연산의 결과를 선택하시오.\n",
    "# 0.0/2.0점 (성적반영)\n",
    "31//5"
   ]
  },
  {
   "cell_type": "code",
   "execution_count": 6,
   "metadata": {},
   "outputs": [
    {
     "data": {
      "text/plain": [
       "2"
      ]
     },
     "execution_count": 6,
     "metadata": {},
     "output_type": "execute_result"
    }
   ],
   "source": [
    "# 2. 다음 연산의 결과를 선택하시오.\n",
    "# 0.0/2.0점 (성적반영)\n",
    "37%5"
   ]
  },
  {
   "cell_type": "code",
   "execution_count": 8,
   "metadata": {},
   "outputs": [
    {
     "data": {
      "text/plain": [
       "8"
      ]
     },
     "execution_count": 8,
     "metadata": {},
     "output_type": "execute_result"
    }
   ],
   "source": [
    "# 3. 다음 연산의 결과를 선택하시오.\n",
    "# 0.0/2.0점 (성적반영)\n",
    "2**3"
   ]
  },
  {
   "cell_type": "code",
   "execution_count": 9,
   "metadata": {},
   "outputs": [
    {
     "data": {
      "text/plain": [
       "True"
      ]
     },
     "execution_count": 9,
     "metadata": {},
     "output_type": "execute_result"
    }
   ],
   "source": [
    "# 4. 다음 연산의 결과를 선택하시오.\n",
    "# 0.0/2.0점 (성적반영)\n",
    "(7>4) or (1<1)"
   ]
  },
  {
   "cell_type": "code",
   "execution_count": 10,
   "metadata": {},
   "outputs": [
    {
     "data": {
      "text/plain": [
       "True"
      ]
     },
     "execution_count": 10,
     "metadata": {},
     "output_type": "execute_result"
    }
   ],
   "source": [
    "# 5. 다음 연산의 결과를 선택하시오.\n",
    "# 0.0/2.0점 (성적반영)\n",
    "(8>5) or (3<2)"
   ]
  },
  {
   "cell_type": "code",
   "execution_count": 11,
   "metadata": {},
   "outputs": [
    {
     "name": "stdout",
     "output_type": "stream",
     "text": [
      "It’s enough!\n",
      "I am happy\n"
     ]
    }
   ],
   "source": [
    "# 6. 올바른 출력 결과문을 고르시오.\n",
    "# 0.0/4.0점 (성적반영)\n",
    "# (1) 조건절\n",
    "money = 900\n",
    "if money > 1000 :\n",
    "    print(\"It’s too much!\")\n",
    "else :\n",
    "    print(\"It’s enough!\")\n",
    "print('I am happy')"
   ]
  },
  {
   "cell_type": "code",
   "execution_count": 13,
   "metadata": {},
   "outputs": [
    {
     "name": "stdout",
     "output_type": "stream",
     "text": [
      "er l\n",
      " than Never\n"
     ]
    }
   ],
   "source": [
    "# 7. 올바른 출력 결과문을 고르시오.\n",
    "# 0.0/4.0점 (성적반영)\n",
    "# (2) 출력문\n",
    "s = 'Better late than Never'\n",
    "print(s[4:8])      \n",
    "print(s[11:])"
   ]
  },
  {
   "cell_type": "code",
   "execution_count": 14,
   "metadata": {},
   "outputs": [
    {
     "name": "stdout",
     "output_type": "stream",
     "text": [
      "이름를 입력하시오: KMOOC\n"
     ]
    }
   ],
   "source": [
    "# 8. 올바른 출력 결과문을 고르시오.\n",
    "# 0.0/4.0점 (성적반영)\n",
    "# (3) 입력받은 이름의 각 글자를 출력하는 문장이다. 괄호안에 들어가는 가장 적절한 표현은?\n",
    "name = input(\"이름를 입력하시오: \")   # 입력값이 'kmooc' 라고 가정\n",
    "for ch in (            ) :\n",
    "    print(ch)"
   ]
  },
  {
   "cell_type": "code",
   "execution_count": 18,
   "metadata": {},
   "outputs": [
    {
     "name": "stdout",
     "output_type": "stream",
     "text": [
      "***\n",
      "====\n",
      "=====\n",
      "******\n"
     ]
    }
   ],
   "source": [
    "# 9. 올바른 출력 결과문을 고르시오.\n",
    "# 0.0/4.0점 (성적반영)\n",
    "# (4) 반복문\n",
    "for i in range(3, 7) :\n",
    "    if i % 3 == 0:\n",
    "        print('*' * i)\n",
    "    else:   \n",
    "        print('=' * i)"
   ]
  },
  {
   "cell_type": "code",
   "execution_count": 20,
   "metadata": {},
   "outputs": [
    {
     "name": "stdout",
     "output_type": "stream",
     "text": [
      "apple\n",
      "apple\n",
      "apple\n",
      "apple\n"
     ]
    }
   ],
   "source": [
    "# 10. 올바른 출력 결과문을 고르시오.\n",
    "# 0.0/4.0점 (성적반영)\n",
    "# (5) 반복문\n",
    "fruit = 'apple'\n",
    "for fr in fruit: \n",
    "    if fr !='a' :\n",
    "        print(fruit)"
   ]
  },
  {
   "cell_type": "code",
   "execution_count": 21,
   "metadata": {},
   "outputs": [
    {
     "name": "stdout",
     "output_type": "stream",
     "text": [
      "숫자를 입력하시오: 8\n",
      "i =  8\n"
     ]
    }
   ],
   "source": [
    "# 11. 올바른 출력 결과문을 고르시오.\n",
    "# 0.0/4.0점 (성적반영)\n",
    "# (6) 반복문\n",
    "num = int(input(\"숫자를 입력하시오: \"))   #입력값이 8이라고 가정\n",
    "if num != 99999 :\n",
    "    i = 0\n",
    "    while i<num :\n",
    "        i = i+1\n",
    "print(\"i = \", i)"
   ]
  },
  {
   "cell_type": "code",
   "execution_count": 23,
   "metadata": {},
   "outputs": [
    {
     "name": "stdout",
     "output_type": "stream",
     "text": [
      "tomato\n",
      "omato\n",
      "papaya\n",
      "paya\n",
      "apple\n",
      "le\n",
      "melon\n",
      "n\n",
      "blueberry\n",
      "erry\n"
     ]
    }
   ],
   "source": [
    "# 12. 올바른 출력 결과문을 고르시오.\n",
    "# 0.0/4.0점 (성적반영)\n",
    "# (7) 반복문, 리스트\n",
    "fruits=[ 'tomato', 'papaya', 'apple', 'melon', 'blueberry'] \n",
    "i = 0\n",
    "for fr in fruits:\n",
    "    print(fr)\n",
    "    print(fr[i+1:])\n",
    "    i = i + 1  "
   ]
  },
  {
   "cell_type": "code",
   "execution_count": 24,
   "metadata": {},
   "outputs": [
    {
     "name": "stdout",
     "output_type": "stream",
     "text": [
      "^^^^^\n"
     ]
    }
   ],
   "source": [
    "# 13. 올바른 출력 결과문을 고르시오.\n",
    "# 0.0/4.0점 (성적반영)\n",
    "# (8) 조건문, 문자열\n",
    "fruits ='blueberry'\n",
    "raw = 'strawberry' \n",
    "if raw[3:] in fruits :\n",
    "    print(\"+++++\") \n",
    "else :\n",
    "    print(\"^^^^^\") "
   ]
  },
  {
   "cell_type": "code",
   "execution_count": 25,
   "metadata": {},
   "outputs": [
    {
     "name": "stdout",
     "output_type": "stream",
     "text": [
      "3  -  4  +  6  =  5\n",
      "5  -  6  +  8  =  7\n",
      "7  -  8  +  10  =  9\n",
      "9  -  10  +  12  =  11\n",
      "11  -  12  +  14  =  13\n",
      "13  -  14  +  16  =  15\n"
     ]
    }
   ],
   "source": [
    "# 14. 올바른 출력 결과문을 고르시오.\n",
    "# 0.0/4.0점 (성적반영)\n",
    "# (9) 함수\n",
    "def what(i, j, k) :\n",
    "    return i-j+k\n",
    "\n",
    "for i in range(3, 15, 2) :\n",
    "    print( i, \" - \" , i+1, \" + \" , i+3, \" = \", what(i, i+1, i+3))"
   ]
  },
  {
   "cell_type": "code",
   "execution_count": 27,
   "metadata": {},
   "outputs": [
    {
     "name": "stdout",
     "output_type": "stream",
     "text": [
      "('N', 'o', 'v', 'e', 'm', 'b', 'e', 'r')\n"
     ]
    },
    {
     "data": {
      "text/plain": [
       "[('M', 'C'),\n",
       " ('o', 'h'),\n",
       " ('n', 'u'),\n",
       " ('g', 'n'),\n",
       " ('r', 'h'),\n",
       " ('y', 'y'),\n",
       " ('o', 'a'),\n",
       " ('n', 'n'),\n",
       " ('g', 'g')]"
      ]
     },
     "execution_count": 27,
     "metadata": {},
     "output_type": "execute_result"
    }
   ],
   "source": [
    "# 15. 올바른 출력 결과문을 고르시오.\n",
    "# 0.0/4.0점 (성적반영)\n",
    "# (10) tuple\n",
    "t = tuple('November')\n",
    "print(t)\n",
    "list( zip( 'Mongryong', 'Chunhyang') )"
   ]
  },
  {
   "cell_type": "code",
   "execution_count": 29,
   "metadata": {},
   "outputs": [
    {
     "name": "stdout",
     "output_type": "stream",
     "text": [
      "result= 3\n",
      "result= 7\n",
      "result= 12\n",
      "result= 5\n",
      "result= 11\n",
      "result= 18\n",
      "result= 7\n",
      "result= 15\n",
      "result= 24\n"
     ]
    }
   ],
   "source": [
    "# 16. 제시된 파이썬 코드의 출력 결과물을 고르시오.\n",
    "# 0.0/5.0점 (성적반영)\n",
    "# (1) 중첩 반복문\n",
    "for i in range( 1, 6, 2 ): \n",
    "    s = 0\n",
    "    for j in range( 2, 5 ):\n",
    "        s = s + i + j\n",
    "        print('result=', s) "
   ]
  },
  {
   "cell_type": "code",
   "execution_count": 30,
   "metadata": {},
   "outputs": [
    {
     "name": "stdout",
     "output_type": "stream",
     "text": [
      "O\n",
      "r\n",
      "a\n",
      "n\n",
      "g\n",
      "e\n",
      "OOO\n",
      "rrr\n",
      "aaa\n",
      "nnn\n",
      "ggg\n",
      "eee\n",
      "result =  4\n"
     ]
    }
   ],
   "source": [
    "# 17. 제시된 파이썬 코드의 출력 결과물을 고르시오.\n",
    "# 0.0/5.0점 (성적반영)\n",
    "# (2) 중첩반복문\n",
    "s = 0\n",
    "for i in range(1,5,2) :\n",
    "    s = s + i\n",
    "    for ch in 'Orange' :\n",
    "        print(ch * i)\n",
    "print('result = ', s)"
   ]
  },
  {
   "cell_type": "code",
   "execution_count": 31,
   "metadata": {},
   "outputs": [
    {
     "name": "stdout",
     "output_type": "stream",
     "text": [
      "1\n",
      "6\n",
      "12\n"
     ]
    }
   ],
   "source": [
    "# 18. 제시된 파이썬 코드의 출력 결과물을 고르시오.\n",
    "# 0.0/5.0점 (성적반영)\n",
    "# (3) .find\n",
    "word = 'very very thick'\n",
    "print(word.find('er'))\n",
    "print(word.find('er', 4))\n",
    "print(word.find('ic', 3, 15))"
   ]
  },
  {
   "cell_type": "code",
   "execution_count": 33,
   "metadata": {},
   "outputs": [
    {
     "name": "stdout",
     "output_type": "stream",
     "text": [
      "['The', 'Brave', 'gets', 'the', 'Beauty']\n",
      "['T', 'h', 'e', ' ', 'B', 'r', 'a', 'v', 'e', ' ', 'g', 'e', 't', 's', ' ', 't', 'h', 'e', ' ', 'B', 'e', 'a', 'u', 't', 'y']\n"
     ]
    }
   ],
   "source": [
    "# 19. 제시된 파이썬 코드의 출력 결과물을 고르시오.\n",
    "# 0.0/5.0점 (성적반영)\n",
    "# (4) 리스트\n",
    "s = 'The Brave gets the Beauty'\n",
    "t = s.split()\n",
    "print(t)\n",
    "u = list(s)\n",
    "print(u)"
   ]
  },
  {
   "cell_type": "code",
   "execution_count": 34,
   "metadata": {},
   "outputs": [
    {
     "name": "stdout",
     "output_type": "stream",
     "text": [
      "i\n",
      "n\n",
      "a\n",
      "t\n",
      "i\n",
      "n\n"
     ]
    }
   ],
   "source": [
    "# 20. 제시된 파이썬 코드의 출력 결과물을 고르시오.\n",
    "# 0.0/5.0점 (성적반영)\n",
    "# (5) 함수\n",
    "def what(word1, word2) :\n",
    "    for letter in word1 :\n",
    "        if letter not in word2 :\n",
    "            print(letter)\n",
    "what( 'information', 'reform')"
   ]
  },
  {
   "cell_type": "code",
   "execution_count": 35,
   "metadata": {},
   "outputs": [
    {
     "name": "stdout",
     "output_type": "stream",
     "text": [
      "46.0\n"
     ]
    }
   ],
   "source": [
    "# 21. 제시된 파이썬 코드의 출력 결과물을 고르시오.\n",
    "# 0.0/5.0점 (성적반영)\n",
    "# (6) 함수, math\n",
    "import math\n",
    "def what(n) :\n",
    "    sum = 1.0\n",
    "    for i in range(n+1):\n",
    "        sum = sum + math.factorial(i)\n",
    "    return sum \n",
    "print(what(3) + what(4))  "
   ]
  },
  {
   "cell_type": "code",
   "execution_count": 37,
   "metadata": {},
   "outputs": [
    {
     "name": "stdout",
     "output_type": "stream",
     "text": [
      "[0, 1, 4]\n",
      "[0, 2, 4, 5, 6]\n"
     ]
    }
   ],
   "source": [
    "# 22. 제시된 파이썬 코드의 출력 결과물을 고르시오.\n",
    "# 0.0/5.0점 (성적반영)\n",
    "# (7) 함수, 리스트\n",
    "def N_f(listname,string):\n",
    "    list_index=[]\n",
    "    for i in range(len(listname)):\n",
    "        if listname[i].find(string) >=0 :\n",
    "            list_index.append(i)\n",
    "    if len(list_index) == 0 :\n",
    "        return -1\n",
    "    else:\n",
    "        return list_index\n",
    "\n",
    "fr=['apple', 'banana', 'blueberry', 'citrus', 'grapefruit', 'lemon', 'melon']\n",
    "print(N_f(fr, 'a'))\n",
    "print(N_f(fr, 'e'))"
   ]
  },
  {
   "cell_type": "code",
   "execution_count": 38,
   "metadata": {},
   "outputs": [
    {
     "name": "stdout",
     "output_type": "stream",
     "text": [
      "result :   1657\n"
     ]
    }
   ],
   "source": [
    "# 23. 제시된 파이썬 코드의 출력 결과물을 고르시오.\n",
    "# 0.0/5.0점 (성적반영)\n",
    "# (8) datetime\n",
    "from datetime import date\n",
    "today = date.today()                  # 오늘 날짜는 2018년 12월 03일이라고 가정한다\n",
    "birthday = date(2017, 12, 1)\n",
    "due = today - birthday\n",
    "print(\"result :  \", due.days) "
   ]
  },
  {
   "cell_type": "code",
   "execution_count": 42,
   "metadata": {},
   "outputs": [
    {
     "ename": "FileNotFoundError",
     "evalue": "[Errno 2] No such file or directory: 'number.txt'",
     "output_type": "error",
     "traceback": [
      "\u001b[1;31m---------------------------------------------------------------------------\u001b[0m",
      "\u001b[1;31mFileNotFoundError\u001b[0m                         Traceback (most recent call last)",
      "\u001b[1;32m<ipython-input-42-5131c4db0884>\u001b[0m in \u001b[0;36m<module>\u001b[1;34m\u001b[0m\n\u001b[0;32m      3\u001b[0m \u001b[1;31m# (9) 화일입출력\u001b[0m\u001b[1;33m\u001b[0m\u001b[1;33m\u001b[0m\u001b[1;33m\u001b[0m\u001b[0m\n\u001b[0;32m      4\u001b[0m \u001b[1;31m# contents of “number.txt”       1  3  4  7  9  12  15  18  20\u001b[0m\u001b[1;33m\u001b[0m\u001b[1;33m\u001b[0m\u001b[1;33m\u001b[0m\u001b[0m\n\u001b[1;32m----> 5\u001b[1;33m \u001b[0minf\u001b[0m \u001b[1;33m=\u001b[0m \u001b[0mopen\u001b[0m\u001b[1;33m(\u001b[0m\u001b[1;34m'number.txt'\u001b[0m\u001b[1;33m)\u001b[0m\u001b[1;33m\u001b[0m\u001b[1;33m\u001b[0m\u001b[0m\n\u001b[0m\u001b[0;32m      6\u001b[0m \u001b[0mn\u001b[0m \u001b[1;33m=\u001b[0m \u001b[0minf\u001b[0m\u001b[1;33m.\u001b[0m\u001b[0mreadline\u001b[0m\u001b[1;33m(\u001b[0m\u001b[1;33m)\u001b[0m\u001b[1;33m\u001b[0m\u001b[1;33m\u001b[0m\u001b[0m\n\u001b[0;32m      7\u001b[0m \u001b[0mnlist\u001b[0m \u001b[1;33m=\u001b[0m \u001b[0mn\u001b[0m\u001b[1;33m.\u001b[0m\u001b[0msplit\u001b[0m\u001b[1;33m(\u001b[0m\u001b[1;33m)\u001b[0m\u001b[1;33m\u001b[0m\u001b[1;33m\u001b[0m\u001b[0m\n",
      "\u001b[1;31mFileNotFoundError\u001b[0m: [Errno 2] No such file or directory: 'number.txt'"
     ]
    }
   ],
   "source": [
    "# 24. 제시된 파이썬 코드의 출력 결과물을 고르시오.\n",
    "# 0.0/5.0점 (성적반영)\n",
    "# (9) 화일입출력\n",
    "# contents of “number.txt”       1  3  4  7  9  12  15  18  20\n",
    "inf = open('number.txt')\n",
    "n = inf.readline()\n",
    "nlist = n.split()\n",
    "nlist\n",
    "n1 = n.lstrip(' ')\n",
    "n1  "
   ]
  },
  {
   "cell_type": "code",
   "execution_count": 44,
   "metadata": {},
   "outputs": [
    {
     "name": "stdout",
     "output_type": "stream",
     "text": [
      "{'F': 70, 'G': 65, 'I': 65, 'J': 60}\n"
     ]
    },
    {
     "data": {
      "text/plain": [
       "{'s': 1, 'c': 4, 'o': 7, 'r': 10}"
      ]
     },
     "execution_count": 44,
     "metadata": {},
     "output_type": "execute_result"
    }
   ],
   "source": [
    "# 25. 제시된 파이썬 코드의 출력 결과물을 고르시오.\n",
    "# 0.0/5.0점 (성적반영)\n",
    "# (10) dictionary\n",
    "c = {'F':75, 'G':65, 'H':75, 'I':65, 'J':60}\n",
    "c.pop('H')\n",
    "len( c )\n",
    "c['F'] = 70\n",
    "print( c )  \n",
    "t = zip('score', range(1,12,3))\n",
    "dict(t)  "
   ]
  },
  {
   "cell_type": "code",
   "execution_count": null,
   "metadata": {},
   "outputs": [],
   "source": []
  }
 ],
 "metadata": {
  "kernelspec": {
   "display_name": "Python 3",
   "language": "python",
   "name": "python3"
  },
  "language_info": {
   "codemirror_mode": {
    "name": "ipython",
    "version": 3
   },
   "file_extension": ".py",
   "mimetype": "text/x-python",
   "name": "python",
   "nbconvert_exporter": "python",
   "pygments_lexer": "ipython3",
   "version": "3.7.3"
  }
 },
 "nbformat": 4,
 "nbformat_minor": 2
}
