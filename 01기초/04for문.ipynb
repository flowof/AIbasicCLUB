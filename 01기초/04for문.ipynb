{
 "cells": [
  {
   "cell_type": "markdown",
   "metadata": {},
   "source": [
    "# 반복문 1번 문제\n",
    "- [4,5,19,26,29,43]를 리스트에 저장하고, for 문을 이용하여 출력하세요.\n",
    "저장된 list에 포함된 숫자의 제곱 값을 출력하세요."
   ]
  },
  {
   "cell_type": "code",
   "execution_count": null,
   "metadata": {},
   "outputs": [],
   "source": []
  },
  {
   "cell_type": "code",
   "execution_count": 1,
   "metadata": {},
   "outputs": [
    {
     "name": "stdout",
     "output_type": "stream",
     "text": [
      "i = 4\n",
      "i 제곱 =  16\n",
      "i = 5\n",
      "i 제곱 =  25\n",
      "i = 19\n",
      "i 제곱 =  361\n",
      "i = 26\n",
      "i 제곱 =  676\n",
      "i = 49\n",
      "i 제곱 =  2401\n",
      "i = 43\n",
      "i 제곱 =  1849\n"
     ]
    }
   ],
   "source": [
    "a = [4, 5, 19, 26, 49, 43]\n",
    "\n",
    "for i in a :\n",
    "    print(\"i =\", i)\n",
    "    print(\"i 제곱 = \", i**2)"
   ]
  },
  {
   "cell_type": "markdown",
   "metadata": {},
   "source": [
    "# 반복문 2번 문제\n",
    "- for, range, in 을 이용하여 1~ 30 사이에 포함된 4의 배수를 출력하세요"
   ]
  },
  {
   "cell_type": "code",
   "execution_count": 2,
   "metadata": {},
   "outputs": [
    {
     "name": "stdout",
     "output_type": "stream",
     "text": [
      "i= 4\n",
      "i의 제곱 =  16\n",
      "i= 8\n",
      "i의 제곱 =  64\n",
      "i= 12\n",
      "i의 제곱 =  144\n",
      "i= 16\n",
      "i의 제곱 =  256\n",
      "i= 20\n",
      "i의 제곱 =  400\n",
      "i= 24\n",
      "i의 제곱 =  576\n",
      "i= 28\n",
      "i의 제곱 =  784\n"
     ]
    }
   ],
   "source": [
    "for i in range(1, 30, 1) :\n",
    "    if i%4 == 0:\n",
    "        print(\"i=\", i)\n",
    "        print(\"i의 제곱 = \", i**2)"
   ]
  },
  {
   "attachments": {
    "image.png": {
     "image/png": "[encoded data removed]"
    }
   },
   "cell_type": "markdown",
   "metadata": {},
   "source": [
    "# 반복문 3번 문제\n",
    "![image.png](attachment:image.png)"
   ]
  },
  {
   "cell_type": "code",
   "execution_count": 14,
   "metadata": {},
   "outputs": [
    {
     "name": "stdout",
     "output_type": "stream",
     "text": [
      "1\n",
      "2\n",
      "3\n",
      "4\n",
      "--------\n",
      "0\n",
      "1\n",
      "2\n",
      "3\n",
      "4\n",
      "10\n",
      "8\n",
      "6\n",
      "4\n",
      "2\n",
      "--------\n",
      "-2\n",
      "-1\n",
      "0\n",
      "1\n",
      "2\n",
      "3\n",
      "--------\n",
      "-8\n",
      "-6\n",
      "-4\n",
      "-2\n",
      "0\n",
      "2\n",
      "4\n",
      "--------\n"
     ]
    }
   ],
   "source": [
    "for i in range(1,5) :\n",
    "    print(i)\n",
    "print(\"--------\")\n",
    "\n",
    "for i in range(5) :\n",
    "    print(i)\n",
    "\n",
    "for i in range(10,0,-2) :\n",
    "    print(i)\n",
    "print(\"--------\")\n",
    "\n",
    "for i in range(-2,4) :\n",
    "    print(i)\n",
    "print(\"--------\")\n",
    "\n",
    "for i in range(-8,6, 2) :\n",
    "    print(i)\n",
    "print(\"--------\")"
   ]
  },
  {
   "cell_type": "markdown",
   "metadata": {},
   "source": [
    "# 반복문 4번 문제\n",
    "- 동물 이름을 input 문을 이용하여 저장하고, 저장된 단어를 for 문을 이용하여 한 글자씩 출력하세요."
   ]
  },
  {
   "cell_type": "code",
   "execution_count": 15,
   "metadata": {},
   "outputs": [
    {
     "name": "stdout",
     "output_type": "stream",
     "text": [
      "동물 이름을 입력하세요돼지\n",
      "돼\n",
      "지\n",
      "글자 수  =  2\n"
     ]
    }
   ],
   "source": [
    "f = input(\"동물 이름을 입력하세요\")\n",
    "c = 0\n",
    "\n",
    "for a in f:\n",
    "    for fr in a:\n",
    "        print(fr)\n",
    "        c= c+1\n",
    "        \n",
    "print(\"글자 수  = \", c)"
   ]
  },
  {
   "cell_type": "code",
   "execution_count": 16,
   "metadata": {},
   "outputs": [
    {
     "name": "stdout",
     "output_type": "stream",
     "text": [
      "동물 이름을 입력하세요돼지\n",
      "돼\n",
      "지\n",
      "글자 수  =  2\n"
     ]
    }
   ],
   "source": [
    "f = input(\"동물 이름을 입력하세요\")\n",
    "c = 0\n",
    "\n",
    "for a in f:\n",
    "    for fr in a:\n",
    "        print(fr)\n",
    "    c= c+1\n",
    "        \n",
    "print(\"글자 수  = \", c)"
   ]
  },
  {
   "cell_type": "code",
   "execution_count": null,
   "metadata": {},
   "outputs": [],
   "source": [
    "f = input(\"동물 이름을 입력하세요\")\n",
    "c = 0\n",
    "\n",
    "for a in f:\n",
    "    print(\"a=\", a)\n",
    "    for fr in a:\n",
    "        print(fr)\n",
    "c= c+1\n",
    "        \n",
    "print(\"글자 수  = \", c)"
   ]
  },
  {
   "cell_type": "code",
   "execution_count": 25,
   "metadata": {},
   "outputs": [
    {
     "name": "stdout",
     "output_type": "stream",
     "text": [
      "동물 이름을 입력하세요강아지\n",
      "강\n",
      "아\n",
      "지\n",
      "글자 수  =  3\n"
     ]
    }
   ],
   "source": [
    "f = input(\"동물 이름을 입력하세요\")\n",
    "c = 0\n",
    "\n",
    "for a in f:\n",
    "    print( a)\n",
    "    c= c+1\n",
    "        \n",
    "print(\"글자 수  = \", c)"
   ]
  },
  {
   "cell_type": "markdown",
   "metadata": {},
   "source": [
    "# 반복문 5번 문제\n",
    "- for을 이용하여 $를 첫 번째 라인에는 하나 , 두 번째 라인에는 2개, 한 라인당 하나씩 증가시키면서 8 번째 라인까지 $를 출력하세요.\n",
    "반대로 8 번째 라인부터 첫 번째 라인까지 출력하세요."
   ]
  },
  {
   "cell_type": "code",
   "execution_count": 30,
   "metadata": {},
   "outputs": [
    {
     "name": "stdout",
     "output_type": "stream",
     "text": [
      "*\n",
      "**\n",
      "***\n",
      "****\n",
      "*****\n",
      "******\n",
      "*******\n"
     ]
    }
   ],
   "source": [
    "i = 0\n",
    "\n",
    "for i in range(1,8) :\n",
    "    print(\"*\" *  i)"
   ]
  },
  {
   "cell_type": "code",
   "execution_count": 31,
   "metadata": {},
   "outputs": [
    {
     "name": "stdout",
     "output_type": "stream",
     "text": [
      "********\n",
      "*******\n",
      "******\n",
      "*****\n",
      "****\n",
      "***\n",
      "**\n",
      "*\n"
     ]
    }
   ],
   "source": [
    "i = 0\n",
    "\n",
    "for i in range(8,0, -1) :\n",
    "    print(\"*\" *  i)"
   ]
  },
  {
   "cell_type": "markdown",
   "metadata": {},
   "source": [
    "# 반복문 6번 문제\n",
    "- input 문을 사용하여 사용자에게 입력할 구구단을 입력 받고, 입력 받은 구구단까지 출력하세요. "
   ]
  },
  {
   "cell_type": "code",
   "execution_count": 35,
   "metadata": {},
   "outputs": [
    {
     "name": "stdout",
     "output_type": "stream",
     "text": [
      "희망 구구단을 입력하세요8\n",
      "=============\n",
      "8 * 1 = i*j\n",
      "8 * 2 = i*j\n",
      "8 * 3 = i*j\n",
      "8 * 4 = i*j\n",
      "8 * 5 = i*j\n",
      "8 * 6 = i*j\n",
      "8 * 7 = i*j\n",
      "8 * 8 = i*j\n",
      "8 * 9 = i*j\n",
      "=============\n",
      "9 * 1 = i*j\n",
      "9 * 2 = i*j\n",
      "9 * 3 = i*j\n",
      "9 * 4 = i*j\n",
      "9 * 5 = i*j\n",
      "9 * 6 = i*j\n",
      "9 * 7 = i*j\n",
      "9 * 8 = i*j\n",
      "9 * 9 = i*j\n"
     ]
    }
   ],
   "source": [
    "n = int(input(\"희망 구구단을 입력하세요\"))\n",
    "\n",
    "for  i in range(n, 10):\n",
    "    print(\"=============\")\n",
    "    for j in range(1,10) : \n",
    "        \n",
    "        print(i,\"*\", j, \"=\", i*j)"
   ]
  },
  {
   "cell_type": "code",
   "execution_count": 38,
   "metadata": {},
   "outputs": [
    {
     "name": "stdout",
     "output_type": "stream",
     "text": [
      "희망 구구단을 입력하세요4\n",
      "=============\n",
      "2 * 1 = 2\n",
      "2 * 2 = 4\n",
      "2 * 3 = 6\n",
      "2 * 4 = 8\n",
      "2 * 5 = 10\n",
      "2 * 6 = 12\n",
      "2 * 7 = 14\n",
      "2 * 8 = 16\n",
      "2 * 9 = 18\n",
      "=============\n",
      "3 * 1 = 3\n",
      "3 * 2 = 6\n",
      "3 * 3 = 9\n",
      "3 * 4 = 12\n",
      "3 * 5 = 15\n",
      "3 * 6 = 18\n",
      "3 * 7 = 21\n",
      "3 * 8 = 24\n",
      "3 * 9 = 27\n",
      "=============\n",
      "4 * 1 = 4\n",
      "4 * 2 = 8\n",
      "4 * 3 = 12\n",
      "4 * 4 = 16\n",
      "4 * 5 = 20\n",
      "4 * 6 = 24\n",
      "4 * 7 = 28\n",
      "4 * 8 = 32\n",
      "4 * 9 = 36\n"
     ]
    }
   ],
   "source": [
    "n = int(input(\"희망 구구단을 입력하세요\"))\n",
    "\n",
    "for  i in range(2, n+1):\n",
    "    print(\"=============\")\n",
    "    for j in range(1,10) : \n",
    "        \n",
    "        print(i,\"*\", j, \"=\", i*j)"
   ]
  }
 ],
 "metadata": {
  "kernelspec": {
   "display_name": "Python 3",
   "language": "python",
   "name": "python3"
  },
  "language_info": {
   "codemirror_mode": {
    "name": "ipython",
    "version": 3
   },
   "file_extension": ".py",
   "mimetype": "text/x-python",
   "name": "python",
   "nbconvert_exporter": "python",
   "pygments_lexer": "ipython3",
   "version": "3.7.3"
  }
 },
 "nbformat": 4,
 "nbformat_minor": 2
}
